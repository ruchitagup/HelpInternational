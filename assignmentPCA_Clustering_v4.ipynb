{
 "cells": [
  {
   "cell_type": "markdown",
   "metadata": {
    "collapsed": true
   },
   "source": [
    "## NGO Help International: Clustering with PCA\n",
    "\n",
    "Find the suitable clusters of countries which are in direst need of aid. This is found out by analysing the socio economic factors of the countries."
   ]
  },
  {
   "cell_type": "markdown",
   "metadata": {},
   "source": [
    "### Importing Data"
   ]
  },
  {
   "cell_type": "code",
   "execution_count": 764,
   "metadata": {},
   "outputs": [],
   "source": [
    "# Importing Pandas and NumPy\n",
    "import pandas as pd\n",
    "import numpy as np\n",
    "import matplotlib.pyplot as plt\n",
    "import seaborn as sns"
   ]
  },
  {
   "cell_type": "code",
   "execution_count": 765,
   "metadata": {},
   "outputs": [],
   "source": [
    "# Importing all datasets\n",
    "country = pd.read_csv(\"Country-data.csv\")"
   ]
  },
  {
   "cell_type": "code",
   "execution_count": 766,
   "metadata": {},
   "outputs": [
    {
     "data": {
      "text/html": [
       "<div>\n",
       "<style scoped>\n",
       "    .dataframe tbody tr th:only-of-type {\n",
       "        vertical-align: middle;\n",
       "    }\n",
       "\n",
       "    .dataframe tbody tr th {\n",
       "        vertical-align: top;\n",
       "    }\n",
       "\n",
       "    .dataframe thead th {\n",
       "        text-align: right;\n",
       "    }\n",
       "</style>\n",
       "<table border=\"1\" class=\"dataframe\">\n",
       "  <thead>\n",
       "    <tr style=\"text-align: right;\">\n",
       "      <th></th>\n",
       "      <th>country</th>\n",
       "      <th>child_mort</th>\n",
       "      <th>exports</th>\n",
       "      <th>health</th>\n",
       "      <th>imports</th>\n",
       "      <th>income</th>\n",
       "      <th>inflation</th>\n",
       "      <th>life_expec</th>\n",
       "      <th>total_fer</th>\n",
       "      <th>gdpp</th>\n",
       "    </tr>\n",
       "  </thead>\n",
       "  <tbody>\n",
       "    <tr>\n",
       "      <th>0</th>\n",
       "      <td>Afghanistan</td>\n",
       "      <td>90.2</td>\n",
       "      <td>10.0</td>\n",
       "      <td>7.58</td>\n",
       "      <td>44.9</td>\n",
       "      <td>1610</td>\n",
       "      <td>9.44</td>\n",
       "      <td>56.2</td>\n",
       "      <td>5.82</td>\n",
       "      <td>553</td>\n",
       "    </tr>\n",
       "    <tr>\n",
       "      <th>1</th>\n",
       "      <td>Albania</td>\n",
       "      <td>16.6</td>\n",
       "      <td>28.0</td>\n",
       "      <td>6.55</td>\n",
       "      <td>48.6</td>\n",
       "      <td>9930</td>\n",
       "      <td>4.49</td>\n",
       "      <td>76.3</td>\n",
       "      <td>1.65</td>\n",
       "      <td>4090</td>\n",
       "    </tr>\n",
       "    <tr>\n",
       "      <th>2</th>\n",
       "      <td>Algeria</td>\n",
       "      <td>27.3</td>\n",
       "      <td>38.4</td>\n",
       "      <td>4.17</td>\n",
       "      <td>31.4</td>\n",
       "      <td>12900</td>\n",
       "      <td>16.10</td>\n",
       "      <td>76.5</td>\n",
       "      <td>2.89</td>\n",
       "      <td>4460</td>\n",
       "    </tr>\n",
       "    <tr>\n",
       "      <th>3</th>\n",
       "      <td>Angola</td>\n",
       "      <td>119.0</td>\n",
       "      <td>62.3</td>\n",
       "      <td>2.85</td>\n",
       "      <td>42.9</td>\n",
       "      <td>5900</td>\n",
       "      <td>22.40</td>\n",
       "      <td>60.1</td>\n",
       "      <td>6.16</td>\n",
       "      <td>3530</td>\n",
       "    </tr>\n",
       "    <tr>\n",
       "      <th>4</th>\n",
       "      <td>Antigua and Barbuda</td>\n",
       "      <td>10.3</td>\n",
       "      <td>45.5</td>\n",
       "      <td>6.03</td>\n",
       "      <td>58.9</td>\n",
       "      <td>19100</td>\n",
       "      <td>1.44</td>\n",
       "      <td>76.8</td>\n",
       "      <td>2.13</td>\n",
       "      <td>12200</td>\n",
       "    </tr>\n",
       "  </tbody>\n",
       "</table>\n",
       "</div>"
      ],
      "text/plain": [
       "               country  child_mort  exports  health  imports  income  \\\n",
       "0          Afghanistan        90.2     10.0    7.58     44.9    1610   \n",
       "1              Albania        16.6     28.0    6.55     48.6    9930   \n",
       "2              Algeria        27.3     38.4    4.17     31.4   12900   \n",
       "3               Angola       119.0     62.3    2.85     42.9    5900   \n",
       "4  Antigua and Barbuda        10.3     45.5    6.03     58.9   19100   \n",
       "\n",
       "   inflation  life_expec  total_fer   gdpp  \n",
       "0       9.44        56.2       5.82    553  \n",
       "1       4.49        76.3       1.65   4090  \n",
       "2      16.10        76.5       2.89   4460  \n",
       "3      22.40        60.1       6.16   3530  \n",
       "4       1.44        76.8       2.13  12200  "
      ]
     },
     "execution_count": 766,
     "metadata": {},
     "output_type": "execute_result"
    }
   ],
   "source": [
    "country.head()"
   ]
  },
  {
   "cell_type": "code",
   "execution_count": 767,
   "metadata": {},
   "outputs": [
    {
     "name": "stdout",
     "output_type": "stream",
     "text": [
      "167\n"
     ]
    }
   ],
   "source": [
    "print(len(country))"
   ]
  },
  {
   "cell_type": "markdown",
   "metadata": {},
   "source": [
    "### Let's understand the structure of our dataframe"
   ]
  },
  {
   "cell_type": "code",
   "execution_count": 768,
   "metadata": {},
   "outputs": [
    {
     "data": {
      "text/html": [
       "<div>\n",
       "<style scoped>\n",
       "    .dataframe tbody tr th:only-of-type {\n",
       "        vertical-align: middle;\n",
       "    }\n",
       "\n",
       "    .dataframe tbody tr th {\n",
       "        vertical-align: top;\n",
       "    }\n",
       "\n",
       "    .dataframe thead th {\n",
       "        text-align: right;\n",
       "    }\n",
       "</style>\n",
       "<table border=\"1\" class=\"dataframe\">\n",
       "  <thead>\n",
       "    <tr style=\"text-align: right;\">\n",
       "      <th></th>\n",
       "      <th>child_mort</th>\n",
       "      <th>exports</th>\n",
       "      <th>health</th>\n",
       "      <th>imports</th>\n",
       "      <th>income</th>\n",
       "      <th>inflation</th>\n",
       "      <th>life_expec</th>\n",
       "      <th>total_fer</th>\n",
       "      <th>gdpp</th>\n",
       "    </tr>\n",
       "  </thead>\n",
       "  <tbody>\n",
       "    <tr>\n",
       "      <th>count</th>\n",
       "      <td>167.000000</td>\n",
       "      <td>167.000000</td>\n",
       "      <td>167.000000</td>\n",
       "      <td>167.000000</td>\n",
       "      <td>167.000000</td>\n",
       "      <td>167.000000</td>\n",
       "      <td>167.000000</td>\n",
       "      <td>167.000000</td>\n",
       "      <td>167.000000</td>\n",
       "    </tr>\n",
       "    <tr>\n",
       "      <th>mean</th>\n",
       "      <td>38.270060</td>\n",
       "      <td>41.108976</td>\n",
       "      <td>6.815689</td>\n",
       "      <td>46.890215</td>\n",
       "      <td>17144.688623</td>\n",
       "      <td>7.781832</td>\n",
       "      <td>70.555689</td>\n",
       "      <td>2.947964</td>\n",
       "      <td>12964.155689</td>\n",
       "    </tr>\n",
       "    <tr>\n",
       "      <th>std</th>\n",
       "      <td>40.328931</td>\n",
       "      <td>27.412010</td>\n",
       "      <td>2.746837</td>\n",
       "      <td>24.209589</td>\n",
       "      <td>19278.067698</td>\n",
       "      <td>10.570704</td>\n",
       "      <td>8.893172</td>\n",
       "      <td>1.513848</td>\n",
       "      <td>18328.704809</td>\n",
       "    </tr>\n",
       "    <tr>\n",
       "      <th>min</th>\n",
       "      <td>2.600000</td>\n",
       "      <td>0.109000</td>\n",
       "      <td>1.810000</td>\n",
       "      <td>0.065900</td>\n",
       "      <td>609.000000</td>\n",
       "      <td>-4.210000</td>\n",
       "      <td>32.100000</td>\n",
       "      <td>1.150000</td>\n",
       "      <td>231.000000</td>\n",
       "    </tr>\n",
       "    <tr>\n",
       "      <th>25%</th>\n",
       "      <td>8.250000</td>\n",
       "      <td>23.800000</td>\n",
       "      <td>4.920000</td>\n",
       "      <td>30.200000</td>\n",
       "      <td>3355.000000</td>\n",
       "      <td>1.810000</td>\n",
       "      <td>65.300000</td>\n",
       "      <td>1.795000</td>\n",
       "      <td>1330.000000</td>\n",
       "    </tr>\n",
       "    <tr>\n",
       "      <th>50%</th>\n",
       "      <td>19.300000</td>\n",
       "      <td>35.000000</td>\n",
       "      <td>6.320000</td>\n",
       "      <td>43.300000</td>\n",
       "      <td>9960.000000</td>\n",
       "      <td>5.390000</td>\n",
       "      <td>73.100000</td>\n",
       "      <td>2.410000</td>\n",
       "      <td>4660.000000</td>\n",
       "    </tr>\n",
       "    <tr>\n",
       "      <th>75%</th>\n",
       "      <td>62.100000</td>\n",
       "      <td>51.350000</td>\n",
       "      <td>8.600000</td>\n",
       "      <td>58.750000</td>\n",
       "      <td>22800.000000</td>\n",
       "      <td>10.750000</td>\n",
       "      <td>76.800000</td>\n",
       "      <td>3.880000</td>\n",
       "      <td>14050.000000</td>\n",
       "    </tr>\n",
       "    <tr>\n",
       "      <th>max</th>\n",
       "      <td>208.000000</td>\n",
       "      <td>200.000000</td>\n",
       "      <td>17.900000</td>\n",
       "      <td>174.000000</td>\n",
       "      <td>125000.000000</td>\n",
       "      <td>104.000000</td>\n",
       "      <td>82.800000</td>\n",
       "      <td>7.490000</td>\n",
       "      <td>105000.000000</td>\n",
       "    </tr>\n",
       "  </tbody>\n",
       "</table>\n",
       "</div>"
      ],
      "text/plain": [
       "       child_mort     exports      health     imports         income  \\\n",
       "count  167.000000  167.000000  167.000000  167.000000     167.000000   \n",
       "mean    38.270060   41.108976    6.815689   46.890215   17144.688623   \n",
       "std     40.328931   27.412010    2.746837   24.209589   19278.067698   \n",
       "min      2.600000    0.109000    1.810000    0.065900     609.000000   \n",
       "25%      8.250000   23.800000    4.920000   30.200000    3355.000000   \n",
       "50%     19.300000   35.000000    6.320000   43.300000    9960.000000   \n",
       "75%     62.100000   51.350000    8.600000   58.750000   22800.000000   \n",
       "max    208.000000  200.000000   17.900000  174.000000  125000.000000   \n",
       "\n",
       "        inflation  life_expec   total_fer           gdpp  \n",
       "count  167.000000  167.000000  167.000000     167.000000  \n",
       "mean     7.781832   70.555689    2.947964   12964.155689  \n",
       "std     10.570704    8.893172    1.513848   18328.704809  \n",
       "min     -4.210000   32.100000    1.150000     231.000000  \n",
       "25%      1.810000   65.300000    1.795000    1330.000000  \n",
       "50%      5.390000   73.100000    2.410000    4660.000000  \n",
       "75%     10.750000   76.800000    3.880000   14050.000000  \n",
       "max    104.000000   82.800000    7.490000  105000.000000  "
      ]
     },
     "execution_count": 768,
     "metadata": {},
     "output_type": "execute_result"
    }
   ],
   "source": [
    "country.describe()"
   ]
  },
  {
   "cell_type": "code",
   "execution_count": 769,
   "metadata": {},
   "outputs": [
    {
     "name": "stdout",
     "output_type": "stream",
     "text": [
      "<class 'pandas.core.frame.DataFrame'>\n",
      "RangeIndex: 167 entries, 0 to 166\n",
      "Data columns (total 10 columns):\n",
      "country       167 non-null object\n",
      "child_mort    167 non-null float64\n",
      "exports       167 non-null float64\n",
      "health        167 non-null float64\n",
      "imports       167 non-null float64\n",
      "income        167 non-null int64\n",
      "inflation     167 non-null float64\n",
      "life_expec    167 non-null float64\n",
      "total_fer     167 non-null float64\n",
      "gdpp          167 non-null int64\n",
      "dtypes: float64(7), int64(2), object(1)\n",
      "memory usage: 13.1+ KB\n"
     ]
    }
   ],
   "source": [
    "country.info()"
   ]
  },
  {
   "cell_type": "raw",
   "metadata": {},
   "source": [
    "There are no null values."
   ]
  },
  {
   "cell_type": "code",
   "execution_count": 770,
   "metadata": {},
   "outputs": [
    {
     "data": {
      "text/plain": [
       "country       167\n",
       "child_mort    139\n",
       "exports       147\n",
       "health        147\n",
       "imports       151\n",
       "income        156\n",
       "inflation     156\n",
       "life_expec    127\n",
       "total_fer     138\n",
       "gdpp          157\n",
       "dtype: int64"
      ]
     },
     "execution_count": 770,
     "metadata": {},
     "output_type": "execute_result"
    }
   ],
   "source": [
    "country.nunique()"
   ]
  },
  {
   "cell_type": "markdown",
   "metadata": {},
   "source": [
    "Country has all unique values"
   ]
  },
  {
   "cell_type": "markdown",
   "metadata": {},
   "source": [
    "Exports, Health, inflation and imports are expressed as percentage of the total income. The are required to be converted to absolute numbers for our analysis. Now exports, health, inflation and imports would be expressed as per capita.\n"
   ]
  },
  {
   "cell_type": "code",
   "execution_count": 771,
   "metadata": {},
   "outputs": [],
   "source": [
    "country['exports']=country['exports'] * country['gdpp'] /100\n",
    "country['health']=country['health'] * country['gdpp'] /100\n",
    "country['imports']=country['imports'] * country['gdpp'] /100\n",
    "country['inflation']=country['inflation'] * country['gdpp'] /100"
   ]
  },
  {
   "cell_type": "code",
   "execution_count": 772,
   "metadata": {},
   "outputs": [
    {
     "data": {
      "text/html": [
       "<div>\n",
       "<style scoped>\n",
       "    .dataframe tbody tr th:only-of-type {\n",
       "        vertical-align: middle;\n",
       "    }\n",
       "\n",
       "    .dataframe tbody tr th {\n",
       "        vertical-align: top;\n",
       "    }\n",
       "\n",
       "    .dataframe thead th {\n",
       "        text-align: right;\n",
       "    }\n",
       "</style>\n",
       "<table border=\"1\" class=\"dataframe\">\n",
       "  <thead>\n",
       "    <tr style=\"text-align: right;\">\n",
       "      <th></th>\n",
       "      <th>country</th>\n",
       "      <th>child_mort</th>\n",
       "      <th>exports</th>\n",
       "      <th>health</th>\n",
       "      <th>imports</th>\n",
       "      <th>income</th>\n",
       "      <th>inflation</th>\n",
       "      <th>life_expec</th>\n",
       "      <th>total_fer</th>\n",
       "      <th>gdpp</th>\n",
       "    </tr>\n",
       "  </thead>\n",
       "  <tbody>\n",
       "    <tr>\n",
       "      <th>0</th>\n",
       "      <td>Afghanistan</td>\n",
       "      <td>90.2</td>\n",
       "      <td>55.30</td>\n",
       "      <td>41.9174</td>\n",
       "      <td>248.297</td>\n",
       "      <td>1610</td>\n",
       "      <td>52.2032</td>\n",
       "      <td>56.2</td>\n",
       "      <td>5.82</td>\n",
       "      <td>553</td>\n",
       "    </tr>\n",
       "    <tr>\n",
       "      <th>1</th>\n",
       "      <td>Albania</td>\n",
       "      <td>16.6</td>\n",
       "      <td>1145.20</td>\n",
       "      <td>267.8950</td>\n",
       "      <td>1987.740</td>\n",
       "      <td>9930</td>\n",
       "      <td>183.6410</td>\n",
       "      <td>76.3</td>\n",
       "      <td>1.65</td>\n",
       "      <td>4090</td>\n",
       "    </tr>\n",
       "    <tr>\n",
       "      <th>2</th>\n",
       "      <td>Algeria</td>\n",
       "      <td>27.3</td>\n",
       "      <td>1712.64</td>\n",
       "      <td>185.9820</td>\n",
       "      <td>1400.440</td>\n",
       "      <td>12900</td>\n",
       "      <td>718.0600</td>\n",
       "      <td>76.5</td>\n",
       "      <td>2.89</td>\n",
       "      <td>4460</td>\n",
       "    </tr>\n",
       "    <tr>\n",
       "      <th>3</th>\n",
       "      <td>Angola</td>\n",
       "      <td>119.0</td>\n",
       "      <td>2199.19</td>\n",
       "      <td>100.6050</td>\n",
       "      <td>1514.370</td>\n",
       "      <td>5900</td>\n",
       "      <td>790.7200</td>\n",
       "      <td>60.1</td>\n",
       "      <td>6.16</td>\n",
       "      <td>3530</td>\n",
       "    </tr>\n",
       "    <tr>\n",
       "      <th>4</th>\n",
       "      <td>Antigua and Barbuda</td>\n",
       "      <td>10.3</td>\n",
       "      <td>5551.00</td>\n",
       "      <td>735.6600</td>\n",
       "      <td>7185.800</td>\n",
       "      <td>19100</td>\n",
       "      <td>175.6800</td>\n",
       "      <td>76.8</td>\n",
       "      <td>2.13</td>\n",
       "      <td>12200</td>\n",
       "    </tr>\n",
       "  </tbody>\n",
       "</table>\n",
       "</div>"
      ],
      "text/plain": [
       "               country  child_mort  exports    health   imports  income  \\\n",
       "0          Afghanistan        90.2    55.30   41.9174   248.297    1610   \n",
       "1              Albania        16.6  1145.20  267.8950  1987.740    9930   \n",
       "2              Algeria        27.3  1712.64  185.9820  1400.440   12900   \n",
       "3               Angola       119.0  2199.19  100.6050  1514.370    5900   \n",
       "4  Antigua and Barbuda        10.3  5551.00  735.6600  7185.800   19100   \n",
       "\n",
       "   inflation  life_expec  total_fer   gdpp  \n",
       "0    52.2032        56.2       5.82    553  \n",
       "1   183.6410        76.3       1.65   4090  \n",
       "2   718.0600        76.5       2.89   4460  \n",
       "3   790.7200        60.1       6.16   3530  \n",
       "4   175.6800        76.8       2.13  12200  "
      ]
     },
     "execution_count": 772,
     "metadata": {},
     "output_type": "execute_result"
    }
   ],
   "source": [
    "country.head()"
   ]
  },
  {
   "cell_type": "code",
   "execution_count": 773,
   "metadata": {},
   "outputs": [
    {
     "data": {
      "text/html": [
       "<div>\n",
       "<style scoped>\n",
       "    .dataframe tbody tr th:only-of-type {\n",
       "        vertical-align: middle;\n",
       "    }\n",
       "\n",
       "    .dataframe tbody tr th {\n",
       "        vertical-align: top;\n",
       "    }\n",
       "\n",
       "    .dataframe thead th {\n",
       "        text-align: right;\n",
       "    }\n",
       "</style>\n",
       "<table border=\"1\" class=\"dataframe\">\n",
       "  <thead>\n",
       "    <tr style=\"text-align: right;\">\n",
       "      <th></th>\n",
       "      <th>child_mort</th>\n",
       "      <th>exports</th>\n",
       "      <th>health</th>\n",
       "      <th>imports</th>\n",
       "      <th>income</th>\n",
       "      <th>inflation</th>\n",
       "      <th>life_expec</th>\n",
       "      <th>total_fer</th>\n",
       "      <th>gdpp</th>\n",
       "    </tr>\n",
       "  </thead>\n",
       "  <tbody>\n",
       "    <tr>\n",
       "      <th>count</th>\n",
       "      <td>167.000000</td>\n",
       "      <td>167.000000</td>\n",
       "      <td>167.000000</td>\n",
       "      <td>167.000000</td>\n",
       "      <td>167.000000</td>\n",
       "      <td>167.000000</td>\n",
       "      <td>167.000000</td>\n",
       "      <td>167.000000</td>\n",
       "      <td>167.000000</td>\n",
       "    </tr>\n",
       "    <tr>\n",
       "      <th>mean</th>\n",
       "      <td>38.270060</td>\n",
       "      <td>7420.618847</td>\n",
       "      <td>1056.733204</td>\n",
       "      <td>6588.352108</td>\n",
       "      <td>17144.688623</td>\n",
       "      <td>582.015926</td>\n",
       "      <td>70.555689</td>\n",
       "      <td>2.947964</td>\n",
       "      <td>12964.155689</td>\n",
       "    </tr>\n",
       "    <tr>\n",
       "      <th>std</th>\n",
       "      <td>40.328931</td>\n",
       "      <td>17973.885795</td>\n",
       "      <td>1801.408906</td>\n",
       "      <td>14710.810418</td>\n",
       "      <td>19278.067698</td>\n",
       "      <td>1142.781166</td>\n",
       "      <td>8.893172</td>\n",
       "      <td>1.513848</td>\n",
       "      <td>18328.704809</td>\n",
       "    </tr>\n",
       "    <tr>\n",
       "      <th>min</th>\n",
       "      <td>2.600000</td>\n",
       "      <td>1.076920</td>\n",
       "      <td>12.821200</td>\n",
       "      <td>0.651092</td>\n",
       "      <td>609.000000</td>\n",
       "      <td>-1568.140000</td>\n",
       "      <td>32.100000</td>\n",
       "      <td>1.150000</td>\n",
       "      <td>231.000000</td>\n",
       "    </tr>\n",
       "    <tr>\n",
       "      <th>25%</th>\n",
       "      <td>8.250000</td>\n",
       "      <td>447.140000</td>\n",
       "      <td>78.535500</td>\n",
       "      <td>640.215000</td>\n",
       "      <td>3355.000000</td>\n",
       "      <td>61.205000</td>\n",
       "      <td>65.300000</td>\n",
       "      <td>1.795000</td>\n",
       "      <td>1330.000000</td>\n",
       "    </tr>\n",
       "    <tr>\n",
       "      <th>50%</th>\n",
       "      <td>19.300000</td>\n",
       "      <td>1777.440000</td>\n",
       "      <td>321.886000</td>\n",
       "      <td>2045.580000</td>\n",
       "      <td>9960.000000</td>\n",
       "      <td>184.764000</td>\n",
       "      <td>73.100000</td>\n",
       "      <td>2.410000</td>\n",
       "      <td>4660.000000</td>\n",
       "    </tr>\n",
       "    <tr>\n",
       "      <th>75%</th>\n",
       "      <td>62.100000</td>\n",
       "      <td>7278.000000</td>\n",
       "      <td>976.940000</td>\n",
       "      <td>7719.600000</td>\n",
       "      <td>22800.000000</td>\n",
       "      <td>587.385000</td>\n",
       "      <td>76.800000</td>\n",
       "      <td>3.880000</td>\n",
       "      <td>14050.000000</td>\n",
       "    </tr>\n",
       "    <tr>\n",
       "      <th>max</th>\n",
       "      <td>208.000000</td>\n",
       "      <td>183750.000000</td>\n",
       "      <td>8663.600000</td>\n",
       "      <td>149100.000000</td>\n",
       "      <td>125000.000000</td>\n",
       "      <td>6196.500000</td>\n",
       "      <td>82.800000</td>\n",
       "      <td>7.490000</td>\n",
       "      <td>105000.000000</td>\n",
       "    </tr>\n",
       "  </tbody>\n",
       "</table>\n",
       "</div>"
      ],
      "text/plain": [
       "       child_mort        exports       health        imports         income  \\\n",
       "count  167.000000     167.000000   167.000000     167.000000     167.000000   \n",
       "mean    38.270060    7420.618847  1056.733204    6588.352108   17144.688623   \n",
       "std     40.328931   17973.885795  1801.408906   14710.810418   19278.067698   \n",
       "min      2.600000       1.076920    12.821200       0.651092     609.000000   \n",
       "25%      8.250000     447.140000    78.535500     640.215000    3355.000000   \n",
       "50%     19.300000    1777.440000   321.886000    2045.580000    9960.000000   \n",
       "75%     62.100000    7278.000000   976.940000    7719.600000   22800.000000   \n",
       "max    208.000000  183750.000000  8663.600000  149100.000000  125000.000000   \n",
       "\n",
       "         inflation  life_expec   total_fer           gdpp  \n",
       "count   167.000000  167.000000  167.000000     167.000000  \n",
       "mean    582.015926   70.555689    2.947964   12964.155689  \n",
       "std    1142.781166    8.893172    1.513848   18328.704809  \n",
       "min   -1568.140000   32.100000    1.150000     231.000000  \n",
       "25%      61.205000   65.300000    1.795000    1330.000000  \n",
       "50%     184.764000   73.100000    2.410000    4660.000000  \n",
       "75%     587.385000   76.800000    3.880000   14050.000000  \n",
       "max    6196.500000   82.800000    7.490000  105000.000000  "
      ]
     },
     "execution_count": 773,
     "metadata": {},
     "output_type": "execute_result"
    }
   ],
   "source": [
    "country.describe()"
   ]
  },
  {
   "cell_type": "markdown",
   "metadata": {},
   "source": [
    "Since the various coloumns have different scales. We need to standardize the data."
   ]
  },
  {
   "cell_type": "markdown",
   "metadata": {},
   "source": [
    "### Data Preparation"
   ]
  },
  {
   "cell_type": "markdown",
   "metadata": {},
   "source": [
    "### Feature Standardisation"
   ]
  },
  {
   "cell_type": "code",
   "execution_count": 774,
   "metadata": {},
   "outputs": [],
   "source": [
    "# Normalising continuous features\n",
    "df = country.drop(['country'], axis=1)"
   ]
  },
  {
   "cell_type": "code",
   "execution_count": 775,
   "metadata": {},
   "outputs": [
    {
     "data": {
      "text/html": [
       "<div>\n",
       "<style scoped>\n",
       "    .dataframe tbody tr th:only-of-type {\n",
       "        vertical-align: middle;\n",
       "    }\n",
       "\n",
       "    .dataframe tbody tr th {\n",
       "        vertical-align: top;\n",
       "    }\n",
       "\n",
       "    .dataframe thead th {\n",
       "        text-align: right;\n",
       "    }\n",
       "</style>\n",
       "<table border=\"1\" class=\"dataframe\">\n",
       "  <thead>\n",
       "    <tr style=\"text-align: right;\">\n",
       "      <th></th>\n",
       "      <th>country</th>\n",
       "      <th>child_mort</th>\n",
       "      <th>exports</th>\n",
       "      <th>health</th>\n",
       "      <th>imports</th>\n",
       "      <th>income</th>\n",
       "      <th>inflation</th>\n",
       "      <th>life_expec</th>\n",
       "      <th>total_fer</th>\n",
       "      <th>gdpp</th>\n",
       "    </tr>\n",
       "  </thead>\n",
       "  <tbody>\n",
       "    <tr>\n",
       "      <th>0</th>\n",
       "      <td>Afghanistan</td>\n",
       "      <td>1.287660</td>\n",
       "      <td>-0.409779</td>\n",
       "      <td>-0.563346</td>\n",
       "      <td>-0.430979</td>\n",
       "      <td>-0.805822</td>\n",
       "      <td>-0.463617</td>\n",
       "      <td>-1.614237</td>\n",
       "      <td>1.897176</td>\n",
       "      <td>-0.677143</td>\n",
       "    </tr>\n",
       "    <tr>\n",
       "      <th>1</th>\n",
       "      <td>Albania</td>\n",
       "      <td>-0.537333</td>\n",
       "      <td>-0.349141</td>\n",
       "      <td>-0.437901</td>\n",
       "      <td>-0.312737</td>\n",
       "      <td>-0.374243</td>\n",
       "      <td>-0.348601</td>\n",
       "      <td>0.645924</td>\n",
       "      <td>-0.857394</td>\n",
       "      <td>-0.484167</td>\n",
       "    </tr>\n",
       "    <tr>\n",
       "      <th>2</th>\n",
       "      <td>Algeria</td>\n",
       "      <td>-0.272015</td>\n",
       "      <td>-0.317571</td>\n",
       "      <td>-0.483372</td>\n",
       "      <td>-0.352660</td>\n",
       "      <td>-0.220182</td>\n",
       "      <td>0.119046</td>\n",
       "      <td>0.668413</td>\n",
       "      <td>-0.038289</td>\n",
       "      <td>-0.463980</td>\n",
       "    </tr>\n",
       "    <tr>\n",
       "      <th>3</th>\n",
       "      <td>Angola</td>\n",
       "      <td>2.001787</td>\n",
       "      <td>-0.290501</td>\n",
       "      <td>-0.530767</td>\n",
       "      <td>-0.344915</td>\n",
       "      <td>-0.583289</td>\n",
       "      <td>0.182628</td>\n",
       "      <td>-1.175698</td>\n",
       "      <td>2.121770</td>\n",
       "      <td>-0.514720</td>\n",
       "    </tr>\n",
       "    <tr>\n",
       "      <th>4</th>\n",
       "      <td>Antigua and Barbuda</td>\n",
       "      <td>-0.693548</td>\n",
       "      <td>-0.104019</td>\n",
       "      <td>-0.178234</td>\n",
       "      <td>0.040613</td>\n",
       "      <td>0.101427</td>\n",
       "      <td>-0.355568</td>\n",
       "      <td>0.702147</td>\n",
       "      <td>-0.540321</td>\n",
       "      <td>-0.041692</td>\n",
       "    </tr>\n",
       "  </tbody>\n",
       "</table>\n",
       "</div>"
      ],
      "text/plain": [
       "               country  child_mort   exports    health   imports    income  \\\n",
       "0          Afghanistan    1.287660 -0.409779 -0.563346 -0.430979 -0.805822   \n",
       "1              Albania   -0.537333 -0.349141 -0.437901 -0.312737 -0.374243   \n",
       "2              Algeria   -0.272015 -0.317571 -0.483372 -0.352660 -0.220182   \n",
       "3               Angola    2.001787 -0.290501 -0.530767 -0.344915 -0.583289   \n",
       "4  Antigua and Barbuda   -0.693548 -0.104019 -0.178234  0.040613  0.101427   \n",
       "\n",
       "   inflation  life_expec  total_fer      gdpp  \n",
       "0  -0.463617   -1.614237   1.897176 -0.677143  \n",
       "1  -0.348601    0.645924  -0.857394 -0.484167  \n",
       "2   0.119046    0.668413  -0.038289 -0.463980  \n",
       "3   0.182628   -1.175698   2.121770 -0.514720  \n",
       "4  -0.355568    0.702147  -0.540321 -0.041692  "
      ]
     },
     "execution_count": 775,
     "metadata": {},
     "output_type": "execute_result"
    }
   ],
   "source": [
    "normal_df=(df-df.mean())/df.std()\n",
    "df_c = country[['country']]\n",
    "df = pd.concat([df_c,normal_df],axis=1)\n",
    "df.head()"
   ]
  },
  {
   "cell_type": "code",
   "execution_count": 776,
   "metadata": {},
   "outputs": [
    {
     "data": {
      "text/html": [
       "<div>\n",
       "<style scoped>\n",
       "    .dataframe tbody tr th:only-of-type {\n",
       "        vertical-align: middle;\n",
       "    }\n",
       "\n",
       "    .dataframe tbody tr th {\n",
       "        vertical-align: top;\n",
       "    }\n",
       "\n",
       "    .dataframe thead th {\n",
       "        text-align: right;\n",
       "    }\n",
       "</style>\n",
       "<table border=\"1\" class=\"dataframe\">\n",
       "  <thead>\n",
       "    <tr style=\"text-align: right;\">\n",
       "      <th></th>\n",
       "      <th>child_mort</th>\n",
       "      <th>exports</th>\n",
       "      <th>health</th>\n",
       "      <th>imports</th>\n",
       "      <th>income</th>\n",
       "      <th>inflation</th>\n",
       "      <th>life_expec</th>\n",
       "      <th>total_fer</th>\n",
       "      <th>gdpp</th>\n",
       "    </tr>\n",
       "  </thead>\n",
       "  <tbody>\n",
       "    <tr>\n",
       "      <th>count</th>\n",
       "      <td>1.670000e+02</td>\n",
       "      <td>1.670000e+02</td>\n",
       "      <td>1.670000e+02</td>\n",
       "      <td>1.670000e+02</td>\n",
       "      <td>1.670000e+02</td>\n",
       "      <td>1.670000e+02</td>\n",
       "      <td>1.670000e+02</td>\n",
       "      <td>1.670000e+02</td>\n",
       "      <td>1.670000e+02</td>\n",
       "    </tr>\n",
       "    <tr>\n",
       "      <th>mean</th>\n",
       "      <td>1.555642e-16</td>\n",
       "      <td>-2.393295e-17</td>\n",
       "      <td>1.336256e-16</td>\n",
       "      <td>1.296368e-17</td>\n",
       "      <td>-7.445807e-17</td>\n",
       "      <td>7.080165e-17</td>\n",
       "      <td>3.616535e-16</td>\n",
       "      <td>1.728491e-17</td>\n",
       "      <td>2.393295e-17</td>\n",
       "    </tr>\n",
       "    <tr>\n",
       "      <th>std</th>\n",
       "      <td>1.000000e+00</td>\n",
       "      <td>1.000000e+00</td>\n",
       "      <td>1.000000e+00</td>\n",
       "      <td>1.000000e+00</td>\n",
       "      <td>1.000000e+00</td>\n",
       "      <td>1.000000e+00</td>\n",
       "      <td>1.000000e+00</td>\n",
       "      <td>1.000000e+00</td>\n",
       "      <td>1.000000e+00</td>\n",
       "    </tr>\n",
       "    <tr>\n",
       "      <th>min</th>\n",
       "      <td>-8.844782e-01</td>\n",
       "      <td>-4.127957e-01</td>\n",
       "      <td>-5.794975e-01</td>\n",
       "      <td>-4.478136e-01</td>\n",
       "      <td>-8.577462e-01</td>\n",
       "      <td>-1.881512e+00</td>\n",
       "      <td>-4.324181e+00</td>\n",
       "      <td>-1.187678e+00</td>\n",
       "      <td>-6.947112e-01</td>\n",
       "    </tr>\n",
       "    <tr>\n",
       "      <th>25%</th>\n",
       "      <td>-7.443802e-01</td>\n",
       "      <td>-3.879784e-01</td>\n",
       "      <td>-5.430181e-01</td>\n",
       "      <td>-4.043378e-01</td>\n",
       "      <td>-7.153045e-01</td>\n",
       "      <td>-4.557399e-01</td>\n",
       "      <td>-5.909802e-01</td>\n",
       "      <td>-7.616117e-01</td>\n",
       "      <td>-6.347506e-01</td>\n",
       "    </tr>\n",
       "    <tr>\n",
       "      <th>50%</th>\n",
       "      <td>-4.703834e-01</td>\n",
       "      <td>-3.139654e-01</td>\n",
       "      <td>-4.079292e-01</td>\n",
       "      <td>-3.088050e-01</td>\n",
       "      <td>-3.726872e-01</td>\n",
       "      <td>-3.476185e-01</td>\n",
       "      <td>2.860972e-01</td>\n",
       "      <td>-3.553621e-01</td>\n",
       "      <td>-4.530683e-01</td>\n",
       "    </tr>\n",
       "    <tr>\n",
       "      <th>75%</th>\n",
       "      <td>5.908894e-01</td>\n",
       "      <td>-7.934781e-03</td>\n",
       "      <td>-4.429489e-02</td>\n",
       "      <td>7.689909e-02</td>\n",
       "      <td>2.933547e-01</td>\n",
       "      <td>4.698252e-03</td>\n",
       "      <td>7.021467e-01</td>\n",
       "      <td>6.156736e-01</td>\n",
       "      <td>5.924283e-02</td>\n",
       "    </tr>\n",
       "    <tr>\n",
       "      <th>max</th>\n",
       "      <td>4.208640e+00</td>\n",
       "      <td>9.810309e+00</td>\n",
       "      <td>4.222732e+00</td>\n",
       "      <td>9.687546e+00</td>\n",
       "      <td>5.594716e+00</td>\n",
       "      <td>4.913000e+00</td>\n",
       "      <td>1.376822e+00</td>\n",
       "      <td>3.000326e+00</td>\n",
       "      <td>5.021405e+00</td>\n",
       "    </tr>\n",
       "  </tbody>\n",
       "</table>\n",
       "</div>"
      ],
      "text/plain": [
       "         child_mort       exports        health       imports        income  \\\n",
       "count  1.670000e+02  1.670000e+02  1.670000e+02  1.670000e+02  1.670000e+02   \n",
       "mean   1.555642e-16 -2.393295e-17  1.336256e-16  1.296368e-17 -7.445807e-17   \n",
       "std    1.000000e+00  1.000000e+00  1.000000e+00  1.000000e+00  1.000000e+00   \n",
       "min   -8.844782e-01 -4.127957e-01 -5.794975e-01 -4.478136e-01 -8.577462e-01   \n",
       "25%   -7.443802e-01 -3.879784e-01 -5.430181e-01 -4.043378e-01 -7.153045e-01   \n",
       "50%   -4.703834e-01 -3.139654e-01 -4.079292e-01 -3.088050e-01 -3.726872e-01   \n",
       "75%    5.908894e-01 -7.934781e-03 -4.429489e-02  7.689909e-02  2.933547e-01   \n",
       "max    4.208640e+00  9.810309e+00  4.222732e+00  9.687546e+00  5.594716e+00   \n",
       "\n",
       "          inflation    life_expec     total_fer          gdpp  \n",
       "count  1.670000e+02  1.670000e+02  1.670000e+02  1.670000e+02  \n",
       "mean   7.080165e-17  3.616535e-16  1.728491e-17  2.393295e-17  \n",
       "std    1.000000e+00  1.000000e+00  1.000000e+00  1.000000e+00  \n",
       "min   -1.881512e+00 -4.324181e+00 -1.187678e+00 -6.947112e-01  \n",
       "25%   -4.557399e-01 -5.909802e-01 -7.616117e-01 -6.347506e-01  \n",
       "50%   -3.476185e-01  2.860972e-01 -3.553621e-01 -4.530683e-01  \n",
       "75%    4.698252e-03  7.021467e-01  6.156736e-01  5.924283e-02  \n",
       "max    4.913000e+00  1.376822e+00  3.000326e+00  5.021405e+00  "
      ]
     },
     "execution_count": 776,
     "metadata": {},
     "output_type": "execute_result"
    }
   ],
   "source": [
    "df.describe()"
   ]
  },
  {
   "cell_type": "markdown",
   "metadata": {},
   "source": [
    "Lets check the data for correlation"
   ]
  },
  {
   "cell_type": "code",
   "execution_count": 777,
   "metadata": {},
   "outputs": [
    {
     "data": {
      "image/png": "[encoded data removed]",
      "text/plain": [
       "<Figure size 432x288 with 2 Axes>"
      ]
     },
     "metadata": {
      "needs_background": "light"
     },
     "output_type": "display_data"
    }
   ],
   "source": [
    "sns.heatmap(df.corr(), annot=True)\n",
    "plt.show()"
   ]
  },
  {
   "cell_type": "markdown",
   "metadata": {},
   "source": [
    "We can see from the heatmap that there is high correlation between various variables. So PCA can be applied which will take care of correlation and also reduce the dimensionality if required."
   ]
  },
  {
   "cell_type": "markdown",
   "metadata": {},
   "source": [
    "### PCA on the data"
   ]
  },
  {
   "cell_type": "code",
   "execution_count": 778,
   "metadata": {},
   "outputs": [],
   "source": [
    "#Improting the PCA module\n",
    "from sklearn.decomposition import PCA\n",
    "pca = PCA(svd_solver='randomized', random_state=42)"
   ]
  },
  {
   "cell_type": "code",
   "execution_count": 779,
   "metadata": {},
   "outputs": [
    {
     "data": {
      "text/plain": [
       "PCA(copy=True, iterated_power='auto', n_components=None, random_state=42,\n",
       "  svd_solver='randomized', tol=0.0, whiten=False)"
      ]
     },
     "execution_count": 779,
     "metadata": {},
     "output_type": "execute_result"
    }
   ],
   "source": [
    "#Doing the PCA on the train data\n",
    "pca.fit(normal_df)"
   ]
  },
  {
   "cell_type": "code",
   "execution_count": 780,
   "metadata": {},
   "outputs": [
    {
     "data": {
      "text/plain": [
       "array([[-3.04398325e-01,  3.45234858e-01,  3.51392110e-01,\n",
       "         3.42482596e-01,  3.89766121e-01,  1.98223033e-01,\n",
       "         3.34703015e-01, -2.88627917e-01,  4.01050652e-01],\n",
       "       [ 5.06547942e-01,  3.56994215e-01,  1.11276141e-01,\n",
       "         3.21558258e-01,  1.20200492e-01,  2.24418347e-01,\n",
       "        -4.09638641e-01,  4.88316657e-01,  1.70626767e-01],\n",
       "       [-3.11368022e-02, -2.13229790e-01, -2.29352324e-01,\n",
       "        -3.20687304e-01,  2.51164094e-01,  8.56183108e-01,\n",
       "         1.98918986e-02,  2.41131156e-02, -3.17911073e-02],\n",
       "       [-1.46482725e-01,  4.30680283e-01, -6.60773681e-01,\n",
       "         4.14033682e-01, -7.11837072e-02,  9.35371833e-02,\n",
       "        -1.91072655e-02, -2.00101203e-01, -3.61648522e-01],\n",
       "       [ 2.15215488e-01, -4.81797274e-02,  7.14598575e-02,\n",
       "        -6.23594155e-02,  1.28301750e-01, -8.58217476e-03,\n",
       "        -6.19685740e-01, -7.33255405e-01,  6.44740378e-02],\n",
       "       [ 1.41410553e-01, -3.58297951e-02, -4.05526235e-01,\n",
       "        -1.78933057e-01,  7.66731683e-01, -4.04707539e-01,\n",
       "         7.29223094e-02,  1.07148226e-01,  1.17416543e-01],\n",
       "       [ 7.49647073e-01, -4.65488182e-03, -1.87827602e-02,\n",
       "         3.98782135e-02, -1.11074118e-01,  6.14022298e-02,\n",
       "         5.73924438e-01, -2.95214942e-01, -5.84441414e-02],\n",
       "       [ 6.22407510e-03, -4.04046051e-02,  4.38477296e-01,\n",
       "         1.19830778e-01,  3.80705772e-01,  1.00619471e-02,\n",
       "         3.65209141e-03,  2.97736409e-02, -8.03597560e-01],\n",
       "       [-1.68410715e-04,  7.19135810e-01,  1.12887952e-01,\n",
       "        -6.73191131e-01, -6.22136082e-02, -2.84954997e-02,\n",
       "         2.60503759e-02, -2.08871139e-02, -1.05433628e-01]])"
      ]
     },
     "execution_count": 780,
     "metadata": {},
     "output_type": "execute_result"
    }
   ],
   "source": [
    "pca.components_"
   ]
  },
  {
   "cell_type": "markdown",
   "metadata": {},
   "source": [
    "#### Looking at the screeplot to assess the number of principal components needed"
   ]
  },
  {
   "cell_type": "code",
   "execution_count": 781,
   "metadata": {},
   "outputs": [
    {
     "data": {
      "text/plain": [
       "array([5.99243801e-01, 1.84936487e-01, 1.02219558e-01, 6.01144754e-02,\n",
       "       2.53296012e-02, 1.68258088e-02, 9.31444797e-03, 1.55434065e-03,\n",
       "       4.61480497e-04])"
      ]
     },
     "execution_count": 781,
     "metadata": {},
     "output_type": "execute_result"
    }
   ],
   "source": [
    "pca.explained_variance_ratio_"
   ]
  },
  {
   "cell_type": "code",
   "execution_count": 782,
   "metadata": {},
   "outputs": [
    {
     "data": {
      "image/png": "[encoded data removed]",
      "text/plain": [
       "<Figure size 864x576 with 1 Axes>"
      ]
     },
     "metadata": {
      "needs_background": "light"
     },
     "output_type": "display_data"
    }
   ],
   "source": [
    "#Making the screeplot - plotting the cumulative variance against the number of components\n",
    "%matplotlib inline\n",
    "fig = plt.figure(figsize = (12,8))\n",
    "plt.plot(np.cumsum(pca.explained_variance_ratio_))\n",
    "plt.title('Scree Plot')\n",
    "plt.xlabel('number of components')\n",
    "plt.ylabel('cumulative explained variance')\n",
    "plt.show()"
   ]
  },
  {
   "cell_type": "code",
   "execution_count": 783,
   "metadata": {},
   "outputs": [
    {
     "data": {
      "text/plain": [
       "array([0.5992438 , 0.78418029, 0.88639985, 0.94651432, 0.97184392,\n",
       "       0.98866973, 0.99798418, 0.99953852, 1.        ])"
      ]
     },
     "execution_count": 783,
     "metadata": {},
     "output_type": "execute_result"
    }
   ],
   "source": [
    "np.cumsum(pca.explained_variance_ratio_)"
   ]
  },
  {
   "cell_type": "markdown",
   "metadata": {},
   "source": [
    "#### Looks like 4 components are enough to describe 94% of the variance in the dataset\n",
    "- We'll choose 4 components for our modeling\n",
    "- Incremental PCA is beneficial in case of large datasets. For this, PCA is a better choice."
   ]
  },
  {
   "cell_type": "code",
   "execution_count": 784,
   "metadata": {},
   "outputs": [],
   "source": [
    "pca_final = PCA(svd_solver='randomized', random_state=42, n_components=4)"
   ]
  },
  {
   "cell_type": "markdown",
   "metadata": {},
   "source": [
    "#### Basis transformation - getting the data onto our PCs"
   ]
  },
  {
   "cell_type": "code",
   "execution_count": 785,
   "metadata": {
    "scrolled": true
   },
   "outputs": [
    {
     "data": {
      "text/plain": [
       "(167, 4)"
      ]
     },
     "execution_count": 785,
     "metadata": {},
     "output_type": "execute_result"
    }
   ],
   "source": [
    "df_pca = pca_final.fit_transform(normal_df)\n",
    "df_pca.shape"
   ]
  },
  {
   "cell_type": "code",
   "execution_count": 786,
   "metadata": {},
   "outputs": [
    {
     "data": {
      "text/plain": [
       "array([[-0.30439832,  0.34523486,  0.35139211,  0.3424826 ,  0.38976612,\n",
       "         0.19822303,  0.33470302, -0.28862792,  0.40105065],\n",
       "       [ 0.50654794,  0.35699422,  0.11127614,  0.32155826,  0.12020049,\n",
       "         0.22441835, -0.40963864,  0.48831666,  0.17062677],\n",
       "       [-0.0311368 , -0.21322979, -0.22935232, -0.3206873 ,  0.25116409,\n",
       "         0.85618311,  0.0198919 ,  0.02411312, -0.03179111],\n",
       "       [-0.14648273,  0.43068028, -0.66077368,  0.41403368, -0.07118371,\n",
       "         0.09353718, -0.01910727, -0.2001012 , -0.36164852]])"
      ]
     },
     "execution_count": 786,
     "metadata": {},
     "output_type": "execute_result"
    }
   ],
   "source": [
    "pca_final.components_"
   ]
  },
  {
   "cell_type": "code",
   "execution_count": 787,
   "metadata": {},
   "outputs": [
    {
     "data": {
      "text/html": [
       "<div>\n",
       "<style scoped>\n",
       "    .dataframe tbody tr th:only-of-type {\n",
       "        vertical-align: middle;\n",
       "    }\n",
       "\n",
       "    .dataframe tbody tr th {\n",
       "        vertical-align: top;\n",
       "    }\n",
       "\n",
       "    .dataframe thead th {\n",
       "        text-align: right;\n",
       "    }\n",
       "</style>\n",
       "<table border=\"1\" class=\"dataframe\">\n",
       "  <thead>\n",
       "    <tr style=\"text-align: right;\">\n",
       "      <th></th>\n",
       "      <th>PC1</th>\n",
       "      <th>PC2</th>\n",
       "      <th>PC3</th>\n",
       "      <th>PC4</th>\n",
       "      <th>Feature</th>\n",
       "    </tr>\n",
       "  </thead>\n",
       "  <tbody>\n",
       "    <tr>\n",
       "      <th>0</th>\n",
       "      <td>-0.304398</td>\n",
       "      <td>0.506548</td>\n",
       "      <td>-0.031137</td>\n",
       "      <td>-0.146483</td>\n",
       "      <td>child_mort</td>\n",
       "    </tr>\n",
       "    <tr>\n",
       "      <th>1</th>\n",
       "      <td>0.345235</td>\n",
       "      <td>0.356994</td>\n",
       "      <td>-0.213230</td>\n",
       "      <td>0.430680</td>\n",
       "      <td>exports</td>\n",
       "    </tr>\n",
       "    <tr>\n",
       "      <th>2</th>\n",
       "      <td>0.351392</td>\n",
       "      <td>0.111276</td>\n",
       "      <td>-0.229352</td>\n",
       "      <td>-0.660774</td>\n",
       "      <td>health</td>\n",
       "    </tr>\n",
       "    <tr>\n",
       "      <th>3</th>\n",
       "      <td>0.342483</td>\n",
       "      <td>0.321558</td>\n",
       "      <td>-0.320687</td>\n",
       "      <td>0.414034</td>\n",
       "      <td>imports</td>\n",
       "    </tr>\n",
       "    <tr>\n",
       "      <th>4</th>\n",
       "      <td>0.389766</td>\n",
       "      <td>0.120200</td>\n",
       "      <td>0.251164</td>\n",
       "      <td>-0.071184</td>\n",
       "      <td>income</td>\n",
       "    </tr>\n",
       "    <tr>\n",
       "      <th>5</th>\n",
       "      <td>0.198223</td>\n",
       "      <td>0.224418</td>\n",
       "      <td>0.856183</td>\n",
       "      <td>0.093537</td>\n",
       "      <td>inflation</td>\n",
       "    </tr>\n",
       "    <tr>\n",
       "      <th>6</th>\n",
       "      <td>0.334703</td>\n",
       "      <td>-0.409639</td>\n",
       "      <td>0.019892</td>\n",
       "      <td>-0.019107</td>\n",
       "      <td>life_expec</td>\n",
       "    </tr>\n",
       "    <tr>\n",
       "      <th>7</th>\n",
       "      <td>-0.288628</td>\n",
       "      <td>0.488317</td>\n",
       "      <td>0.024113</td>\n",
       "      <td>-0.200101</td>\n",
       "      <td>total_fer</td>\n",
       "    </tr>\n",
       "    <tr>\n",
       "      <th>8</th>\n",
       "      <td>0.401051</td>\n",
       "      <td>0.170627</td>\n",
       "      <td>-0.031791</td>\n",
       "      <td>-0.361649</td>\n",
       "      <td>gdpp</td>\n",
       "    </tr>\n",
       "  </tbody>\n",
       "</table>\n",
       "</div>"
      ],
      "text/plain": [
       "        PC1       PC2       PC3       PC4     Feature\n",
       "0 -0.304398  0.506548 -0.031137 -0.146483  child_mort\n",
       "1  0.345235  0.356994 -0.213230  0.430680     exports\n",
       "2  0.351392  0.111276 -0.229352 -0.660774      health\n",
       "3  0.342483  0.321558 -0.320687  0.414034     imports\n",
       "4  0.389766  0.120200  0.251164 -0.071184      income\n",
       "5  0.198223  0.224418  0.856183  0.093537   inflation\n",
       "6  0.334703 -0.409639  0.019892 -0.019107  life_expec\n",
       "7 -0.288628  0.488317  0.024113 -0.200101   total_fer\n",
       "8  0.401051  0.170627 -0.031791 -0.361649        gdpp"
      ]
     },
     "execution_count": 787,
     "metadata": {},
     "output_type": "execute_result"
    }
   ],
   "source": [
    "#converting components(eigen vectors) into a dataframe\n",
    "colnames = list(normal_df.columns)\n",
    "eigen_df = pd.DataFrame({'PC1':pca_final.components_[0],'PC2':pca_final.components_[1], 'PC3':pca_final.components_[2],'PC4':pca_final.components_[3],'Feature':colnames})\n",
    "eigen_df.head(10)"
   ]
  },
  {
   "cell_type": "code",
   "execution_count": 788,
   "metadata": {},
   "outputs": [
    {
     "data": {
      "image/png": "[encoded data removed]",
      "text/plain": [
       "<Figure size 576x432 with 1 Axes>"
      ]
     },
     "metadata": {
      "needs_background": "light"
     },
     "output_type": "display_data"
    }
   ],
   "source": [
    "%matplotlib inline\n",
    "fig = plt.figure(figsize = (8,6))\n",
    "plt.scatter(eigen_df.PC1, eigen_df.PC2)\n",
    "plt.xlabel('Principal Component 1')\n",
    "plt.ylabel('Principal Component 2')\n",
    "for i, txt in enumerate(eigen_df.Feature):\n",
    "    plt.annotate(txt, (eigen_df.PC1[i],eigen_df.PC2[i]))\n",
    "plt.tight_layout()\n",
    "plt.show()"
   ]
  },
  {
   "cell_type": "markdown",
   "metadata": {},
   "source": [
    "We see that the first component, PC1 is in the direction of 'income', 'gdpp' and 'health'. The second component PC2 is in the direction of 'child_mort', 'total_fer'. PC3 is in the direction of inflation. PC4 is in the direction of exports and imports."
   ]
  },
  {
   "cell_type": "markdown",
   "metadata": {},
   "source": [
    "#### Creating correlation matrix for the principal components - we expect little to no correlation"
   ]
  },
  {
   "cell_type": "code",
   "execution_count": 789,
   "metadata": {},
   "outputs": [],
   "source": [
    "#creating correlation matrix for the principal components\n",
    "corrmat = np.corrcoef(df_pca.transpose())"
   ]
  },
  {
   "cell_type": "code",
   "execution_count": 790,
   "metadata": {
    "scrolled": false
   },
   "outputs": [
    {
     "data": {
      "text/plain": [
       "<matplotlib.axes._subplots.AxesSubplot at 0xc87d9b6588>"
      ]
     },
     "execution_count": 790,
     "metadata": {},
     "output_type": "execute_result"
    },
    {
     "data": {
      "image/png": "[encoded data removed]",
      "text/plain": [
       "<Figure size 720x576 with 2 Axes>"
      ]
     },
     "metadata": {
      "needs_background": "light"
     },
     "output_type": "display_data"
    }
   ],
   "source": [
    "#plotting the correlation matrix\n",
    "%matplotlib inline\n",
    "plt.figure(figsize = (10,8))\n",
    "sns.heatmap(corrmat,annot = True)"
   ]
  },
  {
   "cell_type": "code",
   "execution_count": 791,
   "metadata": {},
   "outputs": [
    {
     "name": "stdout",
     "output_type": "stream",
     "text": [
      "max corr: 3.307630037127995e-16 , min corr:  -1.795732092831482e-16\n"
     ]
    }
   ],
   "source": [
    "# 1s -> 0s in diagonals\n",
    "corrmat_nodiag = corrmat - np.diagflat(corrmat.diagonal())\n",
    "print(\"max corr:\",corrmat_nodiag.max(), \", min corr: \", corrmat_nodiag.min(),)\n",
    "# we see that correlations are indeed very close to 0"
   ]
  },
  {
   "cell_type": "markdown",
   "metadata": {},
   "source": [
    "#### Indeed - there is no correlation between any two components! Good job, PCA!\n",
    "- We effectively have removed multicollinearity from our situation, and our models will be much more stable"
   ]
  },
  {
   "cell_type": "markdown",
   "metadata": {},
   "source": [
    "Lets visualise the PC1 and PC2"
   ]
  },
  {
   "cell_type": "code",
   "execution_count": 792,
   "metadata": {},
   "outputs": [
    {
     "data": {
      "image/png": "[encoded data removed]",
      "text/plain": [
       "<Figure size 576x432 with 1 Axes>"
      ]
     },
     "metadata": {
      "needs_background": "light"
     },
     "output_type": "display_data"
    }
   ],
   "source": [
    "%matplotlib inline\n",
    "fig = plt.figure(figsize = (8,6))\n",
    "plt.scatter(df_pca[:,0], df_pca[:,1])\n",
    "plt.xlabel('Principal Component 1')\n",
    "plt.ylabel('Principal Component 2')\n",
    "plt.tight_layout()\n",
    "plt.show()"
   ]
  },
  {
   "cell_type": "markdown",
   "metadata": {},
   "source": [
    "Hopkins Statistics:\n",
    "\n",
    "The Hopkins statistic, is a statistic which gives a value which indicates the cluster tendency, in other words: how well the data can be clustered.\n",
    "\n",
    "    If the value is between {0.01, ...,0.3}, the data is regularly spaced.\n",
    "\n",
    "    If the value is around 0.5, it is random.\n",
    "\n",
    "    If the value is between {0.7, ..., 0.99}, it has a high tendency to cluster.\n",
    "\n"
   ]
  },
  {
   "cell_type": "code",
   "execution_count": 793,
   "metadata": {},
   "outputs": [],
   "source": [
    "from sklearn.neighbors import NearestNeighbors\n",
    "from random import sample\n",
    "from numpy.random import uniform\n",
    "import numpy as np\n",
    "from math import isnan\n",
    " \n",
    "def hopkins(X):\n",
    "    d = X.shape[1]\n",
    "    #d = len(vars) # columns\n",
    "    n = len(X) # rows\n",
    "    m = int(0.1 * n) \n",
    "    nbrs = NearestNeighbors(n_neighbors=1).fit(X.values)\n",
    " \n",
    "    rand_X = sample(range(0, n, 1), m)\n",
    " \n",
    "    ujd = []\n",
    "    wjd = []\n",
    "    for j in range(0, m):\n",
    "        u_dist, _ = nbrs.kneighbors(uniform(np.amin(X,axis=0),np.amax(X,axis=0),d).reshape(1, -1), 2, return_distance=True)\n",
    "        ujd.append(u_dist[0][1])\n",
    "        w_dist, _ = nbrs.kneighbors(X.iloc[rand_X[j]].values.reshape(1, -1), 2, return_distance=True)\n",
    "        wjd.append(w_dist[0][1])\n",
    " \n",
    "    H = sum(ujd) / (sum(ujd) + sum(wjd))\n",
    "    if isnan(H):\n",
    "        print(ujd, wjd)\n",
    "        H = 0\n",
    " \n",
    "    return H"
   ]
  },
  {
   "cell_type": "code",
   "execution_count": 794,
   "metadata": {},
   "outputs": [
    {
     "data": {
      "text/html": [
       "<div>\n",
       "<style scoped>\n",
       "    .dataframe tbody tr th:only-of-type {\n",
       "        vertical-align: middle;\n",
       "    }\n",
       "\n",
       "    .dataframe tbody tr th {\n",
       "        vertical-align: top;\n",
       "    }\n",
       "\n",
       "    .dataframe thead th {\n",
       "        text-align: right;\n",
       "    }\n",
       "</style>\n",
       "<table border=\"1\" class=\"dataframe\">\n",
       "  <thead>\n",
       "    <tr style=\"text-align: right;\">\n",
       "      <th></th>\n",
       "      <th>PC1</th>\n",
       "      <th>PC2</th>\n",
       "      <th>PC3</th>\n",
       "      <th>PC4</th>\n",
       "    </tr>\n",
       "  </thead>\n",
       "  <tbody>\n",
       "    <tr>\n",
       "      <th>0</th>\n",
       "      <td>-2.644408</td>\n",
       "      <td>1.575935</td>\n",
       "      <td>-0.249473</td>\n",
       "      <td>-0.261199</td>\n",
       "    </tr>\n",
       "    <tr>\n",
       "      <th>1</th>\n",
       "      <td>-0.163437</td>\n",
       "      <td>-1.435221</td>\n",
       "      <td>-0.092994</td>\n",
       "      <td>0.416566</td>\n",
       "    </tr>\n",
       "    <tr>\n",
       "      <th>2</th>\n",
       "      <td>-0.330999</td>\n",
       "      <td>-0.789770</td>\n",
       "      <td>0.373888</td>\n",
       "      <td>0.265957</td>\n",
       "    </tr>\n",
       "    <tr>\n",
       "      <th>3</th>\n",
       "      <td>-2.417752</td>\n",
       "      <td>2.141078</td>\n",
       "      <td>0.285958</td>\n",
       "      <td>-0.367783</td>\n",
       "    </tr>\n",
       "    <tr>\n",
       "      <th>4</th>\n",
       "      <td>0.469776</td>\n",
       "      <td>-1.021416</td>\n",
       "      <td>-0.205063</td>\n",
       "      <td>0.260684</td>\n",
       "    </tr>\n",
       "    <tr>\n",
       "      <th>5</th>\n",
       "      <td>0.469033</td>\n",
       "      <td>-0.663664</td>\n",
       "      <td>1.423488</td>\n",
       "      <td>0.138233</td>\n",
       "    </tr>\n",
       "    <tr>\n",
       "      <th>6</th>\n",
       "      <td>-0.414160</td>\n",
       "      <td>-1.309265</td>\n",
       "      <td>-0.057693</td>\n",
       "      <td>0.466831</td>\n",
       "    </tr>\n",
       "    <tr>\n",
       "      <th>7</th>\n",
       "      <td>3.054935</td>\n",
       "      <td>-0.393867</td>\n",
       "      <td>-0.270333</td>\n",
       "      <td>-1.710700</td>\n",
       "    </tr>\n",
       "    <tr>\n",
       "      <th>8</th>\n",
       "      <td>3.645918</td>\n",
       "      <td>0.003237</td>\n",
       "      <td>-0.889017</td>\n",
       "      <td>-1.139112</td>\n",
       "    </tr>\n",
       "    <tr>\n",
       "      <th>9</th>\n",
       "      <td>-0.352015</td>\n",
       "      <td>-0.528397</td>\n",
       "      <td>0.403351</td>\n",
       "      <td>0.307180</td>\n",
       "    </tr>\n",
       "  </tbody>\n",
       "</table>\n",
       "</div>"
      ],
      "text/plain": [
       "        PC1       PC2       PC3       PC4\n",
       "0 -2.644408  1.575935 -0.249473 -0.261199\n",
       "1 -0.163437 -1.435221 -0.092994  0.416566\n",
       "2 -0.330999 -0.789770  0.373888  0.265957\n",
       "3 -2.417752  2.141078  0.285958 -0.367783\n",
       "4  0.469776 -1.021416 -0.205063  0.260684\n",
       "5  0.469033 -0.663664  1.423488  0.138233\n",
       "6 -0.414160 -1.309265 -0.057693  0.466831\n",
       "7  3.054935 -0.393867 -0.270333 -1.710700\n",
       "8  3.645918  0.003237 -0.889017 -1.139112\n",
       "9 -0.352015 -0.528397  0.403351  0.307180"
      ]
     },
     "execution_count": 794,
     "metadata": {},
     "output_type": "execute_result"
    }
   ],
   "source": [
    "pcs_df = pd.DataFrame({'PC1':df_pca[:,0],'PC2':df_pca[:,1], 'PC3':df_pca[:,2],'PC4':df_pca[:,3]})\n",
    "pcs_df.head(10)"
   ]
  },
  {
   "cell_type": "code",
   "execution_count": 795,
   "metadata": {},
   "outputs": [
    {
     "name": "stdout",
     "output_type": "stream",
     "text": [
      "<class 'pandas.core.frame.DataFrame'>\n",
      "RangeIndex: 167 entries, 0 to 166\n",
      "Data columns (total 4 columns):\n",
      "PC1    167 non-null float64\n",
      "PC2    167 non-null float64\n",
      "PC3    167 non-null float64\n",
      "PC4    167 non-null float64\n",
      "dtypes: float64(4)\n",
      "memory usage: 5.3 KB\n"
     ]
    }
   ],
   "source": [
    "pcs_df.info()"
   ]
  },
  {
   "cell_type": "code",
   "execution_count": 796,
   "metadata": {},
   "outputs": [
    {
     "data": {
      "text/plain": [
       "0.9438424472806893"
      ]
     },
     "execution_count": 796,
     "metadata": {},
     "output_type": "execute_result"
    }
   ],
   "source": [
    "hopkins(pcs_df)"
   ]
  },
  {
   "cell_type": "markdown",
   "metadata": {},
   "source": [
    "Data shows high tendency of clustering. Lets check for Outliers."
   ]
  },
  {
   "cell_type": "code",
   "execution_count": 797,
   "metadata": {},
   "outputs": [
    {
     "data": {
      "image/png": "[encoded data removed]",
      "text/plain": [
       "<Figure size 1440x720 with 4 Axes>"
      ]
     },
     "metadata": {
      "needs_background": "light"
     },
     "output_type": "display_data"
    }
   ],
   "source": [
    "%matplotlib inline\n",
    "plt.figure(figsize=(20,10))\n",
    "plt.subplot(2,2,1)\n",
    "sns.boxplot(pcs_df['PC1'])\n",
    "plt.title('Distribution of PC1')\n",
    "\n",
    "plt.subplot(2,2,2)\n",
    "sns.boxplot(pcs_df['PC2'])\n",
    "plt.title('Distribution of PC2')\n",
    "\n",
    "plt.subplot(2,2,3)\n",
    "sns.boxplot(pcs_df['PC3'])\n",
    "plt.title('Distribution of PC3')\n",
    "\n",
    "plt.subplot(2,2,4)\n",
    "sns.boxplot(pcs_df['PC4'])\n",
    "plt.title('Distribution of PC4')\n",
    "plt.show()"
   ]
  },
  {
   "cell_type": "markdown",
   "metadata": {},
   "source": [
    "Find the Inter Quantile range for outlier removal."
   ]
  },
  {
   "cell_type": "code",
   "execution_count": 798,
   "metadata": {},
   "outputs": [
    {
     "name": "stdout",
     "output_type": "stream",
     "text": [
      "PC1    2.355218\n",
      "PC2    1.720655\n",
      "PC3    0.293839\n",
      "PC4    0.583173\n",
      "dtype: float64\n"
     ]
    }
   ],
   "source": [
    "Q1 = pcs_df.quantile(0.25)\n",
    "Q3 = pcs_df.quantile(0.75)\n",
    "IQR = Q3 - Q1\n",
    "print(IQR)"
   ]
  },
  {
   "cell_type": "code",
   "execution_count": 799,
   "metadata": {},
   "outputs": [
    {
     "data": {
      "text/plain": [
       "41"
      ]
     },
     "execution_count": 799,
     "metadata": {},
     "output_type": "execute_result"
    }
   ],
   "source": [
    "#Outliers df\n",
    "out = pcs_df[((pcs_df < (Q1 - 1.5*IQR)) | (pcs_df > (Q3 + 1.5*IQR))).any(axis=1)]\n",
    "len(out)"
   ]
  },
  {
   "cell_type": "markdown",
   "metadata": {},
   "source": [
    "There are about 41 rows which have the outlier values"
   ]
  },
  {
   "cell_type": "code",
   "execution_count": 800,
   "metadata": {},
   "outputs": [
    {
     "data": {
      "text/plain": [
       "24.550898203592816"
      ]
     },
     "execution_count": 800,
     "metadata": {},
     "output_type": "execute_result"
    }
   ],
   "source": [
    "len(out)*100/len(pcs_df)"
   ]
  },
  {
   "cell_type": "markdown",
   "metadata": {},
   "source": [
    "This is around 25% of the data"
   ]
  },
  {
   "cell_type": "code",
   "execution_count": 801,
   "metadata": {},
   "outputs": [
    {
     "data": {
      "text/plain": [
       "167"
      ]
     },
     "execution_count": 801,
     "metadata": {},
     "output_type": "execute_result"
    }
   ],
   "source": [
    "len(pcs_df)"
   ]
  },
  {
   "cell_type": "code",
   "execution_count": 802,
   "metadata": {},
   "outputs": [],
   "source": [
    "pcs_out = pcs_df[((pcs_df >= (Q1 - 1.5*IQR)) & (pcs_df <= (Q3 + 1.5*IQR))).all(axis=1)]"
   ]
  },
  {
   "cell_type": "code",
   "execution_count": 803,
   "metadata": {},
   "outputs": [
    {
     "data": {
      "text/plain": [
       "126"
      ]
     },
     "execution_count": 803,
     "metadata": {},
     "output_type": "execute_result"
    }
   ],
   "source": [
    "len(pcs_out)"
   ]
  },
  {
   "cell_type": "code",
   "execution_count": 804,
   "metadata": {},
   "outputs": [
    {
     "data": {
      "text/plain": [
       "0.8480873086771621"
      ]
     },
     "execution_count": 804,
     "metadata": {},
     "output_type": "execute_result"
    }
   ],
   "source": [
    "hopkins(pcs_out)"
   ]
  },
  {
   "cell_type": "markdown",
   "metadata": {},
   "source": [
    "The hopkins statistics have dropped after removing the outliers. Moreover we are loosing 25% of the valuable data. And may miss out on countries requiring aids. So lets not remove the outliers."
   ]
  },
  {
   "cell_type": "markdown",
   "metadata": {},
   "source": [
    "Now we can do the Clustering using K-means"
   ]
  },
  {
   "cell_type": "markdown",
   "metadata": {},
   "source": [
    "## K-Means with some K"
   ]
  },
  {
   "cell_type": "code",
   "execution_count": 805,
   "metadata": {},
   "outputs": [],
   "source": [
    "# To perform KMeans clustering \n",
    "from sklearn.cluster import KMeans\n",
    "\n",
    "# To perform Hierarchical clustering\n",
    "from scipy.cluster.hierarchy import linkage\n",
    "from scipy.cluster.hierarchy import dendrogram\n",
    "from scipy.cluster.hierarchy import cut_tree"
   ]
  },
  {
   "cell_type": "markdown",
   "metadata": {},
   "source": [
    "## Silhouette Analysis\n",
    "Silhouette score will help us to choose an appropriate value of k"
   ]
  },
  {
   "cell_type": "code",
   "execution_count": 806,
   "metadata": {},
   "outputs": [],
   "source": [
    "from sklearn.metrics import silhouette_score\n",
    "sse_ = []\n",
    "for k in range(2, 10):\n",
    "    kmeans = KMeans(n_clusters=k).fit(pcs_df)\n",
    "    sse_.append([k, silhouette_score(pcs_df, kmeans.labels_)])"
   ]
  },
  {
   "cell_type": "code",
   "execution_count": 807,
   "metadata": {},
   "outputs": [
    {
     "data": {
      "image/png": "[encoded data removed]",
      "text/plain": [
       "<Figure size 432x288 with 1 Axes>"
      ]
     },
     "metadata": {
      "needs_background": "light"
     },
     "output_type": "display_data"
    }
   ],
   "source": [
    "plt.plot(pd.DataFrame(sse_)[0], pd.DataFrame(sse_)[1])\n",
    "plt.show()"
   ]
  },
  {
   "cell_type": "markdown",
   "metadata": {},
   "source": [
    "According to Silhouette score plot we can see that both k=4 and k=5 are good."
   ]
  },
  {
   "cell_type": "markdown",
   "metadata": {},
   "source": [
    "## Sum of Squared Distances"
   ]
  },
  {
   "cell_type": "code",
   "execution_count": 808,
   "metadata": {},
   "outputs": [
    {
     "data": {
      "text/plain": [
       "[<matplotlib.lines.Line2D at 0xc8014cca90>]"
      ]
     },
     "execution_count": 808,
     "metadata": {},
     "output_type": "execute_result"
    },
    {
     "data": {
      "image/png": "[encoded data removed]",
      "text/plain": [
       "<Figure size 432x288 with 1 Axes>"
      ]
     },
     "metadata": {
      "needs_background": "light"
     },
     "output_type": "display_data"
    }
   ],
   "source": [
    "# sum of squared distances\n",
    "ssd = []\n",
    "for num_clusters in list(range(2,10)):\n",
    "    model_clus = KMeans(n_clusters = num_clusters, max_iter=50)\n",
    "    model_clus.fit(pcs_df)\n",
    "    ssd.append(model_clus.inertia_)\n",
    "\n",
    "plt.plot(ssd)"
   ]
  },
  {
   "cell_type": "markdown",
   "metadata": {},
   "source": [
    "The smaller the value of sum of square distances, the better it is. So we can choose either 4 or 5. So lets choose k=4."
   ]
  },
  {
   "cell_type": "code",
   "execution_count": 809,
   "metadata": {},
   "outputs": [
    {
     "data": {
      "text/plain": [
       "KMeans(algorithm='auto', copy_x=True, init='k-means++', max_iter=50,\n",
       "    n_clusters=4, n_init=10, n_jobs=1, precompute_distances='auto',\n",
       "    random_state=0, tol=0.0001, verbose=0)"
      ]
     },
     "execution_count": 809,
     "metadata": {},
     "output_type": "execute_result"
    }
   ],
   "source": [
    "# Kmeans with K=4\n",
    "model_clus4 = KMeans(n_clusters = 4, max_iter=50, random_state=0)\n",
    "model_clus4.fit(pcs_df)"
   ]
  },
  {
   "cell_type": "code",
   "execution_count": 810,
   "metadata": {},
   "outputs": [
    {
     "data": {
      "text/plain": [
       "array([3, 0, 0, 3, 0, 0, 0, 1, 1, 0, 0, 0, 0, 0, 0, 1, 0, 3, 0, 0, 0, 3,\n",
       "       0, 1, 0, 3, 3, 0, 3, 1, 0, 3, 3, 0, 0, 0, 3, 3, 3, 0, 3, 0, 1, 0,\n",
       "       1, 0, 0, 0, 0, 3, 3, 0, 0, 1, 1, 3, 3, 0, 1, 3, 0, 0, 0, 3, 3, 0,\n",
       "       3, 0, 1, 0, 0, 0, 0, 1, 0, 1, 0, 1, 0, 0, 3, 3, 1, 0, 3, 0, 0, 3,\n",
       "       3, 0, 0, 2, 0, 3, 3, 0, 0, 3, 1, 3, 0, 0, 0, 0, 0, 0, 3, 0, 3, 0,\n",
       "       1, 1, 3, 3, 1, 0, 3, 0, 0, 0, 0, 0, 0, 1, 0, 0, 3, 0, 0, 3, 0, 0,\n",
       "       3, 1, 0, 0, 3, 3, 0, 1, 0, 0, 3, 0, 1, 1, 0, 3, 0, 3, 3, 0, 0, 0,\n",
       "       0, 3, 0, 1, 1, 1, 0, 0, 0, 0, 0, 3, 3])"
      ]
     },
     "execution_count": 810,
     "metadata": {},
     "output_type": "execute_result"
    }
   ],
   "source": [
    "model_clus4.labels_"
   ]
  },
  {
   "cell_type": "code",
   "execution_count": 811,
   "metadata": {},
   "outputs": [
    {
     "name": "stdout",
     "output_type": "stream",
     "text": [
      "<class 'pandas.core.frame.DataFrame'>\n",
      "RangeIndex: 167 entries, 0 to 166\n",
      "Data columns (total 4 columns):\n",
      "PC1    167 non-null float64\n",
      "PC2    167 non-null float64\n",
      "PC3    167 non-null float64\n",
      "PC4    167 non-null float64\n",
      "dtypes: float64(4)\n",
      "memory usage: 5.3 KB\n"
     ]
    }
   ],
   "source": [
    "pcs_df.info()"
   ]
  },
  {
   "cell_type": "code",
   "execution_count": 812,
   "metadata": {},
   "outputs": [
    {
     "name": "stdout",
     "output_type": "stream",
     "text": [
      "<class 'pandas.core.frame.DataFrame'>\n",
      "RangeIndex: 167 entries, 0 to 166\n",
      "Data columns (total 10 columns):\n",
      "country       167 non-null object\n",
      "child_mort    167 non-null float64\n",
      "exports       167 non-null float64\n",
      "health        167 non-null float64\n",
      "imports       167 non-null float64\n",
      "income        167 non-null float64\n",
      "inflation     167 non-null float64\n",
      "life_expec    167 non-null float64\n",
      "total_fer     167 non-null float64\n",
      "gdpp          167 non-null float64\n",
      "dtypes: float64(9), object(1)\n",
      "memory usage: 13.1+ KB\n"
     ]
    }
   ],
   "source": [
    "df.info()"
   ]
  },
  {
   "cell_type": "markdown",
   "metadata": {},
   "source": [
    "concatenate the original dataframe with the PCA dataframe."
   ]
  },
  {
   "cell_type": "code",
   "execution_count": 813,
   "metadata": {},
   "outputs": [],
   "source": [
    "df1 = pd.concat([df,pcs_df], axis=1)"
   ]
  },
  {
   "cell_type": "code",
   "execution_count": 814,
   "metadata": {},
   "outputs": [
    {
     "name": "stdout",
     "output_type": "stream",
     "text": [
      "<class 'pandas.core.frame.DataFrame'>\n",
      "RangeIndex: 167 entries, 0 to 166\n",
      "Data columns (total 14 columns):\n",
      "country       167 non-null object\n",
      "child_mort    167 non-null float64\n",
      "exports       167 non-null float64\n",
      "health        167 non-null float64\n",
      "imports       167 non-null float64\n",
      "income        167 non-null float64\n",
      "inflation     167 non-null float64\n",
      "life_expec    167 non-null float64\n",
      "total_fer     167 non-null float64\n",
      "gdpp          167 non-null float64\n",
      "PC1           167 non-null float64\n",
      "PC2           167 non-null float64\n",
      "PC3           167 non-null float64\n",
      "PC4           167 non-null float64\n",
      "dtypes: float64(13), object(1)\n",
      "memory usage: 18.3+ KB\n"
     ]
    }
   ],
   "source": [
    "df1.info()"
   ]
  },
  {
   "cell_type": "code",
   "execution_count": 815,
   "metadata": {},
   "outputs": [],
   "source": [
    "# analysis of clusters formed\n",
    "#Add the Cluster number\n",
    "final_df = pd.concat([df1, pd.Series(model_clus4.labels_).rename('ClusterID')], axis=1)"
   ]
  },
  {
   "cell_type": "code",
   "execution_count": 816,
   "metadata": {},
   "outputs": [
    {
     "data": {
      "text/html": [
       "<div>\n",
       "<style scoped>\n",
       "    .dataframe tbody tr th:only-of-type {\n",
       "        vertical-align: middle;\n",
       "    }\n",
       "\n",
       "    .dataframe tbody tr th {\n",
       "        vertical-align: top;\n",
       "    }\n",
       "\n",
       "    .dataframe thead th {\n",
       "        text-align: right;\n",
       "    }\n",
       "</style>\n",
       "<table border=\"1\" class=\"dataframe\">\n",
       "  <thead>\n",
       "    <tr style=\"text-align: right;\">\n",
       "      <th></th>\n",
       "      <th>country</th>\n",
       "      <th>child_mort</th>\n",
       "      <th>exports</th>\n",
       "      <th>health</th>\n",
       "      <th>imports</th>\n",
       "      <th>income</th>\n",
       "      <th>inflation</th>\n",
       "      <th>life_expec</th>\n",
       "      <th>total_fer</th>\n",
       "      <th>gdpp</th>\n",
       "      <th>PC1</th>\n",
       "      <th>PC2</th>\n",
       "      <th>PC3</th>\n",
       "      <th>PC4</th>\n",
       "      <th>ClusterID</th>\n",
       "    </tr>\n",
       "  </thead>\n",
       "  <tbody>\n",
       "    <tr>\n",
       "      <th>0</th>\n",
       "      <td>Afghanistan</td>\n",
       "      <td>1.287660</td>\n",
       "      <td>-0.409779</td>\n",
       "      <td>-0.563346</td>\n",
       "      <td>-0.430979</td>\n",
       "      <td>-0.805822</td>\n",
       "      <td>-0.463617</td>\n",
       "      <td>-1.614237</td>\n",
       "      <td>1.897176</td>\n",
       "      <td>-0.677143</td>\n",
       "      <td>-2.644408</td>\n",
       "      <td>1.575935</td>\n",
       "      <td>-0.249473</td>\n",
       "      <td>-0.261199</td>\n",
       "      <td>3</td>\n",
       "    </tr>\n",
       "    <tr>\n",
       "      <th>1</th>\n",
       "      <td>Albania</td>\n",
       "      <td>-0.537333</td>\n",
       "      <td>-0.349141</td>\n",
       "      <td>-0.437901</td>\n",
       "      <td>-0.312737</td>\n",
       "      <td>-0.374243</td>\n",
       "      <td>-0.348601</td>\n",
       "      <td>0.645924</td>\n",
       "      <td>-0.857394</td>\n",
       "      <td>-0.484167</td>\n",
       "      <td>-0.163437</td>\n",
       "      <td>-1.435221</td>\n",
       "      <td>-0.092994</td>\n",
       "      <td>0.416566</td>\n",
       "      <td>0</td>\n",
       "    </tr>\n",
       "    <tr>\n",
       "      <th>2</th>\n",
       "      <td>Algeria</td>\n",
       "      <td>-0.272015</td>\n",
       "      <td>-0.317571</td>\n",
       "      <td>-0.483372</td>\n",
       "      <td>-0.352660</td>\n",
       "      <td>-0.220182</td>\n",
       "      <td>0.119046</td>\n",
       "      <td>0.668413</td>\n",
       "      <td>-0.038289</td>\n",
       "      <td>-0.463980</td>\n",
       "      <td>-0.330999</td>\n",
       "      <td>-0.789770</td>\n",
       "      <td>0.373888</td>\n",
       "      <td>0.265957</td>\n",
       "      <td>0</td>\n",
       "    </tr>\n",
       "    <tr>\n",
       "      <th>3</th>\n",
       "      <td>Angola</td>\n",
       "      <td>2.001787</td>\n",
       "      <td>-0.290501</td>\n",
       "      <td>-0.530767</td>\n",
       "      <td>-0.344915</td>\n",
       "      <td>-0.583289</td>\n",
       "      <td>0.182628</td>\n",
       "      <td>-1.175698</td>\n",
       "      <td>2.121770</td>\n",
       "      <td>-0.514720</td>\n",
       "      <td>-2.417752</td>\n",
       "      <td>2.141078</td>\n",
       "      <td>0.285958</td>\n",
       "      <td>-0.367783</td>\n",
       "      <td>3</td>\n",
       "    </tr>\n",
       "    <tr>\n",
       "      <th>4</th>\n",
       "      <td>Antigua and Barbuda</td>\n",
       "      <td>-0.693548</td>\n",
       "      <td>-0.104019</td>\n",
       "      <td>-0.178234</td>\n",
       "      <td>0.040613</td>\n",
       "      <td>0.101427</td>\n",
       "      <td>-0.355568</td>\n",
       "      <td>0.702147</td>\n",
       "      <td>-0.540321</td>\n",
       "      <td>-0.041692</td>\n",
       "      <td>0.469776</td>\n",
       "      <td>-1.021416</td>\n",
       "      <td>-0.205063</td>\n",
       "      <td>0.260684</td>\n",
       "      <td>0</td>\n",
       "    </tr>\n",
       "  </tbody>\n",
       "</table>\n",
       "</div>"
      ],
      "text/plain": [
       "               country  child_mort   exports    health   imports    income  \\\n",
       "0          Afghanistan    1.287660 -0.409779 -0.563346 -0.430979 -0.805822   \n",
       "1              Albania   -0.537333 -0.349141 -0.437901 -0.312737 -0.374243   \n",
       "2              Algeria   -0.272015 -0.317571 -0.483372 -0.352660 -0.220182   \n",
       "3               Angola    2.001787 -0.290501 -0.530767 -0.344915 -0.583289   \n",
       "4  Antigua and Barbuda   -0.693548 -0.104019 -0.178234  0.040613  0.101427   \n",
       "\n",
       "   inflation  life_expec  total_fer      gdpp       PC1       PC2       PC3  \\\n",
       "0  -0.463617   -1.614237   1.897176 -0.677143 -2.644408  1.575935 -0.249473   \n",
       "1  -0.348601    0.645924  -0.857394 -0.484167 -0.163437 -1.435221 -0.092994   \n",
       "2   0.119046    0.668413  -0.038289 -0.463980 -0.330999 -0.789770  0.373888   \n",
       "3   0.182628   -1.175698   2.121770 -0.514720 -2.417752  2.141078  0.285958   \n",
       "4  -0.355568    0.702147  -0.540321 -0.041692  0.469776 -1.021416 -0.205063   \n",
       "\n",
       "        PC4  ClusterID  \n",
       "0 -0.261199          3  \n",
       "1  0.416566          0  \n",
       "2  0.265957          0  \n",
       "3 -0.367783          3  \n",
       "4  0.260684          0  "
      ]
     },
     "execution_count": 816,
     "metadata": {},
     "output_type": "execute_result"
    }
   ],
   "source": [
    "final_df.head()"
   ]
  },
  {
   "cell_type": "code",
   "execution_count": 817,
   "metadata": {},
   "outputs": [
    {
     "name": "stdout",
     "output_type": "stream",
     "text": [
      "<class 'pandas.core.frame.DataFrame'>\n",
      "RangeIndex: 167 entries, 0 to 166\n",
      "Data columns (total 15 columns):\n",
      "country       167 non-null object\n",
      "child_mort    167 non-null float64\n",
      "exports       167 non-null float64\n",
      "health        167 non-null float64\n",
      "imports       167 non-null float64\n",
      "income        167 non-null float64\n",
      "inflation     167 non-null float64\n",
      "life_expec    167 non-null float64\n",
      "total_fer     167 non-null float64\n",
      "gdpp          167 non-null float64\n",
      "PC1           167 non-null float64\n",
      "PC2           167 non-null float64\n",
      "PC3           167 non-null float64\n",
      "PC4           167 non-null float64\n",
      "ClusterID     167 non-null int32\n",
      "dtypes: float64(13), int32(1), object(1)\n",
      "memory usage: 19.0+ KB\n"
     ]
    }
   ],
   "source": [
    "final_df.info()"
   ]
  },
  {
   "cell_type": "code",
   "execution_count": 818,
   "metadata": {},
   "outputs": [
    {
     "data": {
      "image/png": "[encoded data removed]",
      "text/plain": [
       "<Figure size 576x432 with 1 Axes>"
      ]
     },
     "metadata": {
      "needs_background": "light"
     },
     "output_type": "display_data"
    }
   ],
   "source": [
    "%matplotlib inline\n",
    "fig = plt.figure(figsize = (8,6))\n",
    "sns.scatterplot(final_df['PC1'], final_df['PC2'], hue=final_df['ClusterID'], palette=\"Dark2\")\n",
    "plt.xlabel('Principal Component 1')\n",
    "plt.ylabel('Principal Component 2')\n",
    "plt.tight_layout()\n",
    "plt.show()"
   ]
  },
  {
   "cell_type": "markdown",
   "metadata": {},
   "source": [
    "#### From the scatter plot cluster 3 seems to be our choice having low PC1 and high PC2.  Lets analyse it further on the basis of mean. Cluster 2 seems to be an outlier with only one country."
   ]
  },
  {
   "cell_type": "code",
   "execution_count": 819,
   "metadata": {},
   "outputs": [
    {
     "data": {
      "text/html": [
       "<div>\n",
       "<style scoped>\n",
       "    .dataframe tbody tr th:only-of-type {\n",
       "        vertical-align: middle;\n",
       "    }\n",
       "\n",
       "    .dataframe tbody tr th {\n",
       "        vertical-align: top;\n",
       "    }\n",
       "\n",
       "    .dataframe thead th {\n",
       "        text-align: right;\n",
       "    }\n",
       "</style>\n",
       "<table border=\"1\" class=\"dataframe\">\n",
       "  <thead>\n",
       "    <tr style=\"text-align: right;\">\n",
       "      <th></th>\n",
       "      <th>country</th>\n",
       "      <th>child_mort</th>\n",
       "      <th>exports</th>\n",
       "      <th>health</th>\n",
       "      <th>imports</th>\n",
       "      <th>income</th>\n",
       "      <th>inflation</th>\n",
       "      <th>life_expec</th>\n",
       "      <th>total_fer</th>\n",
       "      <th>gdpp</th>\n",
       "      <th>PC1</th>\n",
       "      <th>PC2</th>\n",
       "      <th>PC3</th>\n",
       "      <th>PC4</th>\n",
       "      <th>ClusterID</th>\n",
       "    </tr>\n",
       "  </thead>\n",
       "  <tbody>\n",
       "    <tr>\n",
       "      <th>91</th>\n",
       "      <td>Luxembourg</td>\n",
       "      <td>-0.879519</td>\n",
       "      <td>9.810309</td>\n",
       "      <td>3.94234</td>\n",
       "      <td>9.687546</td>\n",
       "      <td>3.867364</td>\n",
       "      <td>2.816798</td>\n",
       "      <td>1.208153</td>\n",
       "      <td>-0.870606</td>\n",
       "      <td>5.021405</td>\n",
       "      <td>13.092921</td>\n",
       "      <td>7.644253</td>\n",
       "      <td>-2.848881</td>\n",
       "      <td>4.08324</td>\n",
       "      <td>2</td>\n",
       "    </tr>\n",
       "  </tbody>\n",
       "</table>\n",
       "</div>"
      ],
      "text/plain": [
       "       country  child_mort   exports   health   imports    income  inflation  \\\n",
       "91  Luxembourg   -0.879519  9.810309  3.94234  9.687546  3.867364   2.816798   \n",
       "\n",
       "    life_expec  total_fer      gdpp        PC1       PC2       PC3      PC4  \\\n",
       "91    1.208153  -0.870606  5.021405  13.092921  7.644253 -2.848881  4.08324   \n",
       "\n",
       "    ClusterID  \n",
       "91          2  "
      ]
     },
     "execution_count": 819,
     "metadata": {},
     "output_type": "execute_result"
    }
   ],
   "source": [
    "final_df[(final_df['ClusterID']==2)]"
   ]
  },
  {
   "cell_type": "code",
   "execution_count": 820,
   "metadata": {},
   "outputs": [],
   "source": [
    "km_clust_PC1 = pd.DataFrame(final_df.groupby([\"ClusterID\"]).PC1.mean())\n",
    "km_clust_PC2 = pd.DataFrame(final_df.groupby([\"ClusterID\"]).PC2.mean())\n",
    "km_clust_PC3 = pd.DataFrame(final_df.groupby([\"ClusterID\"]).PC3.mean())\n",
    "km_clust_PC4 = pd.DataFrame(final_df.groupby([\"ClusterID\"]).PC4.mean())\n",
    "km_clust_child_mort = pd.DataFrame(final_df.groupby([\"ClusterID\"]).child_mort.mean())\n",
    "km_clust_health = pd.DataFrame(final_df.groupby([\"ClusterID\"]).health.mean())\n",
    "km_clust_total_fer =  pd.DataFrame(final_df.groupby([\"ClusterID\"]).total_fer.mean())\n",
    "km_clust_income = pd.DataFrame(final_df.groupby([\"ClusterID\"]).income.mean())\n",
    "km_clust_life_expec = pd.DataFrame(final_df.groupby([\"ClusterID\"]).life_expec.mean())"
   ]
  },
  {
   "cell_type": "code",
   "execution_count": 821,
   "metadata": {},
   "outputs": [
    {
     "data": {
      "text/html": [
       "<div>\n",
       "<style scoped>\n",
       "    .dataframe tbody tr th:only-of-type {\n",
       "        vertical-align: middle;\n",
       "    }\n",
       "\n",
       "    .dataframe tbody tr th {\n",
       "        vertical-align: top;\n",
       "    }\n",
       "\n",
       "    .dataframe thead th {\n",
       "        text-align: right;\n",
       "    }\n",
       "</style>\n",
       "<table border=\"1\" class=\"dataframe\">\n",
       "  <thead>\n",
       "    <tr style=\"text-align: right;\">\n",
       "      <th></th>\n",
       "      <th>ClusterID</th>\n",
       "      <th>PC1_mean</th>\n",
       "      <th>PC2_mean</th>\n",
       "      <th>PC3_mean</th>\n",
       "      <th>PC4_mean</th>\n",
       "    </tr>\n",
       "  </thead>\n",
       "  <tbody>\n",
       "    <tr>\n",
       "      <th>0</th>\n",
       "      <td>0</td>\n",
       "      <td>-0.063013</td>\n",
       "      <td>-0.834976</td>\n",
       "      <td>0.066467</td>\n",
       "      <td>0.264901</td>\n",
       "    </tr>\n",
       "    <tr>\n",
       "      <th>1</th>\n",
       "      <td>1</td>\n",
       "      <td>3.634639</td>\n",
       "      <td>0.265412</td>\n",
       "      <td>0.007653</td>\n",
       "      <td>-0.756610</td>\n",
       "    </tr>\n",
       "    <tr>\n",
       "      <th>2</th>\n",
       "      <td>2</td>\n",
       "      <td>13.092921</td>\n",
       "      <td>7.644253</td>\n",
       "      <td>-2.848881</td>\n",
       "      <td>4.083240</td>\n",
       "    </tr>\n",
       "    <tr>\n",
       "      <th>3</th>\n",
       "      <td>3</td>\n",
       "      <td>-2.243213</td>\n",
       "      <td>1.319307</td>\n",
       "      <td>-0.073887</td>\n",
       "      <td>-0.170759</td>\n",
       "    </tr>\n",
       "  </tbody>\n",
       "</table>\n",
       "</div>"
      ],
      "text/plain": [
       "   ClusterID   PC1_mean  PC2_mean  PC3_mean  PC4_mean\n",
       "0          0  -0.063013 -0.834976  0.066467  0.264901\n",
       "1          1   3.634639  0.265412  0.007653 -0.756610\n",
       "2          2  13.092921  7.644253 -2.848881  4.083240\n",
       "3          3  -2.243213  1.319307 -0.073887 -0.170759"
      ]
     },
     "execution_count": 821,
     "metadata": {},
     "output_type": "execute_result"
    }
   ],
   "source": [
    "df1 = pd.concat([pd.Series([0,1,2,3]), km_clust_PC1, km_clust_PC2,km_clust_PC3,km_clust_PC4], axis=1)\n",
    "df1.columns = [\"ClusterID\", \"PC1_mean\", \"PC2_mean\",\"PC3_mean\",\"PC4_mean\"]\n",
    "df1"
   ]
  },
  {
   "cell_type": "code",
   "execution_count": 822,
   "metadata": {},
   "outputs": [
    {
     "data": {
      "text/html": [
       "<div>\n",
       "<style scoped>\n",
       "    .dataframe tbody tr th:only-of-type {\n",
       "        vertical-align: middle;\n",
       "    }\n",
       "\n",
       "    .dataframe tbody tr th {\n",
       "        vertical-align: top;\n",
       "    }\n",
       "\n",
       "    .dataframe thead th {\n",
       "        text-align: right;\n",
       "    }\n",
       "</style>\n",
       "<table border=\"1\" class=\"dataframe\">\n",
       "  <thead>\n",
       "    <tr style=\"text-align: right;\">\n",
       "      <th></th>\n",
       "      <th>ClusterID</th>\n",
       "      <th>child_mort_mean</th>\n",
       "      <th>health_mean</th>\n",
       "      <th>total_fer_mean</th>\n",
       "      <th>income_mean</th>\n",
       "      <th>life_expec_mean</th>\n",
       "    </tr>\n",
       "  </thead>\n",
       "  <tbody>\n",
       "    <tr>\n",
       "      <th>0</th>\n",
       "      <td>0</td>\n",
       "      <td>-0.439712</td>\n",
       "      <td>-0.283827</td>\n",
       "      <td>-0.454232</td>\n",
       "      <td>-0.165496</td>\n",
       "      <td>0.318975</td>\n",
       "    </tr>\n",
       "    <tr>\n",
       "      <th>1</th>\n",
       "      <td>1</td>\n",
       "      <td>-0.821753</td>\n",
       "      <td>1.736712</td>\n",
       "      <td>-0.781062</td>\n",
       "      <td>1.633776</td>\n",
       "      <td>1.116530</td>\n",
       "    </tr>\n",
       "    <tr>\n",
       "      <th>2</th>\n",
       "      <td>2</td>\n",
       "      <td>-0.879519</td>\n",
       "      <td>3.942340</td>\n",
       "      <td>-0.870606</td>\n",
       "      <td>3.867364</td>\n",
       "      <td>1.208153</td>\n",
       "    </tr>\n",
       "    <tr>\n",
       "      <th>3</th>\n",
       "      <td>3</td>\n",
       "      <td>1.351496</td>\n",
       "      <td>-0.525989</td>\n",
       "      <td>1.356354</td>\n",
       "      <td>-0.696886</td>\n",
       "      <td>-1.291494</td>\n",
       "    </tr>\n",
       "  </tbody>\n",
       "</table>\n",
       "</div>"
      ],
      "text/plain": [
       "   ClusterID  child_mort_mean  health_mean  total_fer_mean  income_mean  \\\n",
       "0          0        -0.439712    -0.283827       -0.454232    -0.165496   \n",
       "1          1        -0.821753     1.736712       -0.781062     1.633776   \n",
       "2          2        -0.879519     3.942340       -0.870606     3.867364   \n",
       "3          3         1.351496    -0.525989        1.356354    -0.696886   \n",
       "\n",
       "   life_expec_mean  \n",
       "0         0.318975  \n",
       "1         1.116530  \n",
       "2         1.208153  \n",
       "3        -1.291494  "
      ]
     },
     "execution_count": 822,
     "metadata": {},
     "output_type": "execute_result"
    }
   ],
   "source": [
    "df2 = pd.concat([pd.Series([0,1,2,3]),km_clust_child_mort,km_clust_health,km_clust_total_fer,km_clust_income,km_clust_life_expec], axis=1)\n",
    "df2.columns = [\"ClusterID\",\"child_mort_mean\",\"health_mean\",\"total_fer_mean\",\"income_mean\",\"life_expec_mean\"]\n",
    "df2"
   ]
  },
  {
   "cell_type": "code",
   "execution_count": 823,
   "metadata": {},
   "outputs": [
    {
     "data": {
      "text/plain": [
       "<matplotlib.axes._subplots.AxesSubplot at 0xc8016b2128>"
      ]
     },
     "execution_count": 823,
     "metadata": {},
     "output_type": "execute_result"
    },
    {
     "data": {
      "image/png": "[encoded data removed]",
      "text/plain": [
       "<Figure size 432x288 with 1 Axes>"
      ]
     },
     "metadata": {
      "needs_background": "light"
     },
     "output_type": "display_data"
    }
   ],
   "source": [
    "sns.barplot(x=df1.ClusterID, y=df1.PC1_mean)"
   ]
  },
  {
   "cell_type": "code",
   "execution_count": 824,
   "metadata": {},
   "outputs": [
    {
     "data": {
      "text/plain": [
       "<matplotlib.axes._subplots.AxesSubplot at 0xc801b14ba8>"
      ]
     },
     "execution_count": 824,
     "metadata": {},
     "output_type": "execute_result"
    },
    {
     "data": {
      "image/png": "[encoded data removed]",
      "text/plain": [
       "<Figure size 432x288 with 1 Axes>"
      ]
     },
     "metadata": {
      "needs_background": "light"
     },
     "output_type": "display_data"
    }
   ],
   "source": [
    "sns.barplot(x=df1.ClusterID, y=df1.PC2_mean)"
   ]
  },
  {
   "cell_type": "code",
   "execution_count": 825,
   "metadata": {},
   "outputs": [
    {
     "data": {
      "text/plain": [
       "<matplotlib.axes._subplots.AxesSubplot at 0xc802cbd208>"
      ]
     },
     "execution_count": 825,
     "metadata": {},
     "output_type": "execute_result"
    },
    {
     "data": {
      "image/png": "[encoded data removed]",
      "text/plain": [
       "<Figure size 432x288 with 1 Axes>"
      ]
     },
     "metadata": {
      "needs_background": "light"
     },
     "output_type": "display_data"
    }
   ],
   "source": [
    "sns.barplot(x=df1.ClusterID, y=df1.PC3_mean)"
   ]
  },
  {
   "cell_type": "code",
   "execution_count": 826,
   "metadata": {},
   "outputs": [
    {
     "data": {
      "text/plain": [
       "<matplotlib.axes._subplots.AxesSubplot at 0xc802d17a58>"
      ]
     },
     "execution_count": 826,
     "metadata": {},
     "output_type": "execute_result"
    },
    {
     "data": {
      "image/png": "[encoded data removed]",
      "text/plain": [
       "<Figure size 432x288 with 1 Axes>"
      ]
     },
     "metadata": {
      "needs_background": "light"
     },
     "output_type": "display_data"
    }
   ],
   "source": [
    "sns.barplot(x=df1.ClusterID, y=df1.PC4_mean)"
   ]
  },
  {
   "cell_type": "code",
   "execution_count": 827,
   "metadata": {},
   "outputs": [],
   "source": [
    "#sns.barplot(x=df1.ClusterID, y=df1.PC5_mean)"
   ]
  },
  {
   "cell_type": "code",
   "execution_count": 828,
   "metadata": {},
   "outputs": [
    {
     "data": {
      "text/plain": [
       "<matplotlib.axes._subplots.AxesSubplot at 0xc802d5fe10>"
      ]
     },
     "execution_count": 828,
     "metadata": {},
     "output_type": "execute_result"
    },
    {
     "data": {
      "image/png": "[encoded data removed]",
      "text/plain": [
       "<Figure size 432x288 with 1 Axes>"
      ]
     },
     "metadata": {
      "needs_background": "light"
     },
     "output_type": "display_data"
    }
   ],
   "source": [
    "sns.barplot(x=df2.ClusterID, y=df2.child_mort_mean)"
   ]
  },
  {
   "cell_type": "code",
   "execution_count": 829,
   "metadata": {},
   "outputs": [
    {
     "data": {
      "text/plain": [
       "<matplotlib.axes._subplots.AxesSubplot at 0xc802dbe8d0>"
      ]
     },
     "execution_count": 829,
     "metadata": {},
     "output_type": "execute_result"
    },
    {
     "data": {
      "image/png": "[encoded data removed]",
      "text/plain": [
       "<Figure size 432x288 with 1 Axes>"
      ]
     },
     "metadata": {
      "needs_background": "light"
     },
     "output_type": "display_data"
    }
   ],
   "source": [
    "sns.barplot(x=df2.ClusterID, y=df2.health_mean)"
   ]
  },
  {
   "cell_type": "code",
   "execution_count": 830,
   "metadata": {},
   "outputs": [
    {
     "data": {
      "text/plain": [
       "<matplotlib.axes._subplots.AxesSubplot at 0xc802e2ea58>"
      ]
     },
     "execution_count": 830,
     "metadata": {},
     "output_type": "execute_result"
    },
    {
     "data": {
      "image/png": "[encoded data removed]",
      "text/plain": [
       "<Figure size 432x288 with 1 Axes>"
      ]
     },
     "metadata": {
      "needs_background": "light"
     },
     "output_type": "display_data"
    }
   ],
   "source": [
    "sns.barplot(x=df2.ClusterID, y=df2.total_fer_mean)"
   ]
  },
  {
   "cell_type": "code",
   "execution_count": 831,
   "metadata": {},
   "outputs": [
    {
     "data": {
      "text/plain": [
       "<matplotlib.axes._subplots.AxesSubplot at 0xc802e76ef0>"
      ]
     },
     "execution_count": 831,
     "metadata": {},
     "output_type": "execute_result"
    },
    {
     "data": {
      "image/png": "[encoded data removed]",
      "text/plain": [
       "<Figure size 432x288 with 1 Axes>"
      ]
     },
     "metadata": {
      "needs_background": "light"
     },
     "output_type": "display_data"
    }
   ],
   "source": [
    "sns.barplot(x=df2.ClusterID, y=df2.income_mean)"
   ]
  },
  {
   "cell_type": "code",
   "execution_count": 832,
   "metadata": {},
   "outputs": [
    {
     "data": {
      "text/plain": [
       "<matplotlib.axes._subplots.AxesSubplot at 0xc802ed2ba8>"
      ]
     },
     "execution_count": 832,
     "metadata": {},
     "output_type": "execute_result"
    },
    {
     "data": {
      "image/png": "[encoded data removed]",
      "text/plain": [
       "<Figure size 432x288 with 1 Axes>"
      ]
     },
     "metadata": {
      "needs_background": "light"
     },
     "output_type": "display_data"
    }
   ],
   "source": [
    "sns.barplot(x=df2.ClusterID, y=df2.life_expec_mean)"
   ]
  },
  {
   "cell_type": "markdown",
   "metadata": {},
   "source": [
    "On Analysing the barplots we can clearly see that Cluster 3 has high child_mort and total_fert but low health, income and life_expec. So Cluster 3 is our preferred cluster for aids."
   ]
  },
  {
   "cell_type": "code",
   "execution_count": 833,
   "metadata": {},
   "outputs": [],
   "source": [
    "df_reqd4=final_df[(final_df.ClusterID==3)]"
   ]
  },
  {
   "cell_type": "code",
   "execution_count": 834,
   "metadata": {},
   "outputs": [
    {
     "data": {
      "text/plain": [
       "47"
      ]
     },
     "execution_count": 834,
     "metadata": {},
     "output_type": "execute_result"
    }
   ],
   "source": [
    "len(df_reqd4)"
   ]
  },
  {
   "cell_type": "code",
   "execution_count": 835,
   "metadata": {},
   "outputs": [
    {
     "data": {
      "text/html": [
       "<div>\n",
       "<style scoped>\n",
       "    .dataframe tbody tr th:only-of-type {\n",
       "        vertical-align: middle;\n",
       "    }\n",
       "\n",
       "    .dataframe tbody tr th {\n",
       "        vertical-align: top;\n",
       "    }\n",
       "\n",
       "    .dataframe thead th {\n",
       "        text-align: right;\n",
       "    }\n",
       "</style>\n",
       "<table border=\"1\" class=\"dataframe\">\n",
       "  <thead>\n",
       "    <tr style=\"text-align: right;\">\n",
       "      <th></th>\n",
       "      <th>country</th>\n",
       "      <th>child_mort</th>\n",
       "      <th>exports</th>\n",
       "      <th>health</th>\n",
       "      <th>imports</th>\n",
       "      <th>income</th>\n",
       "      <th>inflation</th>\n",
       "      <th>life_expec</th>\n",
       "      <th>total_fer</th>\n",
       "      <th>gdpp</th>\n",
       "      <th>PC1</th>\n",
       "      <th>PC2</th>\n",
       "      <th>PC3</th>\n",
       "      <th>PC4</th>\n",
       "      <th>ClusterID</th>\n",
       "    </tr>\n",
       "  </thead>\n",
       "  <tbody>\n",
       "    <tr>\n",
       "      <th>0</th>\n",
       "      <td>Afghanistan</td>\n",
       "      <td>1.287660</td>\n",
       "      <td>-0.409779</td>\n",
       "      <td>-0.563346</td>\n",
       "      <td>-0.430979</td>\n",
       "      <td>-0.805822</td>\n",
       "      <td>-0.463617</td>\n",
       "      <td>-1.614237</td>\n",
       "      <td>1.897176</td>\n",
       "      <td>-0.677143</td>\n",
       "      <td>-2.644408</td>\n",
       "      <td>1.575935</td>\n",
       "      <td>-0.249473</td>\n",
       "      <td>-0.261199</td>\n",
       "      <td>3</td>\n",
       "    </tr>\n",
       "    <tr>\n",
       "      <th>3</th>\n",
       "      <td>Angola</td>\n",
       "      <td>2.001787</td>\n",
       "      <td>-0.290501</td>\n",
       "      <td>-0.530767</td>\n",
       "      <td>-0.344915</td>\n",
       "      <td>-0.583289</td>\n",
       "      <td>0.182628</td>\n",
       "      <td>-1.175698</td>\n",
       "      <td>2.121770</td>\n",
       "      <td>-0.514720</td>\n",
       "      <td>-2.417752</td>\n",
       "      <td>2.141078</td>\n",
       "      <td>0.285958</td>\n",
       "      <td>-0.367783</td>\n",
       "      <td>3</td>\n",
       "    </tr>\n",
       "    <tr>\n",
       "      <th>17</th>\n",
       "      <td>Benin</td>\n",
       "      <td>1.803418</td>\n",
       "      <td>-0.402819</td>\n",
       "      <td>-0.569363</td>\n",
       "      <td>-0.428690</td>\n",
       "      <td>-0.794929</td>\n",
       "      <td>-0.503428</td>\n",
       "      <td>-0.984541</td>\n",
       "      <td>1.593315</td>\n",
       "      <td>-0.665958</td>\n",
       "      <td>-2.501027</td>\n",
       "      <td>1.427697</td>\n",
       "      <td>-0.292876</td>\n",
       "      <td>-0.288600</td>\n",
       "      <td>3</td>\n",
       "    </tr>\n",
       "    <tr>\n",
       "      <th>21</th>\n",
       "      <td>Botswana</td>\n",
       "      <td>0.352847</td>\n",
       "      <td>-0.258821</td>\n",
       "      <td>-0.294038</td>\n",
       "      <td>-0.226419</td>\n",
       "      <td>-0.199433</td>\n",
       "      <td>-0.013647</td>\n",
       "      <td>-1.513036</td>\n",
       "      <td>-0.044895</td>\n",
       "      <td>-0.360863</td>\n",
       "      <td>-1.096249</td>\n",
       "      <td>0.490077</td>\n",
       "      <td>0.102767</td>\n",
       "      <td>0.118712</td>\n",
       "      <td>3</td>\n",
       "    </tr>\n",
       "    <tr>\n",
       "      <th>25</th>\n",
       "      <td>Burkina Faso</td>\n",
       "      <td>1.927399</td>\n",
       "      <td>-0.406713</td>\n",
       "      <td>-0.565101</td>\n",
       "      <td>-0.436288</td>\n",
       "      <td>-0.815159</td>\n",
       "      <td>-0.475033</td>\n",
       "      <td>-1.423079</td>\n",
       "      <td>1.930205</td>\n",
       "      <td>-0.675943</td>\n",
       "      <td>-2.791493</td>\n",
       "      <td>1.833528</td>\n",
       "      <td>-0.275499</td>\n",
       "      <td>-0.365727</td>\n",
       "      <td>3</td>\n",
       "    </tr>\n",
       "    <tr>\n",
       "      <th>26</th>\n",
       "      <td>Burundi</td>\n",
       "      <td>1.371966</td>\n",
       "      <td>-0.411709</td>\n",
       "      <td>-0.571740</td>\n",
       "      <td>-0.441702</td>\n",
       "      <td>-0.849706</td>\n",
       "      <td>-0.484435</td>\n",
       "      <td>-1.445568</td>\n",
       "      <td>2.187827</td>\n",
       "      <td>-0.694711</td>\n",
       "      <td>-2.733072</td>\n",
       "      <td>1.673460</td>\n",
       "      <td>-0.264246</td>\n",
       "      <td>-0.327126</td>\n",
       "      <td>3</td>\n",
       "    </tr>\n",
       "    <tr>\n",
       "      <th>28</th>\n",
       "      <td>Cameroon</td>\n",
       "      <td>1.729030</td>\n",
       "      <td>-0.396675</td>\n",
       "      <td>-0.549309</td>\n",
       "      <td>-0.423814</td>\n",
       "      <td>-0.751356</td>\n",
       "      <td>-0.487403</td>\n",
       "      <td>-1.490547</td>\n",
       "      <td>1.428173</td>\n",
       "      <td>-0.635842</td>\n",
       "      <td>-2.557005</td>\n",
       "      <td>1.536619</td>\n",
       "      <td>-0.288374</td>\n",
       "      <td>-0.256071</td>\n",
       "      <td>3</td>\n",
       "    </tr>\n",
       "    <tr>\n",
       "      <th>31</th>\n",
       "      <td>Central African Republic</td>\n",
       "      <td>2.745670</td>\n",
       "      <td>-0.409928</td>\n",
       "      <td>-0.576761</td>\n",
       "      <td>-0.439824</td>\n",
       "      <td>-0.843274</td>\n",
       "      <td>-0.501453</td>\n",
       "      <td>-2.592516</td>\n",
       "      <td>1.494230</td>\n",
       "      <td>-0.682981</td>\n",
       "      <td>-3.331588</td>\n",
       "      <td>2.500083</td>\n",
       "      <td>-0.359718</td>\n",
       "      <td>-0.369074</td>\n",
       "      <td>3</td>\n",
       "    </tr>\n",
       "    <tr>\n",
       "      <th>32</th>\n",
       "      <td>Chad</td>\n",
       "      <td>2.770466</td>\n",
       "      <td>-0.394490</td>\n",
       "      <td>-0.564058</td>\n",
       "      <td>-0.421333</td>\n",
       "      <td>-0.789223</td>\n",
       "      <td>-0.459141</td>\n",
       "      <td>-1.580503</td>\n",
       "      <td>2.405814</td>\n",
       "      <td>-0.658375</td>\n",
       "      <td>-3.208073</td>\n",
       "      <td>2.576287</td>\n",
       "      <td>-0.281492</td>\n",
       "      <td>-0.577330</td>\n",
       "      <td>3</td>\n",
       "    </tr>\n",
       "    <tr>\n",
       "      <th>36</th>\n",
       "      <td>Comoros</td>\n",
       "      <td>1.238068</td>\n",
       "      <td>-0.405796</td>\n",
       "      <td>-0.567362</td>\n",
       "      <td>-0.420832</td>\n",
       "      <td>-0.816196</td>\n",
       "      <td>-0.483256</td>\n",
       "      <td>-0.523513</td>\n",
       "      <td>1.190368</td>\n",
       "      <td>-0.665358</td>\n",
       "      <td>-2.060010</td>\n",
       "      <td>0.759459</td>\n",
       "      <td>-0.266253</td>\n",
       "      <td>-0.130132</td>\n",
       "      <td>3</td>\n",
       "    </tr>\n",
       "    <tr>\n",
       "      <th>37</th>\n",
       "      <td>Congo, Dem. Rep.</td>\n",
       "      <td>1.927399</td>\n",
       "      <td>-0.405218</td>\n",
       "      <td>-0.571949</td>\n",
       "      <td>-0.436596</td>\n",
       "      <td>-0.857746</td>\n",
       "      <td>-0.448506</td>\n",
       "      <td>-1.468058</td>\n",
       "      <td>2.372786</td>\n",
       "      <td>-0.689092</td>\n",
       "      <td>-2.952898</td>\n",
       "      <td>2.066336</td>\n",
       "      <td>-0.251938</td>\n",
       "      <td>-0.438119</td>\n",
       "      <td>3</td>\n",
       "    </tr>\n",
       "    <tr>\n",
       "      <th>38</th>\n",
       "      <td>Congo, Rep.</td>\n",
       "      <td>0.635522</td>\n",
       "      <td>-0.283126</td>\n",
       "      <td>-0.549197</td>\n",
       "      <td>-0.345975</td>\n",
       "      <td>-0.620119</td>\n",
       "      <td>-0.012982</td>\n",
       "      <td>-1.141965</td>\n",
       "      <td>1.322482</td>\n",
       "      <td>-0.557822</td>\n",
       "      <td>-1.834585</td>\n",
       "      <td>0.989436</td>\n",
       "      <td>0.137533</td>\n",
       "      <td>0.006473</td>\n",
       "      <td>3</td>\n",
       "    </tr>\n",
       "    <tr>\n",
       "      <th>40</th>\n",
       "      <td>Cote d'Ivoire</td>\n",
       "      <td>1.803418</td>\n",
       "      <td>-0.378510</td>\n",
       "      <td>-0.550721</td>\n",
       "      <td>-0.411948</td>\n",
       "      <td>-0.749800</td>\n",
       "      <td>-0.451756</td>\n",
       "      <td>-1.602993</td>\n",
       "      <td>1.533864</td>\n",
       "      <td>-0.640752</td>\n",
       "      <td>-2.632248</td>\n",
       "      <td>1.689465</td>\n",
       "      <td>-0.266666</td>\n",
       "      <td>-0.267300</td>\n",
       "      <td>3</td>\n",
       "    </tr>\n",
       "    <tr>\n",
       "      <th>49</th>\n",
       "      <td>Equatorial Guinea</td>\n",
       "      <td>1.803418</td>\n",
       "      <td>0.403429</td>\n",
       "      <td>-0.161348</td>\n",
       "      <td>0.236802</td>\n",
       "      <td>0.858764</td>\n",
       "      <td>3.216612</td>\n",
       "      <td>-1.085742</td>\n",
       "      <td>1.494230</td>\n",
       "      <td>0.225648</td>\n",
       "      <td>-0.117133</td>\n",
       "      <td>3.153742</td>\n",
       "      <td>2.795850</td>\n",
       "      <td>-0.005877</td>\n",
       "      <td>3</td>\n",
       "    </tr>\n",
       "    <tr>\n",
       "      <th>50</th>\n",
       "      <td>Eritrea</td>\n",
       "      <td>0.419796</td>\n",
       "      <td>-0.411571</td>\n",
       "      <td>-0.579498</td>\n",
       "      <td>-0.440224</td>\n",
       "      <td>-0.815678</td>\n",
       "      <td>-0.460372</td>\n",
       "      <td>-0.995785</td>\n",
       "      <td>1.097889</td>\n",
       "      <td>-0.681017</td>\n",
       "      <td>-1.956749</td>\n",
       "      <td>0.486146</td>\n",
       "      <td>-0.221944</td>\n",
       "      <td>0.022529</td>\n",
       "      <td>3</td>\n",
       "    </tr>\n",
       "    <tr>\n",
       "      <th>55</th>\n",
       "      <td>Gabon</td>\n",
       "      <td>0.630563</td>\n",
       "      <td>-0.131962</td>\n",
       "      <td>-0.416609</td>\n",
       "      <td>-0.335441</td>\n",
       "      <td>-0.090501</td>\n",
       "      <td>0.761724</td>\n",
       "      <td>-0.860850</td>\n",
       "      <td>0.747787</td>\n",
       "      <td>-0.229921</td>\n",
       "      <td>-0.979230</td>\n",
       "      <td>0.956709</td>\n",
       "      <td>0.849288</td>\n",
       "      <td>0.014858</td>\n",
       "      <td>3</td>\n",
       "    </tr>\n",
       "    <tr>\n",
       "      <th>56</th>\n",
       "      <td>Gambia</td>\n",
       "      <td>1.042178</td>\n",
       "      <td>-0.405414</td>\n",
       "      <td>-0.568863</td>\n",
       "      <td>-0.431545</td>\n",
       "      <td>-0.803228</td>\n",
       "      <td>-0.488151</td>\n",
       "      <td>-0.568491</td>\n",
       "      <td>1.824514</td>\n",
       "      <td>-0.676652</td>\n",
       "      <td>-2.202978</td>\n",
       "      <td>0.983378</td>\n",
       "      <td>-0.242634</td>\n",
       "      <td>-0.228048</td>\n",
       "      <td>3</td>\n",
       "    </tr>\n",
       "    <tr>\n",
       "      <th>59</th>\n",
       "      <td>Ghana</td>\n",
       "      <td>0.903320</td>\n",
       "      <td>-0.391355</td>\n",
       "      <td>-0.548655</td>\n",
       "      <td>-0.406984</td>\n",
       "      <td>-0.730607</td>\n",
       "      <td>-0.319008</td>\n",
       "      <td>-0.939562</td>\n",
       "      <td>0.873295</td>\n",
       "      <td>-0.635842</td>\n",
       "      <td>-1.911793</td>\n",
       "      <td>0.669366</td>\n",
       "      <td>-0.122377</td>\n",
       "      <td>-0.011514</td>\n",
       "      <td>3</td>\n",
       "    </tr>\n",
       "    <tr>\n",
       "      <th>63</th>\n",
       "      <td>Guinea</td>\n",
       "      <td>1.753826</td>\n",
       "      <td>-0.401932</td>\n",
       "      <td>-0.568881</td>\n",
       "      <td>-0.428829</td>\n",
       "      <td>-0.827608</td>\n",
       "      <td>-0.418005</td>\n",
       "      <td>-1.411835</td>\n",
       "      <td>1.580104</td>\n",
       "      <td>-0.671960</td>\n",
       "      <td>-2.622918</td>\n",
       "      <td>1.585705</td>\n",
       "      <td>-0.235285</td>\n",
       "      <td>-0.258035</td>\n",
       "      <td>3</td>\n",
       "    </tr>\n",
       "    <tr>\n",
       "      <th>64</th>\n",
       "      <td>Guinea-Bissau</td>\n",
       "      <td>1.877807</td>\n",
       "      <td>-0.408321</td>\n",
       "      <td>-0.560804</td>\n",
       "      <td>-0.434769</td>\n",
       "      <td>-0.817234</td>\n",
       "      <td>-0.495082</td>\n",
       "      <td>-1.681705</td>\n",
       "      <td>1.388539</td>\n",
       "      <td>-0.677470</td>\n",
       "      <td>-2.710540</td>\n",
       "      <td>1.645229</td>\n",
       "      <td>-0.310929</td>\n",
       "      <td>-0.249210</td>\n",
       "      <td>3</td>\n",
       "    </tr>\n",
       "    <tr>\n",
       "      <th>66</th>\n",
       "      <td>Haiti</td>\n",
       "      <td>4.208640</td>\n",
       "      <td>-0.407220</td>\n",
       "      <td>-0.561221</td>\n",
       "      <td>-0.418742</td>\n",
       "      <td>-0.811528</td>\n",
       "      <td>-0.477727</td>\n",
       "      <td>-4.324181</td>\n",
       "      <td>0.252361</td>\n",
       "      <td>-0.671196</td>\n",
       "      <td>-3.962651</td>\n",
       "      <td>3.364705</td>\n",
       "      <td>-0.452650</td>\n",
       "      <td>-0.306463</td>\n",
       "      <td>3</td>\n",
       "    </tr>\n",
       "    <tr>\n",
       "      <th>80</th>\n",
       "      <td>Kenya</td>\n",
       "      <td>0.593369</td>\n",
       "      <td>-0.401719</td>\n",
       "      <td>-0.561117</td>\n",
       "      <td>-0.425771</td>\n",
       "      <td>-0.760693</td>\n",
       "      <td>-0.491613</td>\n",
       "      <td>-0.872095</td>\n",
       "      <td>0.939352</td>\n",
       "      <td>-0.654556</td>\n",
       "      <td>-1.881766</td>\n",
       "      <td>0.460307</td>\n",
       "      <td>-0.253441</td>\n",
       "      <td>0.008139</td>\n",
       "      <td>3</td>\n",
       "    </tr>\n",
       "    <tr>\n",
       "      <th>81</th>\n",
       "      <td>Kiribati</td>\n",
       "      <td>0.605767</td>\n",
       "      <td>-0.401830</td>\n",
       "      <td>-0.493149</td>\n",
       "      <td>-0.366930</td>\n",
       "      <td>-0.799597</td>\n",
       "      <td>-0.489479</td>\n",
       "      <td>-1.108231</td>\n",
       "      <td>0.589251</td>\n",
       "      <td>-0.626021</td>\n",
       "      <td>-1.822827</td>\n",
       "      <td>0.419473</td>\n",
       "      <td>-0.310253</td>\n",
       "      <td>0.052943</td>\n",
       "      <td>3</td>\n",
       "    </tr>\n",
       "    <tr>\n",
       "      <th>84</th>\n",
       "      <td>Lao</td>\n",
       "      <td>1.007464</td>\n",
       "      <td>-0.390403</td>\n",
       "      <td>-0.558327</td>\n",
       "      <td>-0.409653</td>\n",
       "      <td>-0.682884</td>\n",
       "      <td>-0.417522</td>\n",
       "      <td>-0.759649</td>\n",
       "      <td>0.133459</td>\n",
       "      <td>-0.645117</td>\n",
       "      <td>-1.678371</td>\n",
       "      <td>0.267596</td>\n",
       "      <td>-0.209074</td>\n",
       "      <td>0.114274</td>\n",
       "      <td>3</td>\n",
       "    </tr>\n",
       "    <tr>\n",
       "      <th>87</th>\n",
       "      <td>Lesotho</td>\n",
       "      <td>1.523223</td>\n",
       "      <td>-0.387208</td>\n",
       "      <td>-0.514521</td>\n",
       "      <td>-0.367529</td>\n",
       "      <td>-0.765880</td>\n",
       "      <td>-0.466809</td>\n",
       "      <td>-2.704962</td>\n",
       "      <td>0.232544</td>\n",
       "      <td>-0.643480</td>\n",
       "      <td>-2.525607</td>\n",
       "      <td>1.372915</td>\n",
       "      <td>-0.348774</td>\n",
       "      <td>0.046644</td>\n",
       "      <td>3</td>\n",
       "    </tr>\n",
       "    <tr>\n",
       "      <th>88</th>\n",
       "      <td>Liberia</td>\n",
       "      <td>1.265343</td>\n",
       "      <td>-0.409381</td>\n",
       "      <td>-0.565195</td>\n",
       "      <td>-0.427274</td>\n",
       "      <td>-0.853026</td>\n",
       "      <td>-0.493646</td>\n",
       "      <td>-1.096986</td>\n",
       "      <td>1.368722</td>\n",
       "      <td>-0.689473</td>\n",
       "      <td>-2.340502</td>\n",
       "      <td>1.081302</td>\n",
       "      <td>-0.289255</td>\n",
       "      <td>-0.154131</td>\n",
       "      <td>3</td>\n",
       "    </tr>\n",
       "    <tr>\n",
       "      <th>93</th>\n",
       "      <td>Madagascar</td>\n",
       "      <td>0.593369</td>\n",
       "      <td>-0.407111</td>\n",
       "      <td>-0.577972</td>\n",
       "      <td>-0.435786</td>\n",
       "      <td>-0.817234</td>\n",
       "      <td>-0.477531</td>\n",
       "      <td>-1.096986</td>\n",
       "      <td>1.091283</td>\n",
       "      <td>-0.684781</td>\n",
       "      <td>-2.043472</td>\n",
       "      <td>0.610808</td>\n",
       "      <td>-0.247208</td>\n",
       "      <td>0.002976</td>\n",
       "      <td>3</td>\n",
       "    </tr>\n",
       "    <tr>\n",
       "      <th>94</th>\n",
       "      <td>Malawi</td>\n",
       "      <td>1.295099</td>\n",
       "      <td>-0.407033</td>\n",
       "      <td>-0.569823</td>\n",
       "      <td>-0.436969</td>\n",
       "      <td>-0.835908</td>\n",
       "      <td>-0.460698</td>\n",
       "      <td>-1.962819</td>\n",
       "      <td>1.560287</td>\n",
       "      <td>-0.682272</td>\n",
       "      <td>-2.682692</td>\n",
       "      <td>1.552484</td>\n",
       "      <td>-0.266836</td>\n",
       "      <td>-0.180964</td>\n",
       "      <td>3</td>\n",
       "    </tr>\n",
       "    <tr>\n",
       "      <th>97</th>\n",
       "      <td>Mali</td>\n",
       "      <td>2.448117</td>\n",
       "      <td>-0.403875</td>\n",
       "      <td>-0.567042</td>\n",
       "      <td>-0.430965</td>\n",
       "      <td>-0.792335</td>\n",
       "      <td>-0.482224</td>\n",
       "      <td>-1.243166</td>\n",
       "      <td>2.379391</td>\n",
       "      <td>-0.668686</td>\n",
       "      <td>-3.006927</td>\n",
       "      <td>2.247820</td>\n",
       "      <td>-0.279825</td>\n",
       "      <td>-0.535536</td>\n",
       "      <td>3</td>\n",
       "    </tr>\n",
       "    <tr>\n",
       "      <th>99</th>\n",
       "      <td>Mauritania</td>\n",
       "      <td>1.466192</td>\n",
       "      <td>-0.379006</td>\n",
       "      <td>-0.557238</td>\n",
       "      <td>-0.397935</td>\n",
       "      <td>-0.717120</td>\n",
       "      <td>-0.310835</td>\n",
       "      <td>-0.264887</td>\n",
       "      <td>1.342299</td>\n",
       "      <td>-0.641843</td>\n",
       "      <td>-1.983866</td>\n",
       "      <td>0.915931</td>\n",
       "      <td>-0.108164</td>\n",
       "      <td>-0.183993</td>\n",
       "      <td>3</td>\n",
       "    </tr>\n",
       "    <tr>\n",
       "      <th>106</th>\n",
       "      <td>Mozambique</td>\n",
       "      <td>1.555458</td>\n",
       "      <td>-0.405512</td>\n",
       "      <td>-0.574497</td>\n",
       "      <td>-0.434699</td>\n",
       "      <td>-0.841718</td>\n",
       "      <td>-0.481286</td>\n",
       "      <td>-1.805395</td>\n",
       "      <td>1.725429</td>\n",
       "      <td>-0.684454</td>\n",
       "      <td>-2.764480</td>\n",
       "      <td>1.695584</td>\n",
       "      <td>-0.286826</td>\n",
       "      <td>-0.251196</td>\n",
       "      <td>3</td>\n",
       "    </tr>\n",
       "    <tr>\n",
       "      <th>108</th>\n",
       "      <td>Namibia</td>\n",
       "      <td>0.439633</td>\n",
       "      <td>-0.274832</td>\n",
       "      <td>-0.391278</td>\n",
       "      <td>-0.233707</td>\n",
       "      <td>-0.450496</td>\n",
       "      <td>-0.347619</td>\n",
       "      <td>-1.344367</td>\n",
       "      <td>0.430714</td>\n",
       "      <td>-0.424152</td>\n",
       "      <td>-1.435118</td>\n",
       "      <td>0.562388</td>\n",
       "      <td>-0.204044</td>\n",
       "      <td>0.071467</td>\n",
       "      <td>3</td>\n",
       "    </tr>\n",
       "    <tr>\n",
       "      <th>112</th>\n",
       "      <td>Niger</td>\n",
       "      <td>2.100972</td>\n",
       "      <td>-0.408557</td>\n",
       "      <td>-0.576647</td>\n",
       "      <td>-0.436243</td>\n",
       "      <td>-0.847112</td>\n",
       "      <td>-0.501533</td>\n",
       "      <td>-1.321878</td>\n",
       "      <td>3.000326</td>\n",
       "      <td>-0.688328</td>\n",
       "      <td>-3.146675</td>\n",
       "      <td>2.388724</td>\n",
       "      <td>-0.280381</td>\n",
       "      <td>-0.596090</td>\n",
       "      <td>3</td>\n",
       "    </tr>\n",
       "    <tr>\n",
       "      <th>113</th>\n",
       "      <td>Nigeria</td>\n",
       "      <td>2.274544</td>\n",
       "      <td>-0.380059</td>\n",
       "      <td>-0.521038</td>\n",
       "      <td>-0.420299</td>\n",
       "      <td>-0.622194</td>\n",
       "      <td>1.611143</td>\n",
       "      <td>-1.130720</td>\n",
       "      <td>1.910388</td>\n",
       "      <td>-0.580191</td>\n",
       "      <td>-2.236288</td>\n",
       "      <td>2.407204</td>\n",
       "      <td>1.529682</td>\n",
       "      <td>-0.282444</td>\n",
       "      <td>3</td>\n",
       "    </tr>\n",
       "    <tr>\n",
       "      <th>116</th>\n",
       "      <td>Pakistan</td>\n",
       "      <td>1.334772</td>\n",
       "      <td>-0.405044</td>\n",
       "      <td>-0.573914</td>\n",
       "      <td>-0.434143</td>\n",
       "      <td>-0.667323</td>\n",
       "      <td>-0.410101</td>\n",
       "      <td>-0.590980</td>\n",
       "      <td>0.595857</td>\n",
       "      <td>-0.650573</td>\n",
       "      <td>-1.868580</td>\n",
       "      <td>0.577866</td>\n",
       "      <td>-0.179775</td>\n",
       "      <td>-0.034006</td>\n",
       "      <td>3</td>\n",
       "    </tr>\n",
       "    <tr>\n",
       "      <th>126</th>\n",
       "      <td>Rwanda</td>\n",
       "      <td>0.628084</td>\n",
       "      <td>-0.409097</td>\n",
       "      <td>-0.553799</td>\n",
       "      <td>-0.436377</td>\n",
       "      <td>-0.819309</td>\n",
       "      <td>-0.496439</td>\n",
       "      <td>-0.669692</td>\n",
       "      <td>1.031832</td>\n",
       "      <td>-0.676597</td>\n",
       "      <td>-1.887532</td>\n",
       "      <td>0.423020</td>\n",
       "      <td>-0.263124</td>\n",
       "      <td>-0.020031</td>\n",
       "      <td>3</td>\n",
       "    </tr>\n",
       "    <tr>\n",
       "      <th>129</th>\n",
       "      <td>Senegal</td>\n",
       "      <td>0.707431</td>\n",
       "      <td>-0.399002</td>\n",
       "      <td>-0.555195</td>\n",
       "      <td>-0.420463</td>\n",
       "      <td>-0.776255</td>\n",
       "      <td>-0.493109</td>\n",
       "      <td>-0.737160</td>\n",
       "      <td>1.395144</td>\n",
       "      <td>-0.652755</td>\n",
       "      <td>-2.003681</td>\n",
       "      <td>0.686818</td>\n",
       "      <td>-0.252205</td>\n",
       "      <td>-0.102581</td>\n",
       "      <td>3</td>\n",
       "    </tr>\n",
       "    <tr>\n",
       "      <th>132</th>\n",
       "      <td>Sierra Leone</td>\n",
       "      <td>3.018427</td>\n",
       "      <td>-0.409126</td>\n",
       "      <td>-0.557599</td>\n",
       "      <td>-0.438500</td>\n",
       "      <td>-0.826052</td>\n",
       "      <td>-0.449244</td>\n",
       "      <td>-1.749172</td>\n",
       "      <td>1.487624</td>\n",
       "      <td>-0.685545</td>\n",
       "      <td>-3.106943</td>\n",
       "      <td>2.305749</td>\n",
       "      <td>-0.307477</td>\n",
       "      <td>-0.431004</td>\n",
       "      <td>3</td>\n",
       "    </tr>\n",
       "    <tr>\n",
       "      <th>136</th>\n",
       "      <td>Solomon Islands</td>\n",
       "      <td>-0.252178</td>\n",
       "      <td>-0.377473</td>\n",
       "      <td>-0.525388</td>\n",
       "      <td>-0.376653</td>\n",
       "      <td>-0.797004</td>\n",
       "      <td>-0.432425</td>\n",
       "      <td>-0.995785</td>\n",
       "      <td>0.853478</td>\n",
       "      <td>-0.636933</td>\n",
       "      <td>-1.598602</td>\n",
       "      <td>0.081083</td>\n",
       "      <td>-0.219766</td>\n",
       "      <td>0.160461</td>\n",
       "      <td>3</td>\n",
       "    </tr>\n",
       "    <tr>\n",
       "      <th>137</th>\n",
       "      <td>South Africa</td>\n",
       "      <td>0.382602</td>\n",
       "      <td>-0.297016</td>\n",
       "      <td>-0.225324</td>\n",
       "      <td>-0.312262</td>\n",
       "      <td>-0.266867</td>\n",
       "      <td>-0.104776</td>\n",
       "      <td>-1.827884</td>\n",
       "      <td>-0.236460</td>\n",
       "      <td>-0.310123</td>\n",
       "      <td>-1.197835</td>\n",
       "      <td>0.487088</td>\n",
       "      <td>0.014299</td>\n",
       "      <td>0.039231</td>\n",
       "      <td>3</td>\n",
       "    </tr>\n",
       "    <tr>\n",
       "      <th>142</th>\n",
       "      <td>Sudan</td>\n",
       "      <td>0.952912</td>\n",
       "      <td>-0.396634</td>\n",
       "      <td>-0.534691</td>\n",
       "      <td>-0.430554</td>\n",
       "      <td>-0.714526</td>\n",
       "      <td>-0.255461</td>\n",
       "      <td>-0.478534</td>\n",
       "      <td>1.276242</td>\n",
       "      <td>-0.626567</td>\n",
       "      <td>-1.871288</td>\n",
       "      <td>0.712264</td>\n",
       "      <td>-0.041401</td>\n",
       "      <td>-0.128031</td>\n",
       "      <td>3</td>\n",
       "    </tr>\n",
       "    <tr>\n",
       "      <th>147</th>\n",
       "      <td>Tanzania</td>\n",
       "      <td>0.833891</td>\n",
       "      <td>-0.405552</td>\n",
       "      <td>-0.563194</td>\n",
       "      <td>-0.433971</td>\n",
       "      <td>-0.780923</td>\n",
       "      <td>-0.452476</td>\n",
       "      <td>-1.265655</td>\n",
       "      <td>1.639555</td>\n",
       "      <td>-0.669014</td>\n",
       "      <td>-2.299592</td>\n",
       "      <td>1.084929</td>\n",
       "      <td>-0.219065</td>\n",
       "      <td>-0.153029</td>\n",
       "      <td>3</td>\n",
       "    </tr>\n",
       "    <tr>\n",
       "      <th>149</th>\n",
       "      <td>Timor-Leste</td>\n",
       "      <td>0.603287</td>\n",
       "      <td>-0.408449</td>\n",
       "      <td>-0.404358</td>\n",
       "      <td>-0.379826</td>\n",
       "      <td>-0.793372</td>\n",
       "      <td>0.325508</td>\n",
       "      <td>0.061206</td>\n",
       "      <td>2.168010</td>\n",
       "      <td>-0.510901</td>\n",
       "      <td>-1.651689</td>\n",
       "      <td>0.916764</td>\n",
       "      <td>0.432019</td>\n",
       "      <td>-0.317656</td>\n",
       "      <td>3</td>\n",
       "    </tr>\n",
       "    <tr>\n",
       "      <th>150</th>\n",
       "      <td>Togo</td>\n",
       "      <td>1.290139</td>\n",
       "      <td>-0.401941</td>\n",
       "      <td>-0.565891</td>\n",
       "      <td>-0.428850</td>\n",
       "      <td>-0.826571</td>\n",
       "      <td>-0.504259</td>\n",
       "      <td>-1.333123</td>\n",
       "      <td>1.269636</td>\n",
       "      <td>-0.680689</td>\n",
       "      <td>-2.384972</td>\n",
       "      <td>1.146577</td>\n",
       "      <td>-0.300756</td>\n",
       "      <td>-0.136465</td>\n",
       "      <td>3</td>\n",
       "    </tr>\n",
       "    <tr>\n",
       "      <th>155</th>\n",
       "      <td>Uganda</td>\n",
       "      <td>1.059536</td>\n",
       "      <td>-0.407195</td>\n",
       "      <td>-0.556855</td>\n",
       "      <td>-0.436290</td>\n",
       "      <td>-0.809453</td>\n",
       "      <td>-0.454108</td>\n",
       "      <td>-1.546770</td>\n",
       "      <td>2.115164</td>\n",
       "      <td>-0.674852</td>\n",
       "      <td>-2.612561</td>\n",
       "      <td>1.541214</td>\n",
       "      <td>-0.228951</td>\n",
       "      <td>-0.277747</td>\n",
       "      <td>3</td>\n",
       "    </tr>\n",
       "    <tr>\n",
       "      <th>165</th>\n",
       "      <td>Yemen</td>\n",
       "      <td>0.447072</td>\n",
       "      <td>-0.390991</td>\n",
       "      <td>-0.548945</td>\n",
       "      <td>-0.417225</td>\n",
       "      <td>-0.656948</td>\n",
       "      <td>-0.238765</td>\n",
       "      <td>-0.343599</td>\n",
       "      <td>1.137523</td>\n",
       "      <td>-0.635842</td>\n",
       "      <td>-1.608573</td>\n",
       "      <td>0.346818</td>\n",
       "      <td>0.000531</td>\n",
       "      <td>-0.010569</td>\n",
       "      <td>3</td>\n",
       "    </tr>\n",
       "    <tr>\n",
       "      <th>166</th>\n",
       "      <td>Zambia</td>\n",
       "      <td>1.111607</td>\n",
       "      <td>-0.382801</td>\n",
       "      <td>-0.538878</td>\n",
       "      <td>-0.417191</td>\n",
       "      <td>-0.719195</td>\n",
       "      <td>-0.330436</td>\n",
       "      <td>-2.086510</td>\n",
       "      <td>1.619738</td>\n",
       "      <td>-0.627658</td>\n",
       "      <td>-2.566169</td>\n",
       "      <td>1.610271</td>\n",
       "      <td>-0.141650</td>\n",
       "      <td>-0.181316</td>\n",
       "      <td>3</td>\n",
       "    </tr>\n",
       "  </tbody>\n",
       "</table>\n",
       "</div>"
      ],
      "text/plain": [
       "                      country  child_mort   exports    health   imports  \\\n",
       "0                 Afghanistan    1.287660 -0.409779 -0.563346 -0.430979   \n",
       "3                      Angola    2.001787 -0.290501 -0.530767 -0.344915   \n",
       "17                      Benin    1.803418 -0.402819 -0.569363 -0.428690   \n",
       "21                   Botswana    0.352847 -0.258821 -0.294038 -0.226419   \n",
       "25               Burkina Faso    1.927399 -0.406713 -0.565101 -0.436288   \n",
       "26                    Burundi    1.371966 -0.411709 -0.571740 -0.441702   \n",
       "28                   Cameroon    1.729030 -0.396675 -0.549309 -0.423814   \n",
       "31   Central African Republic    2.745670 -0.409928 -0.576761 -0.439824   \n",
       "32                       Chad    2.770466 -0.394490 -0.564058 -0.421333   \n",
       "36                    Comoros    1.238068 -0.405796 -0.567362 -0.420832   \n",
       "37           Congo, Dem. Rep.    1.927399 -0.405218 -0.571949 -0.436596   \n",
       "38                Congo, Rep.    0.635522 -0.283126 -0.549197 -0.345975   \n",
       "40              Cote d'Ivoire    1.803418 -0.378510 -0.550721 -0.411948   \n",
       "49          Equatorial Guinea    1.803418  0.403429 -0.161348  0.236802   \n",
       "50                    Eritrea    0.419796 -0.411571 -0.579498 -0.440224   \n",
       "55                      Gabon    0.630563 -0.131962 -0.416609 -0.335441   \n",
       "56                     Gambia    1.042178 -0.405414 -0.568863 -0.431545   \n",
       "59                      Ghana    0.903320 -0.391355 -0.548655 -0.406984   \n",
       "63                     Guinea    1.753826 -0.401932 -0.568881 -0.428829   \n",
       "64              Guinea-Bissau    1.877807 -0.408321 -0.560804 -0.434769   \n",
       "66                      Haiti    4.208640 -0.407220 -0.561221 -0.418742   \n",
       "80                      Kenya    0.593369 -0.401719 -0.561117 -0.425771   \n",
       "81                   Kiribati    0.605767 -0.401830 -0.493149 -0.366930   \n",
       "84                        Lao    1.007464 -0.390403 -0.558327 -0.409653   \n",
       "87                    Lesotho    1.523223 -0.387208 -0.514521 -0.367529   \n",
       "88                    Liberia    1.265343 -0.409381 -0.565195 -0.427274   \n",
       "93                 Madagascar    0.593369 -0.407111 -0.577972 -0.435786   \n",
       "94                     Malawi    1.295099 -0.407033 -0.569823 -0.436969   \n",
       "97                       Mali    2.448117 -0.403875 -0.567042 -0.430965   \n",
       "99                 Mauritania    1.466192 -0.379006 -0.557238 -0.397935   \n",
       "106                Mozambique    1.555458 -0.405512 -0.574497 -0.434699   \n",
       "108                   Namibia    0.439633 -0.274832 -0.391278 -0.233707   \n",
       "112                     Niger    2.100972 -0.408557 -0.576647 -0.436243   \n",
       "113                   Nigeria    2.274544 -0.380059 -0.521038 -0.420299   \n",
       "116                  Pakistan    1.334772 -0.405044 -0.573914 -0.434143   \n",
       "126                    Rwanda    0.628084 -0.409097 -0.553799 -0.436377   \n",
       "129                   Senegal    0.707431 -0.399002 -0.555195 -0.420463   \n",
       "132              Sierra Leone    3.018427 -0.409126 -0.557599 -0.438500   \n",
       "136           Solomon Islands   -0.252178 -0.377473 -0.525388 -0.376653   \n",
       "137              South Africa    0.382602 -0.297016 -0.225324 -0.312262   \n",
       "142                     Sudan    0.952912 -0.396634 -0.534691 -0.430554   \n",
       "147                  Tanzania    0.833891 -0.405552 -0.563194 -0.433971   \n",
       "149               Timor-Leste    0.603287 -0.408449 -0.404358 -0.379826   \n",
       "150                      Togo    1.290139 -0.401941 -0.565891 -0.428850   \n",
       "155                    Uganda    1.059536 -0.407195 -0.556855 -0.436290   \n",
       "165                     Yemen    0.447072 -0.390991 -0.548945 -0.417225   \n",
       "166                    Zambia    1.111607 -0.382801 -0.538878 -0.417191   \n",
       "\n",
       "       income  inflation  life_expec  total_fer      gdpp       PC1       PC2  \\\n",
       "0   -0.805822  -0.463617   -1.614237   1.897176 -0.677143 -2.644408  1.575935   \n",
       "3   -0.583289   0.182628   -1.175698   2.121770 -0.514720 -2.417752  2.141078   \n",
       "17  -0.794929  -0.503428   -0.984541   1.593315 -0.665958 -2.501027  1.427697   \n",
       "21  -0.199433  -0.013647   -1.513036  -0.044895 -0.360863 -1.096249  0.490077   \n",
       "25  -0.815159  -0.475033   -1.423079   1.930205 -0.675943 -2.791493  1.833528   \n",
       "26  -0.849706  -0.484435   -1.445568   2.187827 -0.694711 -2.733072  1.673460   \n",
       "28  -0.751356  -0.487403   -1.490547   1.428173 -0.635842 -2.557005  1.536619   \n",
       "31  -0.843274  -0.501453   -2.592516   1.494230 -0.682981 -3.331588  2.500083   \n",
       "32  -0.789223  -0.459141   -1.580503   2.405814 -0.658375 -3.208073  2.576287   \n",
       "36  -0.816196  -0.483256   -0.523513   1.190368 -0.665358 -2.060010  0.759459   \n",
       "37  -0.857746  -0.448506   -1.468058   2.372786 -0.689092 -2.952898  2.066336   \n",
       "38  -0.620119  -0.012982   -1.141965   1.322482 -0.557822 -1.834585  0.989436   \n",
       "40  -0.749800  -0.451756   -1.602993   1.533864 -0.640752 -2.632248  1.689465   \n",
       "49   0.858764   3.216612   -1.085742   1.494230  0.225648 -0.117133  3.153742   \n",
       "50  -0.815678  -0.460372   -0.995785   1.097889 -0.681017 -1.956749  0.486146   \n",
       "55  -0.090501   0.761724   -0.860850   0.747787 -0.229921 -0.979230  0.956709   \n",
       "56  -0.803228  -0.488151   -0.568491   1.824514 -0.676652 -2.202978  0.983378   \n",
       "59  -0.730607  -0.319008   -0.939562   0.873295 -0.635842 -1.911793  0.669366   \n",
       "63  -0.827608  -0.418005   -1.411835   1.580104 -0.671960 -2.622918  1.585705   \n",
       "64  -0.817234  -0.495082   -1.681705   1.388539 -0.677470 -2.710540  1.645229   \n",
       "66  -0.811528  -0.477727   -4.324181   0.252361 -0.671196 -3.962651  3.364705   \n",
       "80  -0.760693  -0.491613   -0.872095   0.939352 -0.654556 -1.881766  0.460307   \n",
       "81  -0.799597  -0.489479   -1.108231   0.589251 -0.626021 -1.822827  0.419473   \n",
       "84  -0.682884  -0.417522   -0.759649   0.133459 -0.645117 -1.678371  0.267596   \n",
       "87  -0.765880  -0.466809   -2.704962   0.232544 -0.643480 -2.525607  1.372915   \n",
       "88  -0.853026  -0.493646   -1.096986   1.368722 -0.689473 -2.340502  1.081302   \n",
       "93  -0.817234  -0.477531   -1.096986   1.091283 -0.684781 -2.043472  0.610808   \n",
       "94  -0.835908  -0.460698   -1.962819   1.560287 -0.682272 -2.682692  1.552484   \n",
       "97  -0.792335  -0.482224   -1.243166   2.379391 -0.668686 -3.006927  2.247820   \n",
       "99  -0.717120  -0.310835   -0.264887   1.342299 -0.641843 -1.983866  0.915931   \n",
       "106 -0.841718  -0.481286   -1.805395   1.725429 -0.684454 -2.764480  1.695584   \n",
       "108 -0.450496  -0.347619   -1.344367   0.430714 -0.424152 -1.435118  0.562388   \n",
       "112 -0.847112  -0.501533   -1.321878   3.000326 -0.688328 -3.146675  2.388724   \n",
       "113 -0.622194   1.611143   -1.130720   1.910388 -0.580191 -2.236288  2.407204   \n",
       "116 -0.667323  -0.410101   -0.590980   0.595857 -0.650573 -1.868580  0.577866   \n",
       "126 -0.819309  -0.496439   -0.669692   1.031832 -0.676597 -1.887532  0.423020   \n",
       "129 -0.776255  -0.493109   -0.737160   1.395144 -0.652755 -2.003681  0.686818   \n",
       "132 -0.826052  -0.449244   -1.749172   1.487624 -0.685545 -3.106943  2.305749   \n",
       "136 -0.797004  -0.432425   -0.995785   0.853478 -0.636933 -1.598602  0.081083   \n",
       "137 -0.266867  -0.104776   -1.827884  -0.236460 -0.310123 -1.197835  0.487088   \n",
       "142 -0.714526  -0.255461   -0.478534   1.276242 -0.626567 -1.871288  0.712264   \n",
       "147 -0.780923  -0.452476   -1.265655   1.639555 -0.669014 -2.299592  1.084929   \n",
       "149 -0.793372   0.325508    0.061206   2.168010 -0.510901 -1.651689  0.916764   \n",
       "150 -0.826571  -0.504259   -1.333123   1.269636 -0.680689 -2.384972  1.146577   \n",
       "155 -0.809453  -0.454108   -1.546770   2.115164 -0.674852 -2.612561  1.541214   \n",
       "165 -0.656948  -0.238765   -0.343599   1.137523 -0.635842 -1.608573  0.346818   \n",
       "166 -0.719195  -0.330436   -2.086510   1.619738 -0.627658 -2.566169  1.610271   \n",
       "\n",
       "          PC3       PC4  ClusterID  \n",
       "0   -0.249473 -0.261199          3  \n",
       "3    0.285958 -0.367783          3  \n",
       "17  -0.292876 -0.288600          3  \n",
       "21   0.102767  0.118712          3  \n",
       "25  -0.275499 -0.365727          3  \n",
       "26  -0.264246 -0.327126          3  \n",
       "28  -0.288374 -0.256071          3  \n",
       "31  -0.359718 -0.369074          3  \n",
       "32  -0.281492 -0.577330          3  \n",
       "36  -0.266253 -0.130132          3  \n",
       "37  -0.251938 -0.438119          3  \n",
       "38   0.137533  0.006473          3  \n",
       "40  -0.266666 -0.267300          3  \n",
       "49   2.795850 -0.005877          3  \n",
       "50  -0.221944  0.022529          3  \n",
       "55   0.849288  0.014858          3  \n",
       "56  -0.242634 -0.228048          3  \n",
       "59  -0.122377 -0.011514          3  \n",
       "63  -0.235285 -0.258035          3  \n",
       "64  -0.310929 -0.249210          3  \n",
       "66  -0.452650 -0.306463          3  \n",
       "80  -0.253441  0.008139          3  \n",
       "81  -0.310253  0.052943          3  \n",
       "84  -0.209074  0.114274          3  \n",
       "87  -0.348774  0.046644          3  \n",
       "88  -0.289255 -0.154131          3  \n",
       "93  -0.247208  0.002976          3  \n",
       "94  -0.266836 -0.180964          3  \n",
       "97  -0.279825 -0.535536          3  \n",
       "99  -0.108164 -0.183993          3  \n",
       "106 -0.286826 -0.251196          3  \n",
       "108 -0.204044  0.071467          3  \n",
       "112 -0.280381 -0.596090          3  \n",
       "113  1.529682 -0.282444          3  \n",
       "116 -0.179775 -0.034006          3  \n",
       "126 -0.263124 -0.020031          3  \n",
       "129 -0.252205 -0.102581          3  \n",
       "132 -0.307477 -0.431004          3  \n",
       "136 -0.219766  0.160461          3  \n",
       "137  0.014299  0.039231          3  \n",
       "142 -0.041401 -0.128031          3  \n",
       "147 -0.219065 -0.153029          3  \n",
       "149  0.432019 -0.317656          3  \n",
       "150 -0.300756 -0.136465          3  \n",
       "155 -0.228951 -0.277747          3  \n",
       "165  0.000531 -0.010569          3  \n",
       "166 -0.141650 -0.181316          3  "
      ]
     },
     "execution_count": 835,
     "metadata": {},
     "output_type": "execute_result"
    }
   ],
   "source": [
    "df_reqd4"
   ]
  },
  {
   "cell_type": "code",
   "execution_count": 836,
   "metadata": {},
   "outputs": [],
   "source": [
    "country4=set(df_reqd4['country'])"
   ]
  },
  {
   "cell_type": "code",
   "execution_count": 837,
   "metadata": {},
   "outputs": [
    {
     "data": {
      "text/plain": [
       "{'Afghanistan',\n",
       " 'Angola',\n",
       " 'Benin',\n",
       " 'Botswana',\n",
       " 'Burkina Faso',\n",
       " 'Burundi',\n",
       " 'Cameroon',\n",
       " 'Central African Republic',\n",
       " 'Chad',\n",
       " 'Comoros',\n",
       " 'Congo, Dem. Rep.',\n",
       " 'Congo, Rep.',\n",
       " \"Cote d'Ivoire\",\n",
       " 'Equatorial Guinea',\n",
       " 'Eritrea',\n",
       " 'Gabon',\n",
       " 'Gambia',\n",
       " 'Ghana',\n",
       " 'Guinea',\n",
       " 'Guinea-Bissau',\n",
       " 'Haiti',\n",
       " 'Kenya',\n",
       " 'Kiribati',\n",
       " 'Lao',\n",
       " 'Lesotho',\n",
       " 'Liberia',\n",
       " 'Madagascar',\n",
       " 'Malawi',\n",
       " 'Mali',\n",
       " 'Mauritania',\n",
       " 'Mozambique',\n",
       " 'Namibia',\n",
       " 'Niger',\n",
       " 'Nigeria',\n",
       " 'Pakistan',\n",
       " 'Rwanda',\n",
       " 'Senegal',\n",
       " 'Sierra Leone',\n",
       " 'Solomon Islands',\n",
       " 'South Africa',\n",
       " 'Sudan',\n",
       " 'Tanzania',\n",
       " 'Timor-Leste',\n",
       " 'Togo',\n",
       " 'Uganda',\n",
       " 'Yemen',\n",
       " 'Zambia'}"
      ]
     },
     "execution_count": 837,
     "metadata": {},
     "output_type": "execute_result"
    }
   ],
   "source": [
    "country4"
   ]
  },
  {
   "cell_type": "markdown",
   "metadata": {},
   "source": [
    "These are the group pf countries which are in direst need of aid."
   ]
  },
  {
   "cell_type": "markdown",
   "metadata": {},
   "source": [
    "Lets repeat the K-means with k=5"
   ]
  },
  {
   "cell_type": "code",
   "execution_count": 838,
   "metadata": {},
   "outputs": [
    {
     "data": {
      "text/plain": [
       "KMeans(algorithm='auto', copy_x=True, init='k-means++', max_iter=50,\n",
       "    n_clusters=5, n_init=10, n_jobs=1, precompute_distances='auto',\n",
       "    random_state=0, tol=0.0001, verbose=0)"
      ]
     },
     "execution_count": 838,
     "metadata": {},
     "output_type": "execute_result"
    }
   ],
   "source": [
    "# Kmeans with K=5\n",
    "model_clus5 = KMeans(n_clusters = 5, max_iter=50, random_state=0)\n",
    "model_clus5.fit(pcs_df)"
   ]
  },
  {
   "cell_type": "code",
   "execution_count": 839,
   "metadata": {},
   "outputs": [
    {
     "data": {
      "text/plain": [
       "array([0, 3, 3, 0, 3, 3, 3, 1, 1, 3, 3, 3, 3, 3, 3, 1, 3, 0, 3, 3, 3, 0,\n",
       "       3, 4, 3, 0, 0, 3, 0, 1, 3, 0, 0, 3, 3, 3, 0, 0, 0, 3, 0, 3, 1, 3,\n",
       "       1, 3, 3, 3, 3, 4, 0, 3, 3, 1, 1, 0, 0, 3, 1, 0, 1, 3, 3, 0, 0, 3,\n",
       "       0, 3, 1, 3, 3, 3, 3, 1, 1, 1, 3, 1, 3, 3, 0, 0, 4, 3, 0, 3, 3, 0,\n",
       "       0, 3, 3, 2, 3, 0, 0, 3, 3, 0, 1, 0, 3, 3, 3, 3, 3, 3, 0, 3, 0, 3,\n",
       "       1, 1, 0, 0, 4, 4, 0, 3, 3, 3, 3, 3, 3, 4, 3, 3, 0, 3, 4, 0, 3, 3,\n",
       "       0, 1, 3, 1, 0, 0, 3, 1, 3, 3, 0, 3, 1, 1, 3, 0, 3, 0, 0, 3, 3, 3,\n",
       "       3, 0, 3, 4, 1, 1, 3, 3, 3, 4, 3, 0, 0])"
      ]
     },
     "execution_count": 839,
     "metadata": {},
     "output_type": "execute_result"
    }
   ],
   "source": [
    "model_clus5.labels_"
   ]
  },
  {
   "cell_type": "code",
   "execution_count": 840,
   "metadata": {},
   "outputs": [],
   "source": [
    "# analysis of clusters formed\n",
    "f_df = pd.concat([df, pcs_df], axis=1)\n",
    "final_df = pd.concat([f_df, pd.Series(model_clus5.labels_).rename('ClusterID')], axis=1)"
   ]
  },
  {
   "cell_type": "code",
   "execution_count": 841,
   "metadata": {},
   "outputs": [
    {
     "name": "stdout",
     "output_type": "stream",
     "text": [
      "<class 'pandas.core.frame.DataFrame'>\n",
      "RangeIndex: 167 entries, 0 to 166\n",
      "Data columns (total 15 columns):\n",
      "country       167 non-null object\n",
      "child_mort    167 non-null float64\n",
      "exports       167 non-null float64\n",
      "health        167 non-null float64\n",
      "imports       167 non-null float64\n",
      "income        167 non-null float64\n",
      "inflation     167 non-null float64\n",
      "life_expec    167 non-null float64\n",
      "total_fer     167 non-null float64\n",
      "gdpp          167 non-null float64\n",
      "PC1           167 non-null float64\n",
      "PC2           167 non-null float64\n",
      "PC3           167 non-null float64\n",
      "PC4           167 non-null float64\n",
      "ClusterID     167 non-null int32\n",
      "dtypes: float64(13), int32(1), object(1)\n",
      "memory usage: 19.0+ KB\n"
     ]
    }
   ],
   "source": [
    "final_df.info()"
   ]
  },
  {
   "cell_type": "code",
   "execution_count": 842,
   "metadata": {},
   "outputs": [
    {
     "data": {
      "image/png": "[encoded data removed]",
      "text/plain": [
       "<Figure size 576x432 with 1 Axes>"
      ]
     },
     "metadata": {
      "needs_background": "light"
     },
     "output_type": "display_data"
    }
   ],
   "source": [
    "%matplotlib inline\n",
    "fig = plt.figure(figsize = (8,6))\n",
    "sns.scatterplot(final_df['PC1'], final_df['PC2'], hue=final_df['ClusterID'], palette=\"Dark2_r\")\n",
    "plt.xlabel('Principal Component 1')\n",
    "plt.ylabel('Principal Component 2')\n",
    "plt.tight_layout()\n",
    "plt.show()"
   ]
  },
  {
   "cell_type": "code",
   "execution_count": 843,
   "metadata": {},
   "outputs": [
    {
     "data": {
      "text/plain": [
       "46"
      ]
     },
     "execution_count": 843,
     "metadata": {},
     "output_type": "execute_result"
    }
   ],
   "source": [
    "len(final_df[(final_df['ClusterID']==0)])"
   ]
  },
  {
   "cell_type": "markdown",
   "metadata": {},
   "source": [
    "Cluster 0 seems to be our choice with low PC1 and high PC2."
   ]
  },
  {
   "cell_type": "code",
   "execution_count": 844,
   "metadata": {},
   "outputs": [
    {
     "data": {
      "text/plain": [
       "25"
      ]
     },
     "execution_count": 844,
     "metadata": {},
     "output_type": "execute_result"
    }
   ],
   "source": [
    "len(final_df[(final_df['ClusterID']==1)])"
   ]
  },
  {
   "cell_type": "code",
   "execution_count": 845,
   "metadata": {},
   "outputs": [
    {
     "data": {
      "text/plain": [
       "1"
      ]
     },
     "execution_count": 845,
     "metadata": {},
     "output_type": "execute_result"
    }
   ],
   "source": [
    "len(final_df[(final_df['ClusterID']==2)])"
   ]
  },
  {
   "cell_type": "code",
   "execution_count": 846,
   "metadata": {},
   "outputs": [
    {
     "data": {
      "text/html": [
       "<div>\n",
       "<style scoped>\n",
       "    .dataframe tbody tr th:only-of-type {\n",
       "        vertical-align: middle;\n",
       "    }\n",
       "\n",
       "    .dataframe tbody tr th {\n",
       "        vertical-align: top;\n",
       "    }\n",
       "\n",
       "    .dataframe thead th {\n",
       "        text-align: right;\n",
       "    }\n",
       "</style>\n",
       "<table border=\"1\" class=\"dataframe\">\n",
       "  <thead>\n",
       "    <tr style=\"text-align: right;\">\n",
       "      <th></th>\n",
       "      <th>country</th>\n",
       "      <th>child_mort</th>\n",
       "      <th>exports</th>\n",
       "      <th>health</th>\n",
       "      <th>imports</th>\n",
       "      <th>income</th>\n",
       "      <th>inflation</th>\n",
       "      <th>life_expec</th>\n",
       "      <th>total_fer</th>\n",
       "      <th>gdpp</th>\n",
       "      <th>PC1</th>\n",
       "      <th>PC2</th>\n",
       "      <th>PC3</th>\n",
       "      <th>PC4</th>\n",
       "      <th>ClusterID</th>\n",
       "    </tr>\n",
       "  </thead>\n",
       "  <tbody>\n",
       "    <tr>\n",
       "      <th>91</th>\n",
       "      <td>Luxembourg</td>\n",
       "      <td>-0.879519</td>\n",
       "      <td>9.810309</td>\n",
       "      <td>3.94234</td>\n",
       "      <td>9.687546</td>\n",
       "      <td>3.867364</td>\n",
       "      <td>2.816798</td>\n",
       "      <td>1.208153</td>\n",
       "      <td>-0.870606</td>\n",
       "      <td>5.021405</td>\n",
       "      <td>13.092921</td>\n",
       "      <td>7.644253</td>\n",
       "      <td>-2.848881</td>\n",
       "      <td>4.08324</td>\n",
       "      <td>2</td>\n",
       "    </tr>\n",
       "  </tbody>\n",
       "</table>\n",
       "</div>"
      ],
      "text/plain": [
       "       country  child_mort   exports   health   imports    income  inflation  \\\n",
       "91  Luxembourg   -0.879519  9.810309  3.94234  9.687546  3.867364   2.816798   \n",
       "\n",
       "    life_expec  total_fer      gdpp        PC1       PC2       PC3      PC4  \\\n",
       "91    1.208153  -0.870606  5.021405  13.092921  7.644253 -2.848881  4.08324   \n",
       "\n",
       "    ClusterID  \n",
       "91          2  "
      ]
     },
     "execution_count": 846,
     "metadata": {},
     "output_type": "execute_result"
    }
   ],
   "source": [
    "final_df[(final_df['ClusterID']==2)]"
   ]
  },
  {
   "cell_type": "markdown",
   "metadata": {},
   "source": [
    "This seems to be an outlier. So it has been clustered seperately"
   ]
  },
  {
   "cell_type": "code",
   "execution_count": 847,
   "metadata": {},
   "outputs": [
    {
     "data": {
      "text/plain": [
       "86"
      ]
     },
     "execution_count": 847,
     "metadata": {},
     "output_type": "execute_result"
    }
   ],
   "source": [
    "len(final_df[(final_df['ClusterID']==3)])"
   ]
  },
  {
   "cell_type": "code",
   "execution_count": 848,
   "metadata": {},
   "outputs": [
    {
     "data": {
      "text/plain": [
       "9"
      ]
     },
     "execution_count": 848,
     "metadata": {},
     "output_type": "execute_result"
    }
   ],
   "source": [
    "len(final_df[(final_df['ClusterID']==4)])"
   ]
  },
  {
   "cell_type": "code",
   "execution_count": 849,
   "metadata": {},
   "outputs": [],
   "source": [
    "km_clust_PC1 = pd.DataFrame(final_df.groupby([\"ClusterID\"]).PC1.mean())\n",
    "km_clust_PC2 = pd.DataFrame(final_df.groupby([\"ClusterID\"]).PC2.mean())\n",
    "km_clust_PC3 = pd.DataFrame(final_df.groupby([\"ClusterID\"]).PC3.mean())\n",
    "km_clust_PC4 = pd.DataFrame(final_df.groupby([\"ClusterID\"]).PC4.mean())\n",
    "km_clust_child_mort = pd.DataFrame(final_df.groupby([\"ClusterID\"]).child_mort.mean())\n",
    "km_clust_health = pd.DataFrame(final_df.groupby([\"ClusterID\"]).health.mean())\n",
    "km_clust_total_fer =  pd.DataFrame(final_df.groupby([\"ClusterID\"]).total_fer.mean())\n",
    "km_clust_income = pd.DataFrame(final_df.groupby([\"ClusterID\"]).income.mean())\n",
    "km_clust_life_expec = pd.DataFrame(final_df.groupby([\"ClusterID\"]).life_expec.mean())"
   ]
  },
  {
   "cell_type": "code",
   "execution_count": 850,
   "metadata": {},
   "outputs": [
    {
     "data": {
      "text/html": [
       "<div>\n",
       "<style scoped>\n",
       "    .dataframe tbody tr th:only-of-type {\n",
       "        vertical-align: middle;\n",
       "    }\n",
       "\n",
       "    .dataframe tbody tr th {\n",
       "        vertical-align: top;\n",
       "    }\n",
       "\n",
       "    .dataframe thead th {\n",
       "        text-align: right;\n",
       "    }\n",
       "</style>\n",
       "<table border=\"1\" class=\"dataframe\">\n",
       "  <thead>\n",
       "    <tr style=\"text-align: right;\">\n",
       "      <th></th>\n",
       "      <th>ClusterID</th>\n",
       "      <th>PC1_mean</th>\n",
       "      <th>PC2_mean</th>\n",
       "      <th>PC3_mean</th>\n",
       "      <th>PC4_mean</th>\n",
       "    </tr>\n",
       "  </thead>\n",
       "  <tbody>\n",
       "    <tr>\n",
       "      <th>0</th>\n",
       "      <td>0</td>\n",
       "      <td>-2.289432</td>\n",
       "      <td>1.279428</td>\n",
       "      <td>-0.136272</td>\n",
       "      <td>-0.174344</td>\n",
       "    </tr>\n",
       "    <tr>\n",
       "      <th>1</th>\n",
       "      <td>1</td>\n",
       "      <td>3.207689</td>\n",
       "      <td>-0.085527</td>\n",
       "      <td>-0.714612</td>\n",
       "      <td>-0.839307</td>\n",
       "    </tr>\n",
       "    <tr>\n",
       "      <th>2</th>\n",
       "      <td>2</td>\n",
       "      <td>13.092921</td>\n",
       "      <td>7.644253</td>\n",
       "      <td>-2.848881</td>\n",
       "      <td>4.083240</td>\n",
       "    </tr>\n",
       "    <tr>\n",
       "      <th>3</th>\n",
       "      <td>3</td>\n",
       "      <td>-0.176651</td>\n",
       "      <td>-0.873902</td>\n",
       "      <td>-0.017870</td>\n",
       "      <td>0.285379</td>\n",
       "    </tr>\n",
       "    <tr>\n",
       "      <th>4</th>\n",
       "      <td>4</td>\n",
       "      <td>3.024522</td>\n",
       "      <td>1.199529</td>\n",
       "      <td>3.168837</td>\n",
       "      <td>0.041853</td>\n",
       "    </tr>\n",
       "  </tbody>\n",
       "</table>\n",
       "</div>"
      ],
      "text/plain": [
       "   ClusterID   PC1_mean  PC2_mean  PC3_mean  PC4_mean\n",
       "0          0  -2.289432  1.279428 -0.136272 -0.174344\n",
       "1          1   3.207689 -0.085527 -0.714612 -0.839307\n",
       "2          2  13.092921  7.644253 -2.848881  4.083240\n",
       "3          3  -0.176651 -0.873902 -0.017870  0.285379\n",
       "4          4   3.024522  1.199529  3.168837  0.041853"
      ]
     },
     "execution_count": 850,
     "metadata": {},
     "output_type": "execute_result"
    }
   ],
   "source": [
    "df1 = pd.concat([pd.Series([0,1,2,3,4]), km_clust_PC1, km_clust_PC2,km_clust_PC3,km_clust_PC4], axis=1)\n",
    "df1.columns = [\"ClusterID\", \"PC1_mean\", \"PC2_mean\",\"PC3_mean\",\"PC4_mean\"]\n",
    "df1"
   ]
  },
  {
   "cell_type": "code",
   "execution_count": 851,
   "metadata": {},
   "outputs": [
    {
     "data": {
      "text/html": [
       "<div>\n",
       "<style scoped>\n",
       "    .dataframe tbody tr th:only-of-type {\n",
       "        vertical-align: middle;\n",
       "    }\n",
       "\n",
       "    .dataframe tbody tr th {\n",
       "        vertical-align: top;\n",
       "    }\n",
       "\n",
       "    .dataframe thead th {\n",
       "        text-align: right;\n",
       "    }\n",
       "</style>\n",
       "<table border=\"1\" class=\"dataframe\">\n",
       "  <thead>\n",
       "    <tr style=\"text-align: right;\">\n",
       "      <th></th>\n",
       "      <th>ClusterID</th>\n",
       "      <th>child_mort_mean</th>\n",
       "      <th>health_mean</th>\n",
       "      <th>total_fer_mean</th>\n",
       "      <th>income_mean</th>\n",
       "      <th>life_expec_mean</th>\n",
       "    </tr>\n",
       "  </thead>\n",
       "  <tbody>\n",
       "    <tr>\n",
       "      <th>0</th>\n",
       "      <td>0</td>\n",
       "      <td>1.341672</td>\n",
       "      <td>-0.533916</td>\n",
       "      <td>1.353356</td>\n",
       "      <td>-0.730705</td>\n",
       "      <td>-1.295967</td>\n",
       "    </tr>\n",
       "    <tr>\n",
       "      <th>1</th>\n",
       "      <td>1</td>\n",
       "      <td>-0.841730</td>\n",
       "      <td>1.798575</td>\n",
       "      <td>-0.789752</td>\n",
       "      <td>1.184730</td>\n",
       "      <td>1.161375</td>\n",
       "    </tr>\n",
       "    <tr>\n",
       "      <th>2</th>\n",
       "      <td>2</td>\n",
       "      <td>-0.879519</td>\n",
       "      <td>3.942340</td>\n",
       "      <td>-0.870606</td>\n",
       "      <td>3.867364</td>\n",
       "      <td>1.208153</td>\n",
       "    </tr>\n",
       "    <tr>\n",
       "      <th>3</th>\n",
       "      <td>3</td>\n",
       "      <td>-0.420388</td>\n",
       "      <td>-0.322945</td>\n",
       "      <td>-0.460746</td>\n",
       "      <td>-0.232131</td>\n",
       "      <td>0.282959</td>\n",
       "    </tr>\n",
       "    <tr>\n",
       "      <th>4</th>\n",
       "      <td>4</td>\n",
       "      <td>-0.404536</td>\n",
       "      <td>0.380742</td>\n",
       "      <td>-0.223982</td>\n",
       "      <td>2.232230</td>\n",
       "      <td>0.559715</td>\n",
       "    </tr>\n",
       "  </tbody>\n",
       "</table>\n",
       "</div>"
      ],
      "text/plain": [
       "   ClusterID  child_mort_mean  health_mean  total_fer_mean  income_mean  \\\n",
       "0          0         1.341672    -0.533916        1.353356    -0.730705   \n",
       "1          1        -0.841730     1.798575       -0.789752     1.184730   \n",
       "2          2        -0.879519     3.942340       -0.870606     3.867364   \n",
       "3          3        -0.420388    -0.322945       -0.460746    -0.232131   \n",
       "4          4        -0.404536     0.380742       -0.223982     2.232230   \n",
       "\n",
       "   life_expec_mean  \n",
       "0        -1.295967  \n",
       "1         1.161375  \n",
       "2         1.208153  \n",
       "3         0.282959  \n",
       "4         0.559715  "
      ]
     },
     "execution_count": 851,
     "metadata": {},
     "output_type": "execute_result"
    }
   ],
   "source": [
    "df2 = pd.concat([pd.Series([0,1,2,3,4]),km_clust_child_mort,km_clust_health,km_clust_total_fer,km_clust_income,km_clust_life_expec], axis=1)\n",
    "df2.columns = [\"ClusterID\",\"child_mort_mean\",\"health_mean\",\"total_fer_mean\",\"income_mean\",\"life_expec_mean\"]\n",
    "df2"
   ]
  },
  {
   "cell_type": "code",
   "execution_count": 852,
   "metadata": {},
   "outputs": [
    {
     "data": {
      "text/plain": [
       "<matplotlib.axes._subplots.AxesSubplot at 0xc802f886d8>"
      ]
     },
     "execution_count": 852,
     "metadata": {},
     "output_type": "execute_result"
    },
    {
     "data": {
      "image/png": "[encoded data removed]",
      "text/plain": [
       "<Figure size 432x288 with 1 Axes>"
      ]
     },
     "metadata": {
      "needs_background": "light"
     },
     "output_type": "display_data"
    }
   ],
   "source": [
    "sns.barplot(x=df1.ClusterID, y=df1.PC1_mean)"
   ]
  },
  {
   "cell_type": "code",
   "execution_count": 853,
   "metadata": {},
   "outputs": [
    {
     "data": {
      "text/plain": [
       "<matplotlib.axes._subplots.AxesSubplot at 0xc802fb7eb8>"
      ]
     },
     "execution_count": 853,
     "metadata": {},
     "output_type": "execute_result"
    },
    {
     "data": {
      "image/png": "[encoded data removed]",
      "text/plain": [
       "<Figure size 432x288 with 1 Axes>"
      ]
     },
     "metadata": {
      "needs_background": "light"
     },
     "output_type": "display_data"
    }
   ],
   "source": [
    "sns.barplot(x=df1.ClusterID, y=df1.PC2_mean)"
   ]
  },
  {
   "cell_type": "code",
   "execution_count": 854,
   "metadata": {},
   "outputs": [
    {
     "data": {
      "text/plain": [
       "<matplotlib.axes._subplots.AxesSubplot at 0xc803017320>"
      ]
     },
     "execution_count": 854,
     "metadata": {},
     "output_type": "execute_result"
    },
    {
     "data": {
      "image/png": "[encoded data removed]",
      "text/plain": [
       "<Figure size 432x288 with 1 Axes>"
      ]
     },
     "metadata": {
      "needs_background": "light"
     },
     "output_type": "display_data"
    }
   ],
   "source": [
    "sns.barplot(x=df1.ClusterID, y=df1.PC3_mean)"
   ]
  },
  {
   "cell_type": "code",
   "execution_count": 855,
   "metadata": {},
   "outputs": [
    {
     "data": {
      "text/plain": [
       "<matplotlib.axes._subplots.AxesSubplot at 0xc8031034a8>"
      ]
     },
     "execution_count": 855,
     "metadata": {},
     "output_type": "execute_result"
    },
    {
     "data": {
      "image/png": "[encoded data removed]",
      "text/plain": [
       "<Figure size 432x288 with 1 Axes>"
      ]
     },
     "metadata": {
      "needs_background": "light"
     },
     "output_type": "display_data"
    }
   ],
   "source": [
    "sns.barplot(x=df1.ClusterID, y=df1.PC4_mean)"
   ]
  },
  {
   "cell_type": "code",
   "execution_count": 856,
   "metadata": {},
   "outputs": [
    {
     "data": {
      "text/plain": [
       "<matplotlib.axes._subplots.AxesSubplot at 0xc80413ce10>"
      ]
     },
     "execution_count": 856,
     "metadata": {},
     "output_type": "execute_result"
    },
    {
     "data": {
      "image/png": "[encoded data removed]",
      "text/plain": [
       "<Figure size 432x288 with 1 Axes>"
      ]
     },
     "metadata": {
      "needs_background": "light"
     },
     "output_type": "display_data"
    }
   ],
   "source": [
    "sns.barplot(x=df2.ClusterID, y=df2.child_mort_mean)"
   ]
  },
  {
   "cell_type": "code",
   "execution_count": 857,
   "metadata": {},
   "outputs": [
    {
     "data": {
      "text/plain": [
       "<matplotlib.axes._subplots.AxesSubplot at 0xc8041a1748>"
      ]
     },
     "execution_count": 857,
     "metadata": {},
     "output_type": "execute_result"
    },
    {
     "data": {
      "image/png": "[encoded data removed]",
      "text/plain": [
       "<Figure size 432x288 with 1 Axes>"
      ]
     },
     "metadata": {
      "needs_background": "light"
     },
     "output_type": "display_data"
    }
   ],
   "source": [
    "sns.barplot(x=df2.ClusterID, y=df2.health_mean)"
   ]
  },
  {
   "cell_type": "code",
   "execution_count": 858,
   "metadata": {},
   "outputs": [
    {
     "data": {
      "text/plain": [
       "<matplotlib.axes._subplots.AxesSubplot at 0xc8042062b0>"
      ]
     },
     "execution_count": 858,
     "metadata": {},
     "output_type": "execute_result"
    },
    {
     "data": {
      "image/png": "[encoded data removed]",
      "text/plain": [
       "<Figure size 432x288 with 1 Axes>"
      ]
     },
     "metadata": {
      "needs_background": "light"
     },
     "output_type": "display_data"
    }
   ],
   "source": [
    "sns.barplot(x=df2.ClusterID, y=df2.total_fer_mean)"
   ]
  },
  {
   "cell_type": "code",
   "execution_count": 859,
   "metadata": {},
   "outputs": [
    {
     "data": {
      "text/plain": [
       "<matplotlib.axes._subplots.AxesSubplot at 0xc804199b38>"
      ]
     },
     "execution_count": 859,
     "metadata": {},
     "output_type": "execute_result"
    },
    {
     "data": {
      "image/png": "[encoded data removed]",
      "text/plain": [
       "<Figure size 432x288 with 1 Axes>"
      ]
     },
     "metadata": {
      "needs_background": "light"
     },
     "output_type": "display_data"
    }
   ],
   "source": [
    "sns.barplot(x=df2.ClusterID, y=df2.income_mean)"
   ]
  },
  {
   "cell_type": "code",
   "execution_count": 860,
   "metadata": {},
   "outputs": [
    {
     "data": {
      "text/plain": [
       "<matplotlib.axes._subplots.AxesSubplot at 0xc8042c6ef0>"
      ]
     },
     "execution_count": 860,
     "metadata": {},
     "output_type": "execute_result"
    },
    {
     "data": {
      "image/png": "[encoded data removed]",
      "text/plain": [
       "<Figure size 432x288 with 1 Axes>"
      ]
     },
     "metadata": {
      "needs_background": "light"
     },
     "output_type": "display_data"
    }
   ],
   "source": [
    "sns.barplot(x=df2.ClusterID, y=df2.life_expec_mean)"
   ]
  },
  {
   "cell_type": "markdown",
   "metadata": {},
   "source": [
    "Cluster 0 has high child_mort and  total_fert and low income, health and life_expec. So cluster 0 is our preferred choice."
   ]
  },
  {
   "cell_type": "code",
   "execution_count": 861,
   "metadata": {},
   "outputs": [],
   "source": [
    "df5=final_df[(final_df.ClusterID == 0)]"
   ]
  },
  {
   "cell_type": "code",
   "execution_count": 862,
   "metadata": {},
   "outputs": [
    {
     "data": {
      "text/plain": [
       "46"
      ]
     },
     "execution_count": 862,
     "metadata": {},
     "output_type": "execute_result"
    }
   ],
   "source": [
    "len(df5)"
   ]
  },
  {
   "cell_type": "code",
   "execution_count": 863,
   "metadata": {},
   "outputs": [
    {
     "data": {
      "text/html": [
       "<div>\n",
       "<style scoped>\n",
       "    .dataframe tbody tr th:only-of-type {\n",
       "        vertical-align: middle;\n",
       "    }\n",
       "\n",
       "    .dataframe tbody tr th {\n",
       "        vertical-align: top;\n",
       "    }\n",
       "\n",
       "    .dataframe thead th {\n",
       "        text-align: right;\n",
       "    }\n",
       "</style>\n",
       "<table border=\"1\" class=\"dataframe\">\n",
       "  <thead>\n",
       "    <tr style=\"text-align: right;\">\n",
       "      <th></th>\n",
       "      <th>country</th>\n",
       "      <th>child_mort</th>\n",
       "      <th>exports</th>\n",
       "      <th>health</th>\n",
       "      <th>imports</th>\n",
       "      <th>income</th>\n",
       "      <th>inflation</th>\n",
       "      <th>life_expec</th>\n",
       "      <th>total_fer</th>\n",
       "      <th>gdpp</th>\n",
       "      <th>PC1</th>\n",
       "      <th>PC2</th>\n",
       "      <th>PC3</th>\n",
       "      <th>PC4</th>\n",
       "      <th>ClusterID</th>\n",
       "    </tr>\n",
       "  </thead>\n",
       "  <tbody>\n",
       "    <tr>\n",
       "      <th>0</th>\n",
       "      <td>Afghanistan</td>\n",
       "      <td>1.287660</td>\n",
       "      <td>-0.409779</td>\n",
       "      <td>-0.563346</td>\n",
       "      <td>-0.430979</td>\n",
       "      <td>-0.805822</td>\n",
       "      <td>-0.463617</td>\n",
       "      <td>-1.614237</td>\n",
       "      <td>1.897176</td>\n",
       "      <td>-0.677143</td>\n",
       "      <td>-2.644408</td>\n",
       "      <td>1.575935</td>\n",
       "      <td>-0.249473</td>\n",
       "      <td>-0.261199</td>\n",
       "      <td>0</td>\n",
       "    </tr>\n",
       "    <tr>\n",
       "      <th>3</th>\n",
       "      <td>Angola</td>\n",
       "      <td>2.001787</td>\n",
       "      <td>-0.290501</td>\n",
       "      <td>-0.530767</td>\n",
       "      <td>-0.344915</td>\n",
       "      <td>-0.583289</td>\n",
       "      <td>0.182628</td>\n",
       "      <td>-1.175698</td>\n",
       "      <td>2.121770</td>\n",
       "      <td>-0.514720</td>\n",
       "      <td>-2.417752</td>\n",
       "      <td>2.141078</td>\n",
       "      <td>0.285958</td>\n",
       "      <td>-0.367783</td>\n",
       "      <td>0</td>\n",
       "    </tr>\n",
       "    <tr>\n",
       "      <th>17</th>\n",
       "      <td>Benin</td>\n",
       "      <td>1.803418</td>\n",
       "      <td>-0.402819</td>\n",
       "      <td>-0.569363</td>\n",
       "      <td>-0.428690</td>\n",
       "      <td>-0.794929</td>\n",
       "      <td>-0.503428</td>\n",
       "      <td>-0.984541</td>\n",
       "      <td>1.593315</td>\n",
       "      <td>-0.665958</td>\n",
       "      <td>-2.501027</td>\n",
       "      <td>1.427697</td>\n",
       "      <td>-0.292876</td>\n",
       "      <td>-0.288600</td>\n",
       "      <td>0</td>\n",
       "    </tr>\n",
       "    <tr>\n",
       "      <th>21</th>\n",
       "      <td>Botswana</td>\n",
       "      <td>0.352847</td>\n",
       "      <td>-0.258821</td>\n",
       "      <td>-0.294038</td>\n",
       "      <td>-0.226419</td>\n",
       "      <td>-0.199433</td>\n",
       "      <td>-0.013647</td>\n",
       "      <td>-1.513036</td>\n",
       "      <td>-0.044895</td>\n",
       "      <td>-0.360863</td>\n",
       "      <td>-1.096249</td>\n",
       "      <td>0.490077</td>\n",
       "      <td>0.102767</td>\n",
       "      <td>0.118712</td>\n",
       "      <td>0</td>\n",
       "    </tr>\n",
       "    <tr>\n",
       "      <th>25</th>\n",
       "      <td>Burkina Faso</td>\n",
       "      <td>1.927399</td>\n",
       "      <td>-0.406713</td>\n",
       "      <td>-0.565101</td>\n",
       "      <td>-0.436288</td>\n",
       "      <td>-0.815159</td>\n",
       "      <td>-0.475033</td>\n",
       "      <td>-1.423079</td>\n",
       "      <td>1.930205</td>\n",
       "      <td>-0.675943</td>\n",
       "      <td>-2.791493</td>\n",
       "      <td>1.833528</td>\n",
       "      <td>-0.275499</td>\n",
       "      <td>-0.365727</td>\n",
       "      <td>0</td>\n",
       "    </tr>\n",
       "  </tbody>\n",
       "</table>\n",
       "</div>"
      ],
      "text/plain": [
       "         country  child_mort   exports    health   imports    income  \\\n",
       "0    Afghanistan    1.287660 -0.409779 -0.563346 -0.430979 -0.805822   \n",
       "3         Angola    2.001787 -0.290501 -0.530767 -0.344915 -0.583289   \n",
       "17         Benin    1.803418 -0.402819 -0.569363 -0.428690 -0.794929   \n",
       "21      Botswana    0.352847 -0.258821 -0.294038 -0.226419 -0.199433   \n",
       "25  Burkina Faso    1.927399 -0.406713 -0.565101 -0.436288 -0.815159   \n",
       "\n",
       "    inflation  life_expec  total_fer      gdpp       PC1       PC2       PC3  \\\n",
       "0   -0.463617   -1.614237   1.897176 -0.677143 -2.644408  1.575935 -0.249473   \n",
       "3    0.182628   -1.175698   2.121770 -0.514720 -2.417752  2.141078  0.285958   \n",
       "17  -0.503428   -0.984541   1.593315 -0.665958 -2.501027  1.427697 -0.292876   \n",
       "21  -0.013647   -1.513036  -0.044895 -0.360863 -1.096249  0.490077  0.102767   \n",
       "25  -0.475033   -1.423079   1.930205 -0.675943 -2.791493  1.833528 -0.275499   \n",
       "\n",
       "         PC4  ClusterID  \n",
       "0  -0.261199          0  \n",
       "3  -0.367783          0  \n",
       "17 -0.288600          0  \n",
       "21  0.118712          0  \n",
       "25 -0.365727          0  "
      ]
     },
     "execution_count": 863,
     "metadata": {},
     "output_type": "execute_result"
    }
   ],
   "source": [
    "df5.head()"
   ]
  },
  {
   "cell_type": "code",
   "execution_count": 864,
   "metadata": {},
   "outputs": [
    {
     "data": {
      "text/html": [
       "<div>\n",
       "<style scoped>\n",
       "    .dataframe tbody tr th:only-of-type {\n",
       "        vertical-align: middle;\n",
       "    }\n",
       "\n",
       "    .dataframe tbody tr th {\n",
       "        vertical-align: top;\n",
       "    }\n",
       "\n",
       "    .dataframe thead th {\n",
       "        text-align: right;\n",
       "    }\n",
       "</style>\n",
       "<table border=\"1\" class=\"dataframe\">\n",
       "  <thead>\n",
       "    <tr style=\"text-align: right;\">\n",
       "      <th></th>\n",
       "      <th>country</th>\n",
       "      <th>child_mort</th>\n",
       "      <th>exports</th>\n",
       "      <th>health</th>\n",
       "      <th>imports</th>\n",
       "      <th>income</th>\n",
       "      <th>inflation</th>\n",
       "      <th>life_expec</th>\n",
       "      <th>total_fer</th>\n",
       "      <th>gdpp</th>\n",
       "      <th>PC1</th>\n",
       "      <th>PC2</th>\n",
       "      <th>PC3</th>\n",
       "      <th>PC4</th>\n",
       "      <th>ClusterID</th>\n",
       "    </tr>\n",
       "  </thead>\n",
       "  <tbody>\n",
       "    <tr>\n",
       "      <th>149</th>\n",
       "      <td>Timor-Leste</td>\n",
       "      <td>0.603287</td>\n",
       "      <td>-0.408449</td>\n",
       "      <td>-0.404358</td>\n",
       "      <td>-0.379826</td>\n",
       "      <td>-0.793372</td>\n",
       "      <td>0.325508</td>\n",
       "      <td>0.061206</td>\n",
       "      <td>2.168010</td>\n",
       "      <td>-0.510901</td>\n",
       "      <td>-1.651689</td>\n",
       "      <td>0.916764</td>\n",
       "      <td>0.432019</td>\n",
       "      <td>-0.317656</td>\n",
       "      <td>0</td>\n",
       "    </tr>\n",
       "    <tr>\n",
       "      <th>150</th>\n",
       "      <td>Togo</td>\n",
       "      <td>1.290139</td>\n",
       "      <td>-0.401941</td>\n",
       "      <td>-0.565891</td>\n",
       "      <td>-0.428850</td>\n",
       "      <td>-0.826571</td>\n",
       "      <td>-0.504259</td>\n",
       "      <td>-1.333123</td>\n",
       "      <td>1.269636</td>\n",
       "      <td>-0.680689</td>\n",
       "      <td>-2.384972</td>\n",
       "      <td>1.146577</td>\n",
       "      <td>-0.300756</td>\n",
       "      <td>-0.136465</td>\n",
       "      <td>0</td>\n",
       "    </tr>\n",
       "    <tr>\n",
       "      <th>155</th>\n",
       "      <td>Uganda</td>\n",
       "      <td>1.059536</td>\n",
       "      <td>-0.407195</td>\n",
       "      <td>-0.556855</td>\n",
       "      <td>-0.436290</td>\n",
       "      <td>-0.809453</td>\n",
       "      <td>-0.454108</td>\n",
       "      <td>-1.546770</td>\n",
       "      <td>2.115164</td>\n",
       "      <td>-0.674852</td>\n",
       "      <td>-2.612561</td>\n",
       "      <td>1.541214</td>\n",
       "      <td>-0.228951</td>\n",
       "      <td>-0.277747</td>\n",
       "      <td>0</td>\n",
       "    </tr>\n",
       "    <tr>\n",
       "      <th>165</th>\n",
       "      <td>Yemen</td>\n",
       "      <td>0.447072</td>\n",
       "      <td>-0.390991</td>\n",
       "      <td>-0.548945</td>\n",
       "      <td>-0.417225</td>\n",
       "      <td>-0.656948</td>\n",
       "      <td>-0.238765</td>\n",
       "      <td>-0.343599</td>\n",
       "      <td>1.137523</td>\n",
       "      <td>-0.635842</td>\n",
       "      <td>-1.608573</td>\n",
       "      <td>0.346818</td>\n",
       "      <td>0.000531</td>\n",
       "      <td>-0.010569</td>\n",
       "      <td>0</td>\n",
       "    </tr>\n",
       "    <tr>\n",
       "      <th>166</th>\n",
       "      <td>Zambia</td>\n",
       "      <td>1.111607</td>\n",
       "      <td>-0.382801</td>\n",
       "      <td>-0.538878</td>\n",
       "      <td>-0.417191</td>\n",
       "      <td>-0.719195</td>\n",
       "      <td>-0.330436</td>\n",
       "      <td>-2.086510</td>\n",
       "      <td>1.619738</td>\n",
       "      <td>-0.627658</td>\n",
       "      <td>-2.566169</td>\n",
       "      <td>1.610271</td>\n",
       "      <td>-0.141650</td>\n",
       "      <td>-0.181316</td>\n",
       "      <td>0</td>\n",
       "    </tr>\n",
       "  </tbody>\n",
       "</table>\n",
       "</div>"
      ],
      "text/plain": [
       "         country  child_mort   exports    health   imports    income  \\\n",
       "149  Timor-Leste    0.603287 -0.408449 -0.404358 -0.379826 -0.793372   \n",
       "150         Togo    1.290139 -0.401941 -0.565891 -0.428850 -0.826571   \n",
       "155       Uganda    1.059536 -0.407195 -0.556855 -0.436290 -0.809453   \n",
       "165        Yemen    0.447072 -0.390991 -0.548945 -0.417225 -0.656948   \n",
       "166       Zambia    1.111607 -0.382801 -0.538878 -0.417191 -0.719195   \n",
       "\n",
       "     inflation  life_expec  total_fer      gdpp       PC1       PC2       PC3  \\\n",
       "149   0.325508    0.061206   2.168010 -0.510901 -1.651689  0.916764  0.432019   \n",
       "150  -0.504259   -1.333123   1.269636 -0.680689 -2.384972  1.146577 -0.300756   \n",
       "155  -0.454108   -1.546770   2.115164 -0.674852 -2.612561  1.541214 -0.228951   \n",
       "165  -0.238765   -0.343599   1.137523 -0.635842 -1.608573  0.346818  0.000531   \n",
       "166  -0.330436   -2.086510   1.619738 -0.627658 -2.566169  1.610271 -0.141650   \n",
       "\n",
       "          PC4  ClusterID  \n",
       "149 -0.317656          0  \n",
       "150 -0.136465          0  \n",
       "155 -0.277747          0  \n",
       "165 -0.010569          0  \n",
       "166 -0.181316          0  "
      ]
     },
     "execution_count": 864,
     "metadata": {},
     "output_type": "execute_result"
    }
   ],
   "source": [
    "df5.tail()"
   ]
  },
  {
   "cell_type": "markdown",
   "metadata": {},
   "source": [
    "All these countries require help. So the countries obtained are fairly good."
   ]
  },
  {
   "cell_type": "code",
   "execution_count": 865,
   "metadata": {},
   "outputs": [
    {
     "data": {
      "text/plain": [
       "{'Afghanistan',\n",
       " 'Angola',\n",
       " 'Benin',\n",
       " 'Botswana',\n",
       " 'Burkina Faso',\n",
       " 'Burundi',\n",
       " 'Cameroon',\n",
       " 'Central African Republic',\n",
       " 'Chad',\n",
       " 'Comoros',\n",
       " 'Congo, Dem. Rep.',\n",
       " 'Congo, Rep.',\n",
       " \"Cote d'Ivoire\",\n",
       " 'Eritrea',\n",
       " 'Gabon',\n",
       " 'Gambia',\n",
       " 'Ghana',\n",
       " 'Guinea',\n",
       " 'Guinea-Bissau',\n",
       " 'Haiti',\n",
       " 'Kenya',\n",
       " 'Kiribati',\n",
       " 'Lao',\n",
       " 'Lesotho',\n",
       " 'Liberia',\n",
       " 'Madagascar',\n",
       " 'Malawi',\n",
       " 'Mali',\n",
       " 'Mauritania',\n",
       " 'Mozambique',\n",
       " 'Namibia',\n",
       " 'Niger',\n",
       " 'Nigeria',\n",
       " 'Pakistan',\n",
       " 'Rwanda',\n",
       " 'Senegal',\n",
       " 'Sierra Leone',\n",
       " 'Solomon Islands',\n",
       " 'South Africa',\n",
       " 'Sudan',\n",
       " 'Tanzania',\n",
       " 'Timor-Leste',\n",
       " 'Togo',\n",
       " 'Uganda',\n",
       " 'Yemen',\n",
       " 'Zambia'}"
      ]
     },
     "execution_count": 865,
     "metadata": {},
     "output_type": "execute_result"
    }
   ],
   "source": [
    "country5=set(df5['country'])\n",
    "country5"
   ]
  },
  {
   "cell_type": "markdown",
   "metadata": {},
   "source": [
    "Analyse the countries obtained with k=4 and k=5."
   ]
  },
  {
   "cell_type": "code",
   "execution_count": 866,
   "metadata": {},
   "outputs": [],
   "source": [
    "common=country4.intersection(country5)"
   ]
  },
  {
   "cell_type": "code",
   "execution_count": 867,
   "metadata": {},
   "outputs": [
    {
     "data": {
      "text/plain": [
       "46"
      ]
     },
     "execution_count": 867,
     "metadata": {},
     "output_type": "execute_result"
    }
   ],
   "source": [
    "len(common)"
   ]
  },
  {
   "cell_type": "markdown",
   "metadata": {},
   "source": [
    "country not present in cluster with k=5 but present in k=4"
   ]
  },
  {
   "cell_type": "code",
   "execution_count": 868,
   "metadata": {},
   "outputs": [
    {
     "data": {
      "text/plain": [
       "{'Equatorial Guinea'}"
      ]
     },
     "execution_count": 868,
     "metadata": {},
     "output_type": "execute_result"
    }
   ],
   "source": [
    "country4-common"
   ]
  },
  {
   "cell_type": "code",
   "execution_count": 869,
   "metadata": {},
   "outputs": [
    {
     "data": {
      "text/html": [
       "<div>\n",
       "<style scoped>\n",
       "    .dataframe tbody tr th:only-of-type {\n",
       "        vertical-align: middle;\n",
       "    }\n",
       "\n",
       "    .dataframe tbody tr th {\n",
       "        vertical-align: top;\n",
       "    }\n",
       "\n",
       "    .dataframe thead th {\n",
       "        text-align: right;\n",
       "    }\n",
       "</style>\n",
       "<table border=\"1\" class=\"dataframe\">\n",
       "  <thead>\n",
       "    <tr style=\"text-align: right;\">\n",
       "      <th></th>\n",
       "      <th>country</th>\n",
       "      <th>child_mort</th>\n",
       "      <th>exports</th>\n",
       "      <th>health</th>\n",
       "      <th>imports</th>\n",
       "      <th>income</th>\n",
       "      <th>inflation</th>\n",
       "      <th>life_expec</th>\n",
       "      <th>total_fer</th>\n",
       "      <th>gdpp</th>\n",
       "      <th>PC1</th>\n",
       "      <th>PC2</th>\n",
       "      <th>PC3</th>\n",
       "      <th>PC4</th>\n",
       "      <th>ClusterID</th>\n",
       "    </tr>\n",
       "  </thead>\n",
       "  <tbody>\n",
       "    <tr>\n",
       "      <th>49</th>\n",
       "      <td>Equatorial Guinea</td>\n",
       "      <td>1.803418</td>\n",
       "      <td>0.403429</td>\n",
       "      <td>-0.161348</td>\n",
       "      <td>0.236802</td>\n",
       "      <td>0.858764</td>\n",
       "      <td>3.216612</td>\n",
       "      <td>-1.085742</td>\n",
       "      <td>1.49423</td>\n",
       "      <td>0.225648</td>\n",
       "      <td>-0.117133</td>\n",
       "      <td>3.153742</td>\n",
       "      <td>2.79585</td>\n",
       "      <td>-0.005877</td>\n",
       "      <td>4</td>\n",
       "    </tr>\n",
       "  </tbody>\n",
       "</table>\n",
       "</div>"
      ],
      "text/plain": [
       "              country  child_mort   exports    health   imports    income  \\\n",
       "49  Equatorial Guinea    1.803418  0.403429 -0.161348  0.236802  0.858764   \n",
       "\n",
       "    inflation  life_expec  total_fer      gdpp       PC1       PC2      PC3  \\\n",
       "49   3.216612   -1.085742    1.49423  0.225648 -0.117133  3.153742  2.79585   \n",
       "\n",
       "         PC4  ClusterID  \n",
       "49 -0.005877          4  "
      ]
     },
     "execution_count": 869,
     "metadata": {},
     "output_type": "execute_result"
    }
   ],
   "source": [
    "final_df[(final_df.country == \"Equatorial Guinea\")]"
   ]
  },
  {
   "cell_type": "markdown",
   "metadata": {},
   "source": [
    "The results of clustering with k=5 and k=4 are more or less the same. There is only one country (Equitorial Guinea) which is extra in k=4. On analysis it is found that thie scountry does not require the aid as its income and gdpp is much better than the countries in the same cluster. So we take country5 as the set of countries."
   ]
  },
  {
   "cell_type": "markdown",
   "metadata": {},
   "source": [
    "## Hierarchichal Clustering"
   ]
  },
  {
   "cell_type": "code",
   "execution_count": 870,
   "metadata": {},
   "outputs": [
    {
     "data": {
      "image/png": "[encoded data removed]",
      "text/plain": [
       "<Figure size 432x288 with 1 Axes>"
      ]
     },
     "metadata": {
      "needs_background": "light"
     },
     "output_type": "display_data"
    }
   ],
   "source": [
    "mergings = linkage(pcs_df, method = \"single\", metric='euclidean')\n",
    "dendrogram(mergings)\n",
    "plt.show()"
   ]
  },
  {
   "cell_type": "markdown",
   "metadata": {},
   "source": [
    "The dendrogram with single linkage is not very clear. So let us try complete linkage"
   ]
  },
  {
   "cell_type": "code",
   "execution_count": 871,
   "metadata": {},
   "outputs": [
    {
     "data": {
      "image/png": "[encoded data removed]",
      "text/plain": [
       "<Figure size 1080x720 with 1 Axes>"
      ]
     },
     "metadata": {
      "needs_background": "light"
     },
     "output_type": "display_data"
    }
   ],
   "source": [
    "plt.figure(figsize=(15,10))\n",
    "mergings = linkage(pcs_df, method = \"complete\", metric='euclidean')\n",
    "dendrogram(mergings)\n",
    "plt.show()"
   ]
  },
  {
   "cell_type": "markdown",
   "metadata": {},
   "source": [
    "The dendrogram can be cut at 3 or 4. 3 will be too less So taking no of clusters as 4"
   ]
  },
  {
   "cell_type": "code",
   "execution_count": 872,
   "metadata": {},
   "outputs": [],
   "source": [
    "clusterCut = pd.Series(cut_tree(mergings, n_clusters = 4).reshape(-1,))"
   ]
  },
  {
   "cell_type": "code",
   "execution_count": 873,
   "metadata": {},
   "outputs": [],
   "source": [
    "#Add the cluster Id to the df\n",
    "df_hc = pd.concat([f_df, clusterCut.rename('ClusterID')], axis=1)"
   ]
  },
  {
   "cell_type": "code",
   "execution_count": 874,
   "metadata": {},
   "outputs": [
    {
     "data": {
      "text/html": [
       "<div>\n",
       "<style scoped>\n",
       "    .dataframe tbody tr th:only-of-type {\n",
       "        vertical-align: middle;\n",
       "    }\n",
       "\n",
       "    .dataframe tbody tr th {\n",
       "        vertical-align: top;\n",
       "    }\n",
       "\n",
       "    .dataframe thead th {\n",
       "        text-align: right;\n",
       "    }\n",
       "</style>\n",
       "<table border=\"1\" class=\"dataframe\">\n",
       "  <thead>\n",
       "    <tr style=\"text-align: right;\">\n",
       "      <th></th>\n",
       "      <th>country</th>\n",
       "      <th>child_mort</th>\n",
       "      <th>exports</th>\n",
       "      <th>health</th>\n",
       "      <th>imports</th>\n",
       "      <th>income</th>\n",
       "      <th>inflation</th>\n",
       "      <th>life_expec</th>\n",
       "      <th>total_fer</th>\n",
       "      <th>gdpp</th>\n",
       "      <th>PC1</th>\n",
       "      <th>PC2</th>\n",
       "      <th>PC3</th>\n",
       "      <th>PC4</th>\n",
       "      <th>ClusterID</th>\n",
       "    </tr>\n",
       "  </thead>\n",
       "  <tbody>\n",
       "    <tr>\n",
       "      <th>0</th>\n",
       "      <td>Afghanistan</td>\n",
       "      <td>1.287660</td>\n",
       "      <td>-0.409779</td>\n",
       "      <td>-0.563346</td>\n",
       "      <td>-0.430979</td>\n",
       "      <td>-0.805822</td>\n",
       "      <td>-0.463617</td>\n",
       "      <td>-1.614237</td>\n",
       "      <td>1.897176</td>\n",
       "      <td>-0.677143</td>\n",
       "      <td>-2.644408</td>\n",
       "      <td>1.575935</td>\n",
       "      <td>-0.249473</td>\n",
       "      <td>-0.261199</td>\n",
       "      <td>0</td>\n",
       "    </tr>\n",
       "    <tr>\n",
       "      <th>1</th>\n",
       "      <td>Albania</td>\n",
       "      <td>-0.537333</td>\n",
       "      <td>-0.349141</td>\n",
       "      <td>-0.437901</td>\n",
       "      <td>-0.312737</td>\n",
       "      <td>-0.374243</td>\n",
       "      <td>-0.348601</td>\n",
       "      <td>0.645924</td>\n",
       "      <td>-0.857394</td>\n",
       "      <td>-0.484167</td>\n",
       "      <td>-0.163437</td>\n",
       "      <td>-1.435221</td>\n",
       "      <td>-0.092994</td>\n",
       "      <td>0.416566</td>\n",
       "      <td>1</td>\n",
       "    </tr>\n",
       "    <tr>\n",
       "      <th>2</th>\n",
       "      <td>Algeria</td>\n",
       "      <td>-0.272015</td>\n",
       "      <td>-0.317571</td>\n",
       "      <td>-0.483372</td>\n",
       "      <td>-0.352660</td>\n",
       "      <td>-0.220182</td>\n",
       "      <td>0.119046</td>\n",
       "      <td>0.668413</td>\n",
       "      <td>-0.038289</td>\n",
       "      <td>-0.463980</td>\n",
       "      <td>-0.330999</td>\n",
       "      <td>-0.789770</td>\n",
       "      <td>0.373888</td>\n",
       "      <td>0.265957</td>\n",
       "      <td>1</td>\n",
       "    </tr>\n",
       "    <tr>\n",
       "      <th>3</th>\n",
       "      <td>Angola</td>\n",
       "      <td>2.001787</td>\n",
       "      <td>-0.290501</td>\n",
       "      <td>-0.530767</td>\n",
       "      <td>-0.344915</td>\n",
       "      <td>-0.583289</td>\n",
       "      <td>0.182628</td>\n",
       "      <td>-1.175698</td>\n",
       "      <td>2.121770</td>\n",
       "      <td>-0.514720</td>\n",
       "      <td>-2.417752</td>\n",
       "      <td>2.141078</td>\n",
       "      <td>0.285958</td>\n",
       "      <td>-0.367783</td>\n",
       "      <td>0</td>\n",
       "    </tr>\n",
       "    <tr>\n",
       "      <th>4</th>\n",
       "      <td>Antigua and Barbuda</td>\n",
       "      <td>-0.693548</td>\n",
       "      <td>-0.104019</td>\n",
       "      <td>-0.178234</td>\n",
       "      <td>0.040613</td>\n",
       "      <td>0.101427</td>\n",
       "      <td>-0.355568</td>\n",
       "      <td>0.702147</td>\n",
       "      <td>-0.540321</td>\n",
       "      <td>-0.041692</td>\n",
       "      <td>0.469776</td>\n",
       "      <td>-1.021416</td>\n",
       "      <td>-0.205063</td>\n",
       "      <td>0.260684</td>\n",
       "      <td>1</td>\n",
       "    </tr>\n",
       "  </tbody>\n",
       "</table>\n",
       "</div>"
      ],
      "text/plain": [
       "               country  child_mort   exports    health   imports    income  \\\n",
       "0          Afghanistan    1.287660 -0.409779 -0.563346 -0.430979 -0.805822   \n",
       "1              Albania   -0.537333 -0.349141 -0.437901 -0.312737 -0.374243   \n",
       "2              Algeria   -0.272015 -0.317571 -0.483372 -0.352660 -0.220182   \n",
       "3               Angola    2.001787 -0.290501 -0.530767 -0.344915 -0.583289   \n",
       "4  Antigua and Barbuda   -0.693548 -0.104019 -0.178234  0.040613  0.101427   \n",
       "\n",
       "   inflation  life_expec  total_fer      gdpp       PC1       PC2       PC3  \\\n",
       "0  -0.463617   -1.614237   1.897176 -0.677143 -2.644408  1.575935 -0.249473   \n",
       "1  -0.348601    0.645924  -0.857394 -0.484167 -0.163437 -1.435221 -0.092994   \n",
       "2   0.119046    0.668413  -0.038289 -0.463980 -0.330999 -0.789770  0.373888   \n",
       "3   0.182628   -1.175698   2.121770 -0.514720 -2.417752  2.141078  0.285958   \n",
       "4  -0.355568    0.702147  -0.540321 -0.041692  0.469776 -1.021416 -0.205063   \n",
       "\n",
       "        PC4  ClusterID  \n",
       "0 -0.261199          0  \n",
       "1  0.416566          1  \n",
       "2  0.265957          1  \n",
       "3 -0.367783          0  \n",
       "4  0.260684          1  "
      ]
     },
     "execution_count": 874,
     "metadata": {},
     "output_type": "execute_result"
    }
   ],
   "source": [
    "df_hc.head()"
   ]
  },
  {
   "cell_type": "code",
   "execution_count": 875,
   "metadata": {},
   "outputs": [
    {
     "data": {
      "image/png": "[encoded data removed]",
      "text/plain": [
       "<Figure size 576x432 with 1 Axes>"
      ]
     },
     "metadata": {
      "needs_background": "light"
     },
     "output_type": "display_data"
    }
   ],
   "source": [
    "#Analyse the scatter plot\n",
    "%matplotlib inline\n",
    "fig = plt.figure(figsize = (8,6))\n",
    "sns.scatterplot(df_hc['PC1'], df_hc['PC2'], hue=df_hc['ClusterID'], palette=\"Dark2_r\")\n",
    "plt.xlabel('Principal Component 1')\n",
    "plt.ylabel('Principal Component 2')\n",
    "plt.tight_layout()\n",
    "plt.show()"
   ]
  },
  {
   "cell_type": "markdown",
   "metadata": {},
   "source": [
    "Cluster 0 seems to be our choice with low PC1 and high PC2"
   ]
  },
  {
   "cell_type": "code",
   "execution_count": 876,
   "metadata": {},
   "outputs": [
    {
     "data": {
      "text/plain": [
       "22"
      ]
     },
     "execution_count": 876,
     "metadata": {},
     "output_type": "execute_result"
    }
   ],
   "source": [
    "len(final_df[(df_hc['ClusterID']==0)])"
   ]
  },
  {
   "cell_type": "code",
   "execution_count": 877,
   "metadata": {},
   "outputs": [
    {
     "data": {
      "text/plain": [
       "127"
      ]
     },
     "execution_count": 877,
     "metadata": {},
     "output_type": "execute_result"
    }
   ],
   "source": [
    "len(final_df[(df_hc['ClusterID']==1)])"
   ]
  },
  {
   "cell_type": "code",
   "execution_count": 878,
   "metadata": {},
   "outputs": [
    {
     "data": {
      "text/plain": [
       "17"
      ]
     },
     "execution_count": 878,
     "metadata": {},
     "output_type": "execute_result"
    }
   ],
   "source": [
    "len(final_df[(df_hc['ClusterID']==2)])"
   ]
  },
  {
   "cell_type": "code",
   "execution_count": 879,
   "metadata": {},
   "outputs": [
    {
     "data": {
      "text/plain": [
       "1"
      ]
     },
     "execution_count": 879,
     "metadata": {},
     "output_type": "execute_result"
    }
   ],
   "source": [
    "len(final_df[(df_hc['ClusterID']==3)])"
   ]
  },
  {
   "cell_type": "code",
   "execution_count": 880,
   "metadata": {},
   "outputs": [
    {
     "data": {
      "text/html": [
       "<div>\n",
       "<style scoped>\n",
       "    .dataframe tbody tr th:only-of-type {\n",
       "        vertical-align: middle;\n",
       "    }\n",
       "\n",
       "    .dataframe tbody tr th {\n",
       "        vertical-align: top;\n",
       "    }\n",
       "\n",
       "    .dataframe thead th {\n",
       "        text-align: right;\n",
       "    }\n",
       "</style>\n",
       "<table border=\"1\" class=\"dataframe\">\n",
       "  <thead>\n",
       "    <tr style=\"text-align: right;\">\n",
       "      <th></th>\n",
       "      <th>country</th>\n",
       "      <th>child_mort</th>\n",
       "      <th>exports</th>\n",
       "      <th>health</th>\n",
       "      <th>imports</th>\n",
       "      <th>income</th>\n",
       "      <th>inflation</th>\n",
       "      <th>life_expec</th>\n",
       "      <th>total_fer</th>\n",
       "      <th>gdpp</th>\n",
       "      <th>PC1</th>\n",
       "      <th>PC2</th>\n",
       "      <th>PC3</th>\n",
       "      <th>PC4</th>\n",
       "      <th>ClusterID</th>\n",
       "    </tr>\n",
       "  </thead>\n",
       "  <tbody>\n",
       "    <tr>\n",
       "      <th>91</th>\n",
       "      <td>Luxembourg</td>\n",
       "      <td>-0.879519</td>\n",
       "      <td>9.810309</td>\n",
       "      <td>3.94234</td>\n",
       "      <td>9.687546</td>\n",
       "      <td>3.867364</td>\n",
       "      <td>2.816798</td>\n",
       "      <td>1.208153</td>\n",
       "      <td>-0.870606</td>\n",
       "      <td>5.021405</td>\n",
       "      <td>13.092921</td>\n",
       "      <td>7.644253</td>\n",
       "      <td>-2.848881</td>\n",
       "      <td>4.08324</td>\n",
       "      <td>2</td>\n",
       "    </tr>\n",
       "  </tbody>\n",
       "</table>\n",
       "</div>"
      ],
      "text/plain": [
       "       country  child_mort   exports   health   imports    income  inflation  \\\n",
       "91  Luxembourg   -0.879519  9.810309  3.94234  9.687546  3.867364   2.816798   \n",
       "\n",
       "    life_expec  total_fer      gdpp        PC1       PC2       PC3      PC4  \\\n",
       "91    1.208153  -0.870606  5.021405  13.092921  7.644253 -2.848881  4.08324   \n",
       "\n",
       "    ClusterID  \n",
       "91          2  "
      ]
     },
     "execution_count": 880,
     "metadata": {},
     "output_type": "execute_result"
    }
   ],
   "source": [
    "final_df[(df_hc['ClusterID']==3)]"
   ]
  },
  {
   "cell_type": "markdown",
   "metadata": {},
   "source": [
    "Luxembourg is an outlier and has been clustered seperately."
   ]
  },
  {
   "cell_type": "markdown",
   "metadata": {},
   "source": [
    "Take the mean of the PCs and some original features, cluster wise"
   ]
  },
  {
   "cell_type": "code",
   "execution_count": 881,
   "metadata": {},
   "outputs": [],
   "source": [
    "hc_clust_PC1 = pd.DataFrame(df_hc.groupby([\"ClusterID\"]).PC1.mean())\n",
    "hc_clust_PC2 = pd.DataFrame(df_hc.groupby([\"ClusterID\"]).PC2.mean())\n",
    "hc_clust_PC3 = pd.DataFrame(df_hc.groupby([\"ClusterID\"]).PC3.mean())\n",
    "hc_clust_PC4 = pd.DataFrame(df_hc.groupby([\"ClusterID\"]).PC4.mean())\n",
    "hc_clust_child_mort = pd.DataFrame(df_hc.groupby([\"ClusterID\"]).child_mort.mean())\n",
    "hc_clust_health = pd.DataFrame(df_hc.groupby([\"ClusterID\"]).health.mean())\n",
    "hc_clust_total_fer =  pd.DataFrame(df_hc.groupby([\"ClusterID\"]).total_fer.mean())\n",
    "hc_clust_income = pd.DataFrame(df_hc.groupby([\"ClusterID\"]).income.mean())\n",
    "hc_clust_life_expec = pd.DataFrame(df_hc.groupby([\"ClusterID\"]).life_expec.mean())"
   ]
  },
  {
   "cell_type": "code",
   "execution_count": 882,
   "metadata": {},
   "outputs": [
    {
     "data": {
      "text/html": [
       "<div>\n",
       "<style scoped>\n",
       "    .dataframe tbody tr th:only-of-type {\n",
       "        vertical-align: middle;\n",
       "    }\n",
       "\n",
       "    .dataframe tbody tr th {\n",
       "        vertical-align: top;\n",
       "    }\n",
       "\n",
       "    .dataframe thead th {\n",
       "        text-align: right;\n",
       "    }\n",
       "</style>\n",
       "<table border=\"1\" class=\"dataframe\">\n",
       "  <thead>\n",
       "    <tr style=\"text-align: right;\">\n",
       "      <th></th>\n",
       "      <th>ClusterID</th>\n",
       "      <th>PC1_mean</th>\n",
       "      <th>PC2_mean</th>\n",
       "      <th>PC3_mean</th>\n",
       "      <th>PC4_mean</th>\n",
       "    </tr>\n",
       "  </thead>\n",
       "  <tbody>\n",
       "    <tr>\n",
       "      <th>0</th>\n",
       "      <td>0</td>\n",
       "      <td>-2.805182</td>\n",
       "      <td>1.942641</td>\n",
       "      <td>-0.175192</td>\n",
       "      <td>-0.319168</td>\n",
       "    </tr>\n",
       "    <tr>\n",
       "      <th>1</th>\n",
       "      <td>1</td>\n",
       "      <td>-0.178107</td>\n",
       "      <td>-0.469262</td>\n",
       "      <td>0.110149</td>\n",
       "      <td>0.163919</td>\n",
       "    </tr>\n",
       "    <tr>\n",
       "      <th>2</th>\n",
       "      <td>2</td>\n",
       "      <td>4.190628</td>\n",
       "      <td>0.541994</td>\n",
       "      <td>-0.428581</td>\n",
       "      <td>-1.051720</td>\n",
       "    </tr>\n",
       "    <tr>\n",
       "      <th>3</th>\n",
       "      <td>3</td>\n",
       "      <td>13.092921</td>\n",
       "      <td>7.644253</td>\n",
       "      <td>-2.848881</td>\n",
       "      <td>4.083240</td>\n",
       "    </tr>\n",
       "  </tbody>\n",
       "</table>\n",
       "</div>"
      ],
      "text/plain": [
       "   ClusterID   PC1_mean  PC2_mean  PC3_mean  PC4_mean\n",
       "0          0  -2.805182  1.942641 -0.175192 -0.319168\n",
       "1          1  -0.178107 -0.469262  0.110149  0.163919\n",
       "2          2   4.190628  0.541994 -0.428581 -1.051720\n",
       "3          3  13.092921  7.644253 -2.848881  4.083240"
      ]
     },
     "execution_count": 882,
     "metadata": {},
     "output_type": "execute_result"
    }
   ],
   "source": [
    "df3 = pd.concat([pd.Series([0,1,2,3]), hc_clust_PC1, hc_clust_PC2,hc_clust_PC3,hc_clust_PC4], axis=1)\n",
    "df3.columns = [\"ClusterID\", \"PC1_mean\", \"PC2_mean\",\"PC3_mean\",\"PC4_mean\"]\n",
    "df3"
   ]
  },
  {
   "cell_type": "code",
   "execution_count": 883,
   "metadata": {},
   "outputs": [
    {
     "data": {
      "text/html": [
       "<div>\n",
       "<style scoped>\n",
       "    .dataframe tbody tr th:only-of-type {\n",
       "        vertical-align: middle;\n",
       "    }\n",
       "\n",
       "    .dataframe tbody tr th {\n",
       "        vertical-align: top;\n",
       "    }\n",
       "\n",
       "    .dataframe thead th {\n",
       "        text-align: right;\n",
       "    }\n",
       "</style>\n",
       "<table border=\"1\" class=\"dataframe\">\n",
       "  <thead>\n",
       "    <tr style=\"text-align: right;\">\n",
       "      <th></th>\n",
       "      <th>ClusterID</th>\n",
       "      <th>child_mort_mean</th>\n",
       "      <th>health_mean</th>\n",
       "      <th>total_fer_mean</th>\n",
       "      <th>income_mean</th>\n",
       "      <th>life_expec_mean</th>\n",
       "    </tr>\n",
       "  </thead>\n",
       "  <tbody>\n",
       "    <tr>\n",
       "      <th>0</th>\n",
       "      <td>0</td>\n",
       "      <td>1.981612</td>\n",
       "      <td>-0.558224</td>\n",
       "      <td>1.737139</td>\n",
       "      <td>-0.788933</td>\n",
       "      <td>-1.743039</td>\n",
       "    </tr>\n",
       "    <tr>\n",
       "      <th>1</th>\n",
       "      <td>1</td>\n",
       "      <td>-0.224121</td>\n",
       "      <td>-0.241889</td>\n",
       "      <td>-0.192873</td>\n",
       "      <td>-0.127923</td>\n",
       "      <td>0.138324</td>\n",
       "    </tr>\n",
       "    <tr>\n",
       "      <th>2</th>\n",
       "      <td>2</td>\n",
       "      <td>-0.838387</td>\n",
       "      <td>2.297561</td>\n",
       "      <td>-0.755977</td>\n",
       "      <td>1.749139</td>\n",
       "      <td>1.151269</td>\n",
       "    </tr>\n",
       "    <tr>\n",
       "      <th>3</th>\n",
       "      <td>3</td>\n",
       "      <td>-0.879519</td>\n",
       "      <td>3.942340</td>\n",
       "      <td>-0.870606</td>\n",
       "      <td>3.867364</td>\n",
       "      <td>1.208153</td>\n",
       "    </tr>\n",
       "  </tbody>\n",
       "</table>\n",
       "</div>"
      ],
      "text/plain": [
       "   ClusterID  child_mort_mean  health_mean  total_fer_mean  income_mean  \\\n",
       "0          0         1.981612    -0.558224        1.737139    -0.788933   \n",
       "1          1        -0.224121    -0.241889       -0.192873    -0.127923   \n",
       "2          2        -0.838387     2.297561       -0.755977     1.749139   \n",
       "3          3        -0.879519     3.942340       -0.870606     3.867364   \n",
       "\n",
       "   life_expec_mean  \n",
       "0        -1.743039  \n",
       "1         0.138324  \n",
       "2         1.151269  \n",
       "3         1.208153  "
      ]
     },
     "execution_count": 883,
     "metadata": {},
     "output_type": "execute_result"
    }
   ],
   "source": [
    "df4 = pd.concat([pd.Series([0,1,2,3]),hc_clust_child_mort,hc_clust_health,hc_clust_total_fer,hc_clust_income,hc_clust_life_expec], axis=1)\n",
    "df4.columns = [\"ClusterID\",\"child_mort_mean\",\"health_mean\",\"total_fer_mean\",\"income_mean\",\"life_expec_mean\"]\n",
    "df4"
   ]
  },
  {
   "cell_type": "markdown",
   "metadata": {},
   "source": [
    "#### Plot the various mean values to choose the Cluster"
   ]
  },
  {
   "cell_type": "code",
   "execution_count": 884,
   "metadata": {},
   "outputs": [
    {
     "data": {
      "text/plain": [
       "<matplotlib.axes._subplots.AxesSubplot at 0xc80159b6d8>"
      ]
     },
     "execution_count": 884,
     "metadata": {},
     "output_type": "execute_result"
    },
    {
     "data": {
      "image/png": "[encoded data removed]",
      "text/plain": [
       "<Figure size 432x288 with 1 Axes>"
      ]
     },
     "metadata": {
      "needs_background": "light"
     },
     "output_type": "display_data"
    }
   ],
   "source": [
    "sns.barplot(x=df3.ClusterID, y=df3.PC1_mean)"
   ]
  },
  {
   "cell_type": "code",
   "execution_count": 885,
   "metadata": {},
   "outputs": [
    {
     "data": {
      "text/plain": [
       "<matplotlib.axes._subplots.AxesSubplot at 0xc8014941d0>"
      ]
     },
     "execution_count": 885,
     "metadata": {},
     "output_type": "execute_result"
    },
    {
     "data": {
      "image/png": "[encoded data removed]",
      "text/plain": [
       "<Figure size 432x288 with 1 Axes>"
      ]
     },
     "metadata": {
      "needs_background": "light"
     },
     "output_type": "display_data"
    }
   ],
   "source": [
    "sns.barplot(x=df3.ClusterID, y=df3.PC2_mean)"
   ]
  },
  {
   "cell_type": "code",
   "execution_count": 886,
   "metadata": {},
   "outputs": [
    {
     "data": {
      "text/plain": [
       "<matplotlib.axes._subplots.AxesSubplot at 0xc800fe34a8>"
      ]
     },
     "execution_count": 886,
     "metadata": {},
     "output_type": "execute_result"
    },
    {
     "data": {
      "image/png": "[encoded data removed]",
      "text/plain": [
       "<Figure size 432x288 with 1 Axes>"
      ]
     },
     "metadata": {
      "needs_background": "light"
     },
     "output_type": "display_data"
    }
   ],
   "source": [
    "sns.barplot(x=df3.ClusterID, y=df3.PC3_mean)"
   ]
  },
  {
   "cell_type": "code",
   "execution_count": 887,
   "metadata": {},
   "outputs": [
    {
     "data": {
      "text/plain": [
       "<matplotlib.axes._subplots.AxesSubplot at 0xc87dc736d8>"
      ]
     },
     "execution_count": 887,
     "metadata": {},
     "output_type": "execute_result"
    },
    {
     "data": {
      "image/png": "[encoded data removed]",
      "text/plain": [
       "<Figure size 432x288 with 1 Axes>"
      ]
     },
     "metadata": {
      "needs_background": "light"
     },
     "output_type": "display_data"
    }
   ],
   "source": [
    "sns.barplot(x=df3.ClusterID, y=df3.PC4_mean)"
   ]
  },
  {
   "cell_type": "code",
   "execution_count": 888,
   "metadata": {},
   "outputs": [
    {
     "data": {
      "text/plain": [
       "<matplotlib.axes._subplots.AxesSubplot at 0xc87f8b70b8>"
      ]
     },
     "execution_count": 888,
     "metadata": {},
     "output_type": "execute_result"
    },
    {
     "data": {
      "image/png": "[encoded data removed]",
      "text/plain": [
       "<Figure size 432x288 with 1 Axes>"
      ]
     },
     "metadata": {
      "needs_background": "light"
     },
     "output_type": "display_data"
    }
   ],
   "source": [
    "sns.barplot(x=df4.ClusterID, y=df4.child_mort_mean)"
   ]
  },
  {
   "cell_type": "code",
   "execution_count": 889,
   "metadata": {},
   "outputs": [
    {
     "data": {
      "text/plain": [
       "<matplotlib.axes._subplots.AxesSubplot at 0xc87dcd10f0>"
      ]
     },
     "execution_count": 889,
     "metadata": {},
     "output_type": "execute_result"
    },
    {
     "data": {
      "image/png": "[encoded data removed]",
      "text/plain": [
       "<Figure size 432x288 with 1 Axes>"
      ]
     },
     "metadata": {
      "needs_background": "light"
     },
     "output_type": "display_data"
    }
   ],
   "source": [
    "sns.barplot(x=df4.ClusterID, y=df4.health_mean)"
   ]
  },
  {
   "cell_type": "code",
   "execution_count": 890,
   "metadata": {},
   "outputs": [
    {
     "data": {
      "text/plain": [
       "<matplotlib.axes._subplots.AxesSubplot at 0xc8015f04a8>"
      ]
     },
     "execution_count": 890,
     "metadata": {},
     "output_type": "execute_result"
    },
    {
     "data": {
      "image/png": "[encoded data removed]",
      "text/plain": [
       "<Figure size 432x288 with 1 Axes>"
      ]
     },
     "metadata": {
      "needs_background": "light"
     },
     "output_type": "display_data"
    }
   ],
   "source": [
    "sns.barplot(x=df4.ClusterID, y=df4.total_fer_mean)"
   ]
  },
  {
   "cell_type": "code",
   "execution_count": 891,
   "metadata": {},
   "outputs": [
    {
     "data": {
      "text/plain": [
       "<matplotlib.axes._subplots.AxesSubplot at 0xc80161a128>"
      ]
     },
     "execution_count": 891,
     "metadata": {},
     "output_type": "execute_result"
    },
    {
     "data": {
      "image/png": "[encoded data removed]",
      "text/plain": [
       "<Figure size 432x288 with 1 Axes>"
      ]
     },
     "metadata": {
      "needs_background": "light"
     },
     "output_type": "display_data"
    }
   ],
   "source": [
    "sns.barplot(x=df4.ClusterID, y=df4.income_mean)"
   ]
  },
  {
   "cell_type": "code",
   "execution_count": 892,
   "metadata": {},
   "outputs": [
    {
     "data": {
      "text/plain": [
       "<matplotlib.axes._subplots.AxesSubplot at 0xc8044de748>"
      ]
     },
     "execution_count": 892,
     "metadata": {},
     "output_type": "execute_result"
    },
    {
     "data": {
      "image/png": "[encoded data removed]",
      "text/plain": [
       "<Figure size 432x288 with 1 Axes>"
      ]
     },
     "metadata": {
      "needs_background": "light"
     },
     "output_type": "display_data"
    }
   ],
   "source": [
    "sns.barplot(x=df4.ClusterID, y=df4.life_expec_mean)"
   ]
  },
  {
   "cell_type": "markdown",
   "metadata": {},
   "source": [
    "Cluster 0 has high child_mort and total_fert and low income, health and life_expect. So cluster 0 is most suitable.\n"
   ]
  },
  {
   "cell_type": "code",
   "execution_count": 893,
   "metadata": {},
   "outputs": [],
   "source": [
    "df_help = df_hc[(df_hc.ClusterID==0)]"
   ]
  },
  {
   "cell_type": "code",
   "execution_count": 894,
   "metadata": {},
   "outputs": [
    {
     "data": {
      "text/plain": [
       "22"
      ]
     },
     "execution_count": 894,
     "metadata": {},
     "output_type": "execute_result"
    }
   ],
   "source": [
    "len(df_help)"
   ]
  },
  {
   "cell_type": "code",
   "execution_count": 895,
   "metadata": {},
   "outputs": [],
   "source": [
    "countryhc = set(df_help['country'])"
   ]
  },
  {
   "cell_type": "code",
   "execution_count": 896,
   "metadata": {},
   "outputs": [],
   "source": [
    "com=countryhc.intersection(country5)"
   ]
  },
  {
   "cell_type": "code",
   "execution_count": 897,
   "metadata": {},
   "outputs": [
    {
     "data": {
      "text/plain": [
       "22"
      ]
     },
     "execution_count": 897,
     "metadata": {},
     "output_type": "execute_result"
    }
   ],
   "source": [
    "len(com)"
   ]
  },
  {
   "cell_type": "markdown",
   "metadata": {},
   "source": [
    "countries missing in the cluster obtained through HC are -"
   ]
  },
  {
   "cell_type": "code",
   "execution_count": 898,
   "metadata": {},
   "outputs": [
    {
     "data": {
      "text/plain": [
       "{'Botswana',\n",
       " 'Comoros',\n",
       " 'Congo, Rep.',\n",
       " 'Eritrea',\n",
       " 'Gabon',\n",
       " 'Gambia',\n",
       " 'Ghana',\n",
       " 'Kenya',\n",
       " 'Kiribati',\n",
       " 'Lao',\n",
       " 'Liberia',\n",
       " 'Madagascar',\n",
       " 'Mauritania',\n",
       " 'Namibia',\n",
       " 'Pakistan',\n",
       " 'Rwanda',\n",
       " 'Senegal',\n",
       " 'Solomon Islands',\n",
       " 'South Africa',\n",
       " 'Sudan',\n",
       " 'Tanzania',\n",
       " 'Timor-Leste',\n",
       " 'Togo',\n",
       " 'Yemen'}"
      ]
     },
     "execution_count": 898,
     "metadata": {},
     "output_type": "execute_result"
    }
   ],
   "source": [
    "country5-com"
   ]
  },
  {
   "cell_type": "code",
   "execution_count": 899,
   "metadata": {},
   "outputs": [
    {
     "data": {
      "text/html": [
       "<div>\n",
       "<style scoped>\n",
       "    .dataframe tbody tr th:only-of-type {\n",
       "        vertical-align: middle;\n",
       "    }\n",
       "\n",
       "    .dataframe tbody tr th {\n",
       "        vertical-align: top;\n",
       "    }\n",
       "\n",
       "    .dataframe thead th {\n",
       "        text-align: right;\n",
       "    }\n",
       "</style>\n",
       "<table border=\"1\" class=\"dataframe\">\n",
       "  <thead>\n",
       "    <tr style=\"text-align: right;\">\n",
       "      <th></th>\n",
       "      <th>country</th>\n",
       "      <th>child_mort</th>\n",
       "      <th>exports</th>\n",
       "      <th>health</th>\n",
       "      <th>imports</th>\n",
       "      <th>income</th>\n",
       "      <th>inflation</th>\n",
       "      <th>life_expec</th>\n",
       "      <th>total_fer</th>\n",
       "      <th>gdpp</th>\n",
       "      <th>PC1</th>\n",
       "      <th>PC2</th>\n",
       "      <th>PC3</th>\n",
       "      <th>PC4</th>\n",
       "      <th>ClusterID</th>\n",
       "    </tr>\n",
       "  </thead>\n",
       "  <tbody>\n",
       "    <tr>\n",
       "      <th>150</th>\n",
       "      <td>Togo</td>\n",
       "      <td>1.290139</td>\n",
       "      <td>-0.401941</td>\n",
       "      <td>-0.565891</td>\n",
       "      <td>-0.42885</td>\n",
       "      <td>-0.826571</td>\n",
       "      <td>-0.504259</td>\n",
       "      <td>-1.333123</td>\n",
       "      <td>1.269636</td>\n",
       "      <td>-0.680689</td>\n",
       "      <td>-2.384972</td>\n",
       "      <td>1.146577</td>\n",
       "      <td>-0.300756</td>\n",
       "      <td>-0.136465</td>\n",
       "      <td>0</td>\n",
       "    </tr>\n",
       "  </tbody>\n",
       "</table>\n",
       "</div>"
      ],
      "text/plain": [
       "    country  child_mort   exports    health  imports    income  inflation  \\\n",
       "150    Togo    1.290139 -0.401941 -0.565891 -0.42885 -0.826571  -0.504259   \n",
       "\n",
       "     life_expec  total_fer      gdpp       PC1       PC2       PC3       PC4  \\\n",
       "150   -1.333123   1.269636 -0.680689 -2.384972  1.146577 -0.300756 -0.136465   \n",
       "\n",
       "     ClusterID  \n",
       "150          0  "
      ]
     },
     "execution_count": 899,
     "metadata": {},
     "output_type": "execute_result"
    }
   ],
   "source": [
    "final_df[final_df.country == 'Togo']"
   ]
  },
  {
   "cell_type": "code",
   "execution_count": 900,
   "metadata": {},
   "outputs": [
    {
     "data": {
      "text/html": [
       "<div>\n",
       "<style scoped>\n",
       "    .dataframe tbody tr th:only-of-type {\n",
       "        vertical-align: middle;\n",
       "    }\n",
       "\n",
       "    .dataframe tbody tr th {\n",
       "        vertical-align: top;\n",
       "    }\n",
       "\n",
       "    .dataframe thead th {\n",
       "        text-align: right;\n",
       "    }\n",
       "</style>\n",
       "<table border=\"1\" class=\"dataframe\">\n",
       "  <thead>\n",
       "    <tr style=\"text-align: right;\">\n",
       "      <th></th>\n",
       "      <th>country</th>\n",
       "      <th>child_mort</th>\n",
       "      <th>exports</th>\n",
       "      <th>health</th>\n",
       "      <th>imports</th>\n",
       "      <th>income</th>\n",
       "      <th>inflation</th>\n",
       "      <th>life_expec</th>\n",
       "      <th>total_fer</th>\n",
       "      <th>gdpp</th>\n",
       "      <th>PC1</th>\n",
       "      <th>PC2</th>\n",
       "      <th>PC3</th>\n",
       "      <th>PC4</th>\n",
       "      <th>ClusterID</th>\n",
       "    </tr>\n",
       "  </thead>\n",
       "  <tbody>\n",
       "    <tr>\n",
       "      <th>116</th>\n",
       "      <td>Pakistan</td>\n",
       "      <td>1.334772</td>\n",
       "      <td>-0.405044</td>\n",
       "      <td>-0.573914</td>\n",
       "      <td>-0.434143</td>\n",
       "      <td>-0.667323</td>\n",
       "      <td>-0.410101</td>\n",
       "      <td>-0.59098</td>\n",
       "      <td>0.595857</td>\n",
       "      <td>-0.650573</td>\n",
       "      <td>-1.86858</td>\n",
       "      <td>0.577866</td>\n",
       "      <td>-0.179775</td>\n",
       "      <td>-0.034006</td>\n",
       "      <td>0</td>\n",
       "    </tr>\n",
       "  </tbody>\n",
       "</table>\n",
       "</div>"
      ],
      "text/plain": [
       "      country  child_mort   exports    health   imports    income  inflation  \\\n",
       "116  Pakistan    1.334772 -0.405044 -0.573914 -0.434143 -0.667323  -0.410101   \n",
       "\n",
       "     life_expec  total_fer      gdpp      PC1       PC2       PC3       PC4  \\\n",
       "116    -0.59098   0.595857 -0.650573 -1.86858  0.577866 -0.179775 -0.034006   \n",
       "\n",
       "     ClusterID  \n",
       "116          0  "
      ]
     },
     "execution_count": 900,
     "metadata": {},
     "output_type": "execute_result"
    }
   ],
   "source": [
    "final_df[final_df.country == 'Pakistan']"
   ]
  },
  {
   "cell_type": "code",
   "execution_count": 901,
   "metadata": {},
   "outputs": [
    {
     "data": {
      "text/html": [
       "<div>\n",
       "<style scoped>\n",
       "    .dataframe tbody tr th:only-of-type {\n",
       "        vertical-align: middle;\n",
       "    }\n",
       "\n",
       "    .dataframe tbody tr th {\n",
       "        vertical-align: top;\n",
       "    }\n",
       "\n",
       "    .dataframe thead th {\n",
       "        text-align: right;\n",
       "    }\n",
       "</style>\n",
       "<table border=\"1\" class=\"dataframe\">\n",
       "  <thead>\n",
       "    <tr style=\"text-align: right;\">\n",
       "      <th></th>\n",
       "      <th>child_mort</th>\n",
       "      <th>exports</th>\n",
       "      <th>health</th>\n",
       "      <th>imports</th>\n",
       "      <th>income</th>\n",
       "      <th>inflation</th>\n",
       "      <th>life_expec</th>\n",
       "      <th>total_fer</th>\n",
       "      <th>gdpp</th>\n",
       "      <th>PC1</th>\n",
       "      <th>PC2</th>\n",
       "      <th>PC3</th>\n",
       "      <th>PC4</th>\n",
       "      <th>ClusterID</th>\n",
       "    </tr>\n",
       "  </thead>\n",
       "  <tbody>\n",
       "    <tr>\n",
       "      <th>count</th>\n",
       "      <td>46.000000</td>\n",
       "      <td>46.000000</td>\n",
       "      <td>46.000000</td>\n",
       "      <td>46.000000</td>\n",
       "      <td>46.000000</td>\n",
       "      <td>46.000000</td>\n",
       "      <td>46.000000</td>\n",
       "      <td>46.000000</td>\n",
       "      <td>46.000000</td>\n",
       "      <td>46.000000</td>\n",
       "      <td>46.000000</td>\n",
       "      <td>46.000000</td>\n",
       "      <td>46.000000</td>\n",
       "      <td>46.0</td>\n",
       "    </tr>\n",
       "    <tr>\n",
       "      <th>mean</th>\n",
       "      <td>1.341672</td>\n",
       "      <td>-0.381711</td>\n",
       "      <td>-0.533916</td>\n",
       "      <td>-0.406346</td>\n",
       "      <td>-0.730705</td>\n",
       "      <td>-0.317487</td>\n",
       "      <td>-1.295967</td>\n",
       "      <td>1.353356</td>\n",
       "      <td>-0.624240</td>\n",
       "      <td>-2.289432</td>\n",
       "      <td>1.279428</td>\n",
       "      <td>-0.136272</td>\n",
       "      <td>-0.174344</td>\n",
       "      <td>0.0</td>\n",
       "    </tr>\n",
       "    <tr>\n",
       "      <th>std</th>\n",
       "      <td>0.842603</td>\n",
       "      <td>0.054217</td>\n",
       "      <td>0.072888</td>\n",
       "      <td>0.049109</td>\n",
       "      <td>0.167759</td>\n",
       "      <td>0.382717</td>\n",
       "      <td>0.720574</td>\n",
       "      <td>0.697889</td>\n",
       "      <td>0.102239</td>\n",
       "      <td>0.619485</td>\n",
       "      <td>0.754258</td>\n",
       "      <td>0.337675</td>\n",
       "      <td>0.190179</td>\n",
       "      <td>0.0</td>\n",
       "    </tr>\n",
       "    <tr>\n",
       "      <th>min</th>\n",
       "      <td>-0.252178</td>\n",
       "      <td>-0.411709</td>\n",
       "      <td>-0.579498</td>\n",
       "      <td>-0.441702</td>\n",
       "      <td>-0.857746</td>\n",
       "      <td>-0.504259</td>\n",
       "      <td>-4.324181</td>\n",
       "      <td>-0.236460</td>\n",
       "      <td>-0.694711</td>\n",
       "      <td>-3.962651</td>\n",
       "      <td>0.081083</td>\n",
       "      <td>-0.452650</td>\n",
       "      <td>-0.596090</td>\n",
       "      <td>0.0</td>\n",
       "    </tr>\n",
       "    <tr>\n",
       "      <th>1%</th>\n",
       "      <td>0.020083</td>\n",
       "      <td>-0.411647</td>\n",
       "      <td>-0.578811</td>\n",
       "      <td>-0.441037</td>\n",
       "      <td>-0.855622</td>\n",
       "      <td>-0.503885</td>\n",
       "      <td>-3.595532</td>\n",
       "      <td>-0.150256</td>\n",
       "      <td>-0.692354</td>\n",
       "      <td>-3.678673</td>\n",
       "      <td>0.165014</td>\n",
       "      <td>-0.410831</td>\n",
       "      <td>-0.587648</td>\n",
       "      <td>0.0</td>\n",
       "    </tr>\n",
       "    <tr>\n",
       "      <th>5%</th>\n",
       "      <td>0.391901</td>\n",
       "      <td>-0.409890</td>\n",
       "      <td>-0.576732</td>\n",
       "      <td>-0.439493</td>\n",
       "      <td>-0.849058</td>\n",
       "      <td>-0.501513</td>\n",
       "      <td>-2.466014</td>\n",
       "      <td>0.158230</td>\n",
       "      <td>-0.688901</td>\n",
       "      <td>-3.192723</td>\n",
       "      <td>0.364982</td>\n",
       "      <td>-0.339313</td>\n",
       "      <td>-0.511182</td>\n",
       "      <td>0.0</td>\n",
       "    </tr>\n",
       "    <tr>\n",
       "      <th>25%</th>\n",
       "      <td>0.631803</td>\n",
       "      <td>-0.407174</td>\n",
       "      <td>-0.568488</td>\n",
       "      <td>-0.434752</td>\n",
       "      <td>-0.817234</td>\n",
       "      <td>-0.486661</td>\n",
       "      <td>-1.572070</td>\n",
       "      <td>0.962472</td>\n",
       "      <td>-0.677389</td>\n",
       "      <td>-2.673121</td>\n",
       "      <td>0.625447</td>\n",
       "      <td>-0.281214</td>\n",
       "      <td>-0.287061</td>\n",
       "      <td>0.0</td>\n",
       "    </tr>\n",
       "    <tr>\n",
       "      <th>50%</th>\n",
       "      <td>1.276501</td>\n",
       "      <td>-0.402380</td>\n",
       "      <td>-0.559566</td>\n",
       "      <td>-0.426523</td>\n",
       "      <td>-0.794151</td>\n",
       "      <td>-0.459756</td>\n",
       "      <td>-1.254411</td>\n",
       "      <td>1.391842</td>\n",
       "      <td>-0.661866</td>\n",
       "      <td>-2.320047</td>\n",
       "      <td>1.115753</td>\n",
       "      <td>-0.250706</td>\n",
       "      <td>-0.181140</td>\n",
       "      <td>0.0</td>\n",
       "    </tr>\n",
       "    <tr>\n",
       "      <th>75%</th>\n",
       "      <td>1.803418</td>\n",
       "      <td>-0.388007</td>\n",
       "      <td>-0.541322</td>\n",
       "      <td>-0.407651</td>\n",
       "      <td>-0.717639</td>\n",
       "      <td>-0.334732</td>\n",
       "      <td>-0.888962</td>\n",
       "      <td>1.799743</td>\n",
       "      <td>-0.635842</td>\n",
       "      <td>-1.873907</td>\n",
       "      <td>1.685464</td>\n",
       "      <td>-0.151181</td>\n",
       "      <td>-0.000410</td>\n",
       "      <td>0.0</td>\n",
       "    </tr>\n",
       "    <tr>\n",
       "      <th>95%</th>\n",
       "      <td>2.764267</td>\n",
       "      <td>-0.276906</td>\n",
       "      <td>-0.394548</td>\n",
       "      <td>-0.318057</td>\n",
       "      <td>-0.312775</td>\n",
       "      <td>0.289788</td>\n",
       "      <td>-0.377333</td>\n",
       "      <td>2.377740</td>\n",
       "      <td>-0.376685</td>\n",
       "      <td>-1.257156</td>\n",
       "      <td>2.476863</td>\n",
       "      <td>0.395504</td>\n",
       "      <td>0.103572</td>\n",
       "      <td>0.0</td>\n",
       "    </tr>\n",
       "    <tr>\n",
       "      <th>99%</th>\n",
       "      <td>3.673044</td>\n",
       "      <td>-0.189049</td>\n",
       "      <td>-0.256246</td>\n",
       "      <td>-0.229699</td>\n",
       "      <td>-0.139521</td>\n",
       "      <td>1.228905</td>\n",
       "      <td>-0.085536</td>\n",
       "      <td>2.732796</td>\n",
       "      <td>-0.266012</td>\n",
       "      <td>-1.031889</td>\n",
       "      <td>3.009917</td>\n",
       "      <td>1.223505</td>\n",
       "      <td>0.141674</td>\n",
       "      <td>0.0</td>\n",
       "    </tr>\n",
       "    <tr>\n",
       "      <th>max</th>\n",
       "      <td>4.208640</td>\n",
       "      <td>-0.131962</td>\n",
       "      <td>-0.225324</td>\n",
       "      <td>-0.226419</td>\n",
       "      <td>-0.090501</td>\n",
       "      <td>1.611143</td>\n",
       "      <td>0.061206</td>\n",
       "      <td>3.000326</td>\n",
       "      <td>-0.229921</td>\n",
       "      <td>-0.979230</td>\n",
       "      <td>3.364705</td>\n",
       "      <td>1.529682</td>\n",
       "      <td>0.160461</td>\n",
       "      <td>0.0</td>\n",
       "    </tr>\n",
       "  </tbody>\n",
       "</table>\n",
       "</div>"
      ],
      "text/plain": [
       "       child_mort    exports     health    imports     income  inflation  \\\n",
       "count   46.000000  46.000000  46.000000  46.000000  46.000000  46.000000   \n",
       "mean     1.341672  -0.381711  -0.533916  -0.406346  -0.730705  -0.317487   \n",
       "std      0.842603   0.054217   0.072888   0.049109   0.167759   0.382717   \n",
       "min     -0.252178  -0.411709  -0.579498  -0.441702  -0.857746  -0.504259   \n",
       "1%       0.020083  -0.411647  -0.578811  -0.441037  -0.855622  -0.503885   \n",
       "5%       0.391901  -0.409890  -0.576732  -0.439493  -0.849058  -0.501513   \n",
       "25%      0.631803  -0.407174  -0.568488  -0.434752  -0.817234  -0.486661   \n",
       "50%      1.276501  -0.402380  -0.559566  -0.426523  -0.794151  -0.459756   \n",
       "75%      1.803418  -0.388007  -0.541322  -0.407651  -0.717639  -0.334732   \n",
       "95%      2.764267  -0.276906  -0.394548  -0.318057  -0.312775   0.289788   \n",
       "99%      3.673044  -0.189049  -0.256246  -0.229699  -0.139521   1.228905   \n",
       "max      4.208640  -0.131962  -0.225324  -0.226419  -0.090501   1.611143   \n",
       "\n",
       "       life_expec  total_fer       gdpp        PC1        PC2        PC3  \\\n",
       "count   46.000000  46.000000  46.000000  46.000000  46.000000  46.000000   \n",
       "mean    -1.295967   1.353356  -0.624240  -2.289432   1.279428  -0.136272   \n",
       "std      0.720574   0.697889   0.102239   0.619485   0.754258   0.337675   \n",
       "min     -4.324181  -0.236460  -0.694711  -3.962651   0.081083  -0.452650   \n",
       "1%      -3.595532  -0.150256  -0.692354  -3.678673   0.165014  -0.410831   \n",
       "5%      -2.466014   0.158230  -0.688901  -3.192723   0.364982  -0.339313   \n",
       "25%     -1.572070   0.962472  -0.677389  -2.673121   0.625447  -0.281214   \n",
       "50%     -1.254411   1.391842  -0.661866  -2.320047   1.115753  -0.250706   \n",
       "75%     -0.888962   1.799743  -0.635842  -1.873907   1.685464  -0.151181   \n",
       "95%     -0.377333   2.377740  -0.376685  -1.257156   2.476863   0.395504   \n",
       "99%     -0.085536   2.732796  -0.266012  -1.031889   3.009917   1.223505   \n",
       "max      0.061206   3.000326  -0.229921  -0.979230   3.364705   1.529682   \n",
       "\n",
       "             PC4  ClusterID  \n",
       "count  46.000000       46.0  \n",
       "mean   -0.174344        0.0  \n",
       "std     0.190179        0.0  \n",
       "min    -0.596090        0.0  \n",
       "1%     -0.587648        0.0  \n",
       "5%     -0.511182        0.0  \n",
       "25%    -0.287061        0.0  \n",
       "50%    -0.181140        0.0  \n",
       "75%    -0.000410        0.0  \n",
       "95%     0.103572        0.0  \n",
       "99%     0.141674        0.0  \n",
       "max     0.160461        0.0  "
      ]
     },
     "execution_count": 901,
     "metadata": {},
     "output_type": "execute_result"
    }
   ],
   "source": [
    "df5.describe(percentiles=(.01,.05,.25,.50,.75,.95,.99))"
   ]
  },
  {
   "cell_type": "code",
   "execution_count": 902,
   "metadata": {},
   "outputs": [
    {
     "data": {
      "text/html": [
       "<div>\n",
       "<style scoped>\n",
       "    .dataframe tbody tr th:only-of-type {\n",
       "        vertical-align: middle;\n",
       "    }\n",
       "\n",
       "    .dataframe tbody tr th {\n",
       "        vertical-align: top;\n",
       "    }\n",
       "\n",
       "    .dataframe thead th {\n",
       "        text-align: right;\n",
       "    }\n",
       "</style>\n",
       "<table border=\"1\" class=\"dataframe\">\n",
       "  <thead>\n",
       "    <tr style=\"text-align: right;\">\n",
       "      <th></th>\n",
       "      <th>country</th>\n",
       "      <th>child_mort</th>\n",
       "      <th>exports</th>\n",
       "      <th>health</th>\n",
       "      <th>imports</th>\n",
       "      <th>income</th>\n",
       "      <th>inflation</th>\n",
       "      <th>life_expec</th>\n",
       "      <th>total_fer</th>\n",
       "      <th>gdpp</th>\n",
       "      <th>PC1</th>\n",
       "      <th>PC2</th>\n",
       "      <th>PC3</th>\n",
       "      <th>PC4</th>\n",
       "      <th>ClusterID</th>\n",
       "    </tr>\n",
       "  </thead>\n",
       "  <tbody>\n",
       "    <tr>\n",
       "      <th>21</th>\n",
       "      <td>Botswana</td>\n",
       "      <td>0.352847</td>\n",
       "      <td>-0.258821</td>\n",
       "      <td>-0.294038</td>\n",
       "      <td>-0.226419</td>\n",
       "      <td>-0.199433</td>\n",
       "      <td>-0.013647</td>\n",
       "      <td>-1.513036</td>\n",
       "      <td>-0.044895</td>\n",
       "      <td>-0.360863</td>\n",
       "      <td>-1.096249</td>\n",
       "      <td>0.490077</td>\n",
       "      <td>0.102767</td>\n",
       "      <td>0.118712</td>\n",
       "      <td>0</td>\n",
       "    </tr>\n",
       "    <tr>\n",
       "      <th>136</th>\n",
       "      <td>Solomon Islands</td>\n",
       "      <td>-0.252178</td>\n",
       "      <td>-0.377473</td>\n",
       "      <td>-0.525388</td>\n",
       "      <td>-0.376653</td>\n",
       "      <td>-0.797004</td>\n",
       "      <td>-0.432425</td>\n",
       "      <td>-0.995785</td>\n",
       "      <td>0.853478</td>\n",
       "      <td>-0.636933</td>\n",
       "      <td>-1.598602</td>\n",
       "      <td>0.081083</td>\n",
       "      <td>-0.219766</td>\n",
       "      <td>0.160461</td>\n",
       "      <td>0</td>\n",
       "    </tr>\n",
       "    <tr>\n",
       "      <th>137</th>\n",
       "      <td>South Africa</td>\n",
       "      <td>0.382602</td>\n",
       "      <td>-0.297016</td>\n",
       "      <td>-0.225324</td>\n",
       "      <td>-0.312262</td>\n",
       "      <td>-0.266867</td>\n",
       "      <td>-0.104776</td>\n",
       "      <td>-1.827884</td>\n",
       "      <td>-0.236460</td>\n",
       "      <td>-0.310123</td>\n",
       "      <td>-1.197835</td>\n",
       "      <td>0.487088</td>\n",
       "      <td>0.014299</td>\n",
       "      <td>0.039231</td>\n",
       "      <td>0</td>\n",
       "    </tr>\n",
       "  </tbody>\n",
       "</table>\n",
       "</div>"
      ],
      "text/plain": [
       "             country  child_mort   exports    health   imports    income  \\\n",
       "21          Botswana    0.352847 -0.258821 -0.294038 -0.226419 -0.199433   \n",
       "136  Solomon Islands   -0.252178 -0.377473 -0.525388 -0.376653 -0.797004   \n",
       "137     South Africa    0.382602 -0.297016 -0.225324 -0.312262 -0.266867   \n",
       "\n",
       "     inflation  life_expec  total_fer      gdpp       PC1       PC2       PC3  \\\n",
       "21   -0.013647   -1.513036  -0.044895 -0.360863 -1.096249  0.490077  0.102767   \n",
       "136  -0.432425   -0.995785   0.853478 -0.636933 -1.598602  0.081083 -0.219766   \n",
       "137  -0.104776   -1.827884  -0.236460 -0.310123 -1.197835  0.487088  0.014299   \n",
       "\n",
       "          PC4  ClusterID  \n",
       "21   0.118712          0  \n",
       "136  0.160461          0  \n",
       "137  0.039231          0  "
      ]
     },
     "execution_count": 902,
     "metadata": {},
     "output_type": "execute_result"
    }
   ],
   "source": [
    "q = df5.child_mort.quantile(.05)\n",
    "df5.loc[(df.child_mort<q)]"
   ]
  },
  {
   "cell_type": "code",
   "execution_count": 903,
   "metadata": {},
   "outputs": [
    {
     "data": {
      "text/html": [
       "<div>\n",
       "<style scoped>\n",
       "    .dataframe tbody tr th:only-of-type {\n",
       "        vertical-align: middle;\n",
       "    }\n",
       "\n",
       "    .dataframe tbody tr th {\n",
       "        vertical-align: top;\n",
       "    }\n",
       "\n",
       "    .dataframe thead th {\n",
       "        text-align: right;\n",
       "    }\n",
       "</style>\n",
       "<table border=\"1\" class=\"dataframe\">\n",
       "  <thead>\n",
       "    <tr style=\"text-align: right;\">\n",
       "      <th></th>\n",
       "      <th>country</th>\n",
       "      <th>child_mort</th>\n",
       "      <th>exports</th>\n",
       "      <th>health</th>\n",
       "      <th>imports</th>\n",
       "      <th>income</th>\n",
       "      <th>inflation</th>\n",
       "      <th>life_expec</th>\n",
       "      <th>total_fer</th>\n",
       "      <th>gdpp</th>\n",
       "      <th>PC1</th>\n",
       "      <th>PC2</th>\n",
       "      <th>PC3</th>\n",
       "      <th>PC4</th>\n",
       "      <th>ClusterID</th>\n",
       "    </tr>\n",
       "  </thead>\n",
       "  <tbody>\n",
       "    <tr>\n",
       "      <th>21</th>\n",
       "      <td>Botswana</td>\n",
       "      <td>0.352847</td>\n",
       "      <td>-0.258821</td>\n",
       "      <td>-0.294038</td>\n",
       "      <td>-0.226419</td>\n",
       "      <td>-0.199433</td>\n",
       "      <td>-0.013647</td>\n",
       "      <td>-1.513036</td>\n",
       "      <td>-0.044895</td>\n",
       "      <td>-0.360863</td>\n",
       "      <td>-1.096249</td>\n",
       "      <td>0.490077</td>\n",
       "      <td>0.102767</td>\n",
       "      <td>0.118712</td>\n",
       "      <td>0</td>\n",
       "    </tr>\n",
       "    <tr>\n",
       "      <th>108</th>\n",
       "      <td>Namibia</td>\n",
       "      <td>0.439633</td>\n",
       "      <td>-0.274832</td>\n",
       "      <td>-0.391278</td>\n",
       "      <td>-0.233707</td>\n",
       "      <td>-0.450496</td>\n",
       "      <td>-0.347619</td>\n",
       "      <td>-1.344367</td>\n",
       "      <td>0.430714</td>\n",
       "      <td>-0.424152</td>\n",
       "      <td>-1.435118</td>\n",
       "      <td>0.562388</td>\n",
       "      <td>-0.204044</td>\n",
       "      <td>0.071467</td>\n",
       "      <td>0</td>\n",
       "    </tr>\n",
       "    <tr>\n",
       "      <th>137</th>\n",
       "      <td>South Africa</td>\n",
       "      <td>0.382602</td>\n",
       "      <td>-0.297016</td>\n",
       "      <td>-0.225324</td>\n",
       "      <td>-0.312262</td>\n",
       "      <td>-0.266867</td>\n",
       "      <td>-0.104776</td>\n",
       "      <td>-1.827884</td>\n",
       "      <td>-0.236460</td>\n",
       "      <td>-0.310123</td>\n",
       "      <td>-1.197835</td>\n",
       "      <td>0.487088</td>\n",
       "      <td>0.014299</td>\n",
       "      <td>0.039231</td>\n",
       "      <td>0</td>\n",
       "    </tr>\n",
       "  </tbody>\n",
       "</table>\n",
       "</div>"
      ],
      "text/plain": [
       "          country  child_mort   exports    health   imports    income  \\\n",
       "21       Botswana    0.352847 -0.258821 -0.294038 -0.226419 -0.199433   \n",
       "108       Namibia    0.439633 -0.274832 -0.391278 -0.233707 -0.450496   \n",
       "137  South Africa    0.382602 -0.297016 -0.225324 -0.312262 -0.266867   \n",
       "\n",
       "     inflation  life_expec  total_fer      gdpp       PC1       PC2       PC3  \\\n",
       "21   -0.013647   -1.513036  -0.044895 -0.360863 -1.096249  0.490077  0.102767   \n",
       "108  -0.347619   -1.344367   0.430714 -0.424152 -1.435118  0.562388 -0.204044   \n",
       "137  -0.104776   -1.827884  -0.236460 -0.310123 -1.197835  0.487088  0.014299   \n",
       "\n",
       "          PC4  ClusterID  \n",
       "21   0.118712          0  \n",
       "108  0.071467          0  \n",
       "137  0.039231          0  "
      ]
     },
     "execution_count": 903,
     "metadata": {},
     "output_type": "execute_result"
    }
   ],
   "source": [
    "q = df5.health.quantile(.95)\n",
    "df5.loc[(df.health>=q)]"
   ]
  },
  {
   "cell_type": "code",
   "execution_count": 904,
   "metadata": {},
   "outputs": [
    {
     "data": {
      "text/html": [
       "<div>\n",
       "<style scoped>\n",
       "    .dataframe tbody tr th:only-of-type {\n",
       "        vertical-align: middle;\n",
       "    }\n",
       "\n",
       "    .dataframe tbody tr th {\n",
       "        vertical-align: top;\n",
       "    }\n",
       "\n",
       "    .dataframe thead th {\n",
       "        text-align: right;\n",
       "    }\n",
       "</style>\n",
       "<table border=\"1\" class=\"dataframe\">\n",
       "  <thead>\n",
       "    <tr style=\"text-align: right;\">\n",
       "      <th></th>\n",
       "      <th>country</th>\n",
       "      <th>child_mort</th>\n",
       "      <th>exports</th>\n",
       "      <th>health</th>\n",
       "      <th>imports</th>\n",
       "      <th>income</th>\n",
       "      <th>inflation</th>\n",
       "      <th>life_expec</th>\n",
       "      <th>total_fer</th>\n",
       "      <th>gdpp</th>\n",
       "      <th>PC1</th>\n",
       "      <th>PC2</th>\n",
       "      <th>PC3</th>\n",
       "      <th>PC4</th>\n",
       "      <th>ClusterID</th>\n",
       "    </tr>\n",
       "  </thead>\n",
       "  <tbody>\n",
       "    <tr>\n",
       "      <th>21</th>\n",
       "      <td>Botswana</td>\n",
       "      <td>0.352847</td>\n",
       "      <td>-0.258821</td>\n",
       "      <td>-0.294038</td>\n",
       "      <td>-0.226419</td>\n",
       "      <td>-0.199433</td>\n",
       "      <td>-0.013647</td>\n",
       "      <td>-1.513036</td>\n",
       "      <td>-0.044895</td>\n",
       "      <td>-0.360863</td>\n",
       "      <td>-1.096249</td>\n",
       "      <td>0.490077</td>\n",
       "      <td>0.102767</td>\n",
       "      <td>0.118712</td>\n",
       "      <td>0</td>\n",
       "    </tr>\n",
       "    <tr>\n",
       "      <th>55</th>\n",
       "      <td>Gabon</td>\n",
       "      <td>0.630563</td>\n",
       "      <td>-0.131962</td>\n",
       "      <td>-0.416609</td>\n",
       "      <td>-0.335441</td>\n",
       "      <td>-0.090501</td>\n",
       "      <td>0.761724</td>\n",
       "      <td>-0.860850</td>\n",
       "      <td>0.747787</td>\n",
       "      <td>-0.229921</td>\n",
       "      <td>-0.979230</td>\n",
       "      <td>0.956709</td>\n",
       "      <td>0.849288</td>\n",
       "      <td>0.014858</td>\n",
       "      <td>0</td>\n",
       "    </tr>\n",
       "    <tr>\n",
       "      <th>137</th>\n",
       "      <td>South Africa</td>\n",
       "      <td>0.382602</td>\n",
       "      <td>-0.297016</td>\n",
       "      <td>-0.225324</td>\n",
       "      <td>-0.312262</td>\n",
       "      <td>-0.266867</td>\n",
       "      <td>-0.104776</td>\n",
       "      <td>-1.827884</td>\n",
       "      <td>-0.236460</td>\n",
       "      <td>-0.310123</td>\n",
       "      <td>-1.197835</td>\n",
       "      <td>0.487088</td>\n",
       "      <td>0.014299</td>\n",
       "      <td>0.039231</td>\n",
       "      <td>0</td>\n",
       "    </tr>\n",
       "  </tbody>\n",
       "</table>\n",
       "</div>"
      ],
      "text/plain": [
       "          country  child_mort   exports    health   imports    income  \\\n",
       "21       Botswana    0.352847 -0.258821 -0.294038 -0.226419 -0.199433   \n",
       "55          Gabon    0.630563 -0.131962 -0.416609 -0.335441 -0.090501   \n",
       "137  South Africa    0.382602 -0.297016 -0.225324 -0.312262 -0.266867   \n",
       "\n",
       "     inflation  life_expec  total_fer      gdpp       PC1       PC2       PC3  \\\n",
       "21   -0.013647   -1.513036  -0.044895 -0.360863 -1.096249  0.490077  0.102767   \n",
       "55    0.761724   -0.860850   0.747787 -0.229921 -0.979230  0.956709  0.849288   \n",
       "137  -0.104776   -1.827884  -0.236460 -0.310123 -1.197835  0.487088  0.014299   \n",
       "\n",
       "          PC4  ClusterID  \n",
       "21   0.118712          0  \n",
       "55   0.014858          0  \n",
       "137  0.039231          0  "
      ]
     },
     "execution_count": 904,
     "metadata": {},
     "output_type": "execute_result"
    }
   ],
   "source": [
    "q = df5.income.quantile(.95)\n",
    "df5.loc[(df.income>=q)]"
   ]
  },
  {
   "cell_type": "markdown",
   "metadata": {},
   "source": [
    "The countries which are not present in the cluster obtained by heirarchichal clustering has high child mort and low health, income and life expectancy. Therefore, the group of countries found through Kmeans with k=5 is the best set. So 46 countries listed in country5 needs the aid the most. Out of them, Botswana and South Africa can be put in the 2nd priority list which have comparitively higher income, better health spendings and lower child mortality rate."
   ]
  },
  {
   "cell_type": "code",
   "execution_count": 905,
   "metadata": {},
   "outputs": [
    {
     "data": {
      "text/plain": [
       "{'Afghanistan',\n",
       " 'Angola',\n",
       " 'Benin',\n",
       " 'Botswana',\n",
       " 'Burkina Faso',\n",
       " 'Burundi',\n",
       " 'Cameroon',\n",
       " 'Central African Republic',\n",
       " 'Chad',\n",
       " 'Comoros',\n",
       " 'Congo, Dem. Rep.',\n",
       " 'Congo, Rep.',\n",
       " \"Cote d'Ivoire\",\n",
       " 'Eritrea',\n",
       " 'Gabon',\n",
       " 'Gambia',\n",
       " 'Ghana',\n",
       " 'Guinea',\n",
       " 'Guinea-Bissau',\n",
       " 'Haiti',\n",
       " 'Kenya',\n",
       " 'Kiribati',\n",
       " 'Lao',\n",
       " 'Lesotho',\n",
       " 'Liberia',\n",
       " 'Madagascar',\n",
       " 'Malawi',\n",
       " 'Mali',\n",
       " 'Mauritania',\n",
       " 'Mozambique',\n",
       " 'Namibia',\n",
       " 'Niger',\n",
       " 'Nigeria',\n",
       " 'Pakistan',\n",
       " 'Rwanda',\n",
       " 'Senegal',\n",
       " 'Sierra Leone',\n",
       " 'Solomon Islands',\n",
       " 'South Africa',\n",
       " 'Sudan',\n",
       " 'Tanzania',\n",
       " 'Timor-Leste',\n",
       " 'Togo',\n",
       " 'Uganda',\n",
       " 'Yemen',\n",
       " 'Zambia'}"
      ]
     },
     "execution_count": 905,
     "metadata": {},
     "output_type": "execute_result"
    }
   ],
   "source": [
    "country5"
   ]
  }
 ],
 "metadata": {
  "kernelspec": {
   "display_name": "Python 3",
   "language": "python",
   "name": "python3"
  },
  "language_info": {
   "codemirror_mode": {
    "name": "ipython",
    "version": 3
   },
   "file_extension": ".py",
   "mimetype": "text/x-python",
   "name": "python",
   "nbconvert_exporter": "python",
   "pygments_lexer": "ipython3",
   "version": "3.7.0"
  }
 },
 "nbformat": 4,
 "nbformat_minor": 2
}
